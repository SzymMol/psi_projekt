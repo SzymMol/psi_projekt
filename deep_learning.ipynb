{
 "cells": [
  {
   "cell_type": "markdown",
   "id": "a0ce95b8-e250-4534-8882-58a636bc61b1",
   "metadata": {},
   "source": [
    "# PSI projekt - deep learning"
   ]
  },
  {
   "cell_type": "markdown",
   "id": "11fe7771-2874-45c9-b96a-75bd977d23f1",
   "metadata": {},
   "source": [
    "## Przygotowanie"
   ]
  },
  {
   "cell_type": "code",
   "execution_count": 1,
   "id": "0ab1d05b-ea60-4ce4-8aae-cf462f047620",
   "metadata": {
    "tags": []
   },
   "outputs": [],
   "source": [
    "import pandas as pd               \n",
    "import numpy as np          \n",
    "import matplotlib.pyplot as plt "
   ]
  },
  {
   "cell_type": "code",
   "execution_count": 2,
   "id": "a9a0711f-38fb-49d0-9913-8411afc4ed30",
   "metadata": {
    "tags": []
   },
   "outputs": [],
   "source": [
    "train = pd.read_csv('data/dane_poprawione.csv')"
   ]
  },
  {
   "cell_type": "code",
   "execution_count": 142,
   "id": "43f0fe48-1de7-4852-a9fc-9770be7b2747",
   "metadata": {
    "tags": []
   },
   "outputs": [
    {
     "data": {
      "text/plain": [
       "47231"
      ]
     },
     "execution_count": 142,
     "metadata": {},
     "output_type": "execute_result"
    }
   ],
   "source": [
    "len(train)"
   ]
  },
  {
   "cell_type": "markdown",
   "id": "9e531576-ab84-4b41-bf1e-7c0c45b3624b",
   "metadata": {},
   "source": [
    "Transformuję target na format lepszy dla sieci neuronowych"
   ]
  },
  {
   "cell_type": "code",
   "execution_count": 3,
   "id": "31d77e11-11c3-4acd-afd3-a3bbf6d70d8f",
   "metadata": {
    "tags": []
   },
   "outputs": [
    {
     "data": {
      "text/plain": [
       "array([[0., 0., 1., 0., 0., 0.],\n",
       "       [0., 0., 1., 0., 0., 0.],\n",
       "       [0., 0., 1., 0., 0., 0.],\n",
       "       ...,\n",
       "       [1., 0., 0., 0., 0., 0.],\n",
       "       [0., 0., 1., 0., 0., 0.],\n",
       "       [1., 0., 0., 0., 0., 0.]])"
      ]
     },
     "execution_count": 3,
     "metadata": {},
     "output_type": "execute_result"
    }
   ],
   "source": [
    "from sklearn.preprocessing import OneHotEncoder\n",
    "ohe = OneHotEncoder(sparse_output=False)\n",
    "y = ohe.fit_transform(np.array(train['prod_size']).reshape(-1, 1))\n",
    "y"
   ]
  },
  {
   "cell_type": "code",
   "execution_count": 4,
   "id": "789f79a8-2e26-4096-9e14-771ff6aef453",
   "metadata": {
    "tags": []
   },
   "outputs": [],
   "source": [
    "from sklearn.model_selection import train_test_split\n",
    "from sklearn.metrics import accuracy_score\n",
    "X_train, X_test, y_train, y_test = train_test_split(train.loc[:, train.columns != 'prod_size'], y, random_state=123, test_size=0.20)"
   ]
  },
  {
   "cell_type": "code",
   "execution_count": 5,
   "id": "f5e058b2-1785-4723-8166-a802af53076b",
   "metadata": {
    "tags": []
   },
   "outputs": [],
   "source": [
    "X_train, X_valid, y_train, y_valid = train_test_split(X_train, y_train, random_state=456, test_size=0.20)"
   ]
  },
  {
   "cell_type": "markdown",
   "id": "30627c04-b1f3-443d-99fa-cd8d13d722cb",
   "metadata": {},
   "source": [
    "Dalej są missing data i uzupełniam je teraz za pomocą pipeline z płytkich metod. (Nie będzie wycieku informacji, bo nie zmieniam setów do końca notebooka)"
   ]
  },
  {
   "cell_type": "code",
   "execution_count": 6,
   "id": "e085ffa7-9595-4f1f-9d71-1a981bd88b08",
   "metadata": {
    "tags": []
   },
   "outputs": [
    {
     "data": {
      "text/plain": [
       "com_type                  32\n",
       "x                          0\n",
       "y                          0\n",
       "z                          0\n",
       "Construction               0\n",
       "Copper                     0\n",
       "Gold                       0\n",
       "Iron                       0\n",
       "Lead                       0\n",
       "Sand and Gravel            0\n",
       "Silver                     0\n",
       "Tungsten                   0\n",
       "Uranium                    0\n",
       "Zinc                       0\n",
       "Other_com1                 0\n",
       "x0_Leach                   0\n",
       "x0_Placer                  0\n",
       "x0_Processing Plant        0\n",
       "x0_Surface                 0\n",
       "x0_Surface-Underground     0\n",
       "x0_Underground             0\n",
       "x0_Unknown                 0\n",
       "x0_Well                    0\n",
       "x0_Occurrence              0\n",
       "x0_Past Producer           0\n",
       "x0_Plant                   0\n",
       "x0_Producer                0\n",
       "x0_Prospect                0\n",
       "Chalcocite                 0\n",
       "Chalcopyrite               0\n",
       "Galena                     0\n",
       "Hematite                   0\n",
       "Magnetite                  0\n",
       "Malachite                  0\n",
       "Pyrite                     0\n",
       "Sphalerite                 0\n",
       "Other_ore                  0\n",
       "Andesite                   0\n",
       "Diorite                    0\n",
       "Dolomite                   0\n",
       "Gneiss                     0\n",
       "Granite                    0\n",
       "Gravel                     0\n",
       "Limestone                  0\n",
       "Quartzite                  0\n",
       "Sandstone                  0\n",
       "Schist                     0\n",
       "Shale                      0\n",
       "Other_hrock                0\n",
       "dtype: int64"
      ]
     },
     "execution_count": 6,
     "metadata": {},
     "output_type": "execute_result"
    }
   ],
   "source": [
    "X_train.isna().sum()"
   ]
  },
  {
   "cell_type": "code",
   "execution_count": 7,
   "id": "6f9e64fc-bb63-466c-9b70-57ff8132a0fc",
   "metadata": {
    "tags": []
   },
   "outputs": [
    {
     "data": {
      "text/plain": [
       "com_type                  10\n",
       "x                          0\n",
       "y                          0\n",
       "z                          0\n",
       "Construction               0\n",
       "Copper                     0\n",
       "Gold                       0\n",
       "Iron                       0\n",
       "Lead                       0\n",
       "Sand and Gravel            0\n",
       "Silver                     0\n",
       "Tungsten                   0\n",
       "Uranium                    0\n",
       "Zinc                       0\n",
       "Other_com1                 0\n",
       "x0_Leach                   0\n",
       "x0_Placer                  0\n",
       "x0_Processing Plant        0\n",
       "x0_Surface                 0\n",
       "x0_Surface-Underground     0\n",
       "x0_Underground             0\n",
       "x0_Unknown                 0\n",
       "x0_Well                    0\n",
       "x0_Occurrence              0\n",
       "x0_Past Producer           0\n",
       "x0_Plant                   0\n",
       "x0_Producer                0\n",
       "x0_Prospect                0\n",
       "Chalcocite                 0\n",
       "Chalcopyrite               0\n",
       "Galena                     0\n",
       "Hematite                   0\n",
       "Magnetite                  0\n",
       "Malachite                  0\n",
       "Pyrite                     0\n",
       "Sphalerite                 0\n",
       "Other_ore                  0\n",
       "Andesite                   0\n",
       "Diorite                    0\n",
       "Dolomite                   0\n",
       "Gneiss                     0\n",
       "Granite                    0\n",
       "Gravel                     0\n",
       "Limestone                  0\n",
       "Quartzite                  0\n",
       "Sandstone                  0\n",
       "Schist                     0\n",
       "Shale                      0\n",
       "Other_hrock                0\n",
       "dtype: int64"
      ]
     },
     "execution_count": 7,
     "metadata": {},
     "output_type": "execute_result"
    }
   ],
   "source": [
    "X_valid.isna().sum()"
   ]
  },
  {
   "cell_type": "code",
   "execution_count": 8,
   "id": "e0f9225a-8abc-48f3-a5de-282d2786e5f4",
   "metadata": {
    "tags": []
   },
   "outputs": [
    {
     "data": {
      "text/plain": [
       "com_type                  13\n",
       "x                          0\n",
       "y                          0\n",
       "z                          0\n",
       "Construction               0\n",
       "Copper                     0\n",
       "Gold                       0\n",
       "Iron                       0\n",
       "Lead                       0\n",
       "Sand and Gravel            0\n",
       "Silver                     0\n",
       "Tungsten                   0\n",
       "Uranium                    0\n",
       "Zinc                       0\n",
       "Other_com1                 0\n",
       "x0_Leach                   0\n",
       "x0_Placer                  0\n",
       "x0_Processing Plant        0\n",
       "x0_Surface                 0\n",
       "x0_Surface-Underground     0\n",
       "x0_Underground             0\n",
       "x0_Unknown                 0\n",
       "x0_Well                    0\n",
       "x0_Occurrence              0\n",
       "x0_Past Producer           0\n",
       "x0_Plant                   0\n",
       "x0_Producer                0\n",
       "x0_Prospect                0\n",
       "Chalcocite                 0\n",
       "Chalcopyrite               0\n",
       "Galena                     0\n",
       "Hematite                   0\n",
       "Magnetite                  0\n",
       "Malachite                  0\n",
       "Pyrite                     0\n",
       "Sphalerite                 0\n",
       "Other_ore                  0\n",
       "Andesite                   0\n",
       "Diorite                    0\n",
       "Dolomite                   0\n",
       "Gneiss                     0\n",
       "Granite                    0\n",
       "Gravel                     0\n",
       "Limestone                  0\n",
       "Quartzite                  0\n",
       "Sandstone                  0\n",
       "Schist                     0\n",
       "Shale                      0\n",
       "Other_hrock                0\n",
       "dtype: int64"
      ]
     },
     "execution_count": 8,
     "metadata": {},
     "output_type": "execute_result"
    }
   ],
   "source": [
    "X_test.isna().sum()"
   ]
  },
  {
   "cell_type": "code",
   "execution_count": 9,
   "id": "5bd05f7f-02de-48c7-be3b-6a1f9fe654aa",
   "metadata": {
    "tags": []
   },
   "outputs": [],
   "source": [
    "from sklearn.pipeline import Pipeline\n",
    "from sklearn.impute import SimpleImputer\n",
    "from sklearn.preprocessing import StandardScaler\n",
    "from sklearn.compose import ColumnTransformer"
   ]
  },
  {
   "cell_type": "code",
   "execution_count": 10,
   "id": "661c4873-2772-40c4-9e35-b227251a6178",
   "metadata": {
    "tags": []
   },
   "outputs": [],
   "source": [
    "preprocessor = Pipeline(\n",
    "    [\n",
    "        ('imputer', SimpleImputer(strategy = 'most_frequent')),\n",
    "        ('ct', ColumnTransformer([('ohe', OneHotEncoder(sparse_output=False), [0])], remainder='passthrough')),\n",
    "        ('scaler', StandardScaler())\n",
    "    ])"
   ]
  },
  {
   "cell_type": "code",
   "execution_count": 11,
   "id": "df0d3ffa-c8f8-4264-8522-805336b54e9f",
   "metadata": {
    "tags": []
   },
   "outputs": [],
   "source": [
    "X_train = preprocessor.fit_transform(X_train)\n",
    "X_valid = preprocessor.fit_transform(X_valid)\n",
    "X_test = preprocessor.fit_transform(X_test)"
   ]
  },
  {
   "cell_type": "code",
   "execution_count": 141,
   "id": "af7b8b47-94f7-4bf4-837e-39b7e11e88fa",
   "metadata": {
    "tags": []
   },
   "outputs": [
    {
     "data": {
      "text/plain": [
       "30227"
      ]
     },
     "execution_count": 141,
     "metadata": {},
     "output_type": "execute_result"
    }
   ],
   "source": [
    "len(X_train)"
   ]
  },
  {
   "cell_type": "markdown",
   "id": "259fffc8-a398-4f6a-88f8-96eae566241e",
   "metadata": {},
   "source": [
    "## Sieci neuronowe"
   ]
  },
  {
   "cell_type": "code",
   "execution_count": 12,
   "id": "7217dbbb-aaff-4cab-a682-7949aa29b6e2",
   "metadata": {
    "tags": []
   },
   "outputs": [],
   "source": [
    "from tensorflow import keras\n",
    "from keras.models import Sequential\n",
    "from keras.layers import Dense, Dropout\n",
    "from keras.callbacks import History\n",
    "from keras.callbacks import ModelCheckpoint"
   ]
  },
  {
   "cell_type": "code",
   "execution_count": 76,
   "id": "3e379c5f-6508-4d31-bcb8-a7ffb39684fd",
   "metadata": {
    "tags": []
   },
   "outputs": [],
   "source": [
    "deep_results_test = {}"
   ]
  },
  {
   "cell_type": "markdown",
   "id": "0a1f989f-e59a-4919-9847-fb655e2905ed",
   "metadata": {
    "tags": []
   },
   "source": [
    "### Podejście 1"
   ]
  },
  {
   "cell_type": "code",
   "execution_count": 75,
   "id": "e9fd2814-45ac-486c-8257-15b5c0181b66",
   "metadata": {
    "tags": []
   },
   "outputs": [
    {
     "name": "stdout",
     "output_type": "stream",
     "text": [
      "Model: \"sequential\"\n",
      "_________________________________________________________________\n",
      " Layer (type)                Output Shape              Param #   \n",
      "=================================================================\n",
      " dense (Dense)               (None, 100)               5300      \n",
      "                                                                 \n",
      " dense_1 (Dense)             (None, 20)                2020      \n",
      "                                                                 \n",
      " dense_2 (Dense)             (None, 6)                 126       \n",
      "                                                                 \n",
      "=================================================================\n",
      "Total params: 7,446\n",
      "Trainable params: 7,446\n",
      "Non-trainable params: 0\n",
      "_________________________________________________________________\n"
     ]
    }
   ],
   "source": [
    "keras.backend.clear_session()\n",
    "\n",
    "history = History()\n",
    "model = Sequential()\n",
    "model.add(Dense(100,activation=\"relu\", input_shape=(X_train.shape[1],)))\n",
    "model.add(Dense(20,activation=\"relu\"))\n",
    "model.add(Dense(6,activation=\"softmax\"))\n",
    "model.summary()\n",
    "\n",
    "model.compile(loss=\"categorical_crossentropy\",\n",
    "              optimizer=\"Adam\",\n",
    "              metrics=[\"accuracy\"])"
   ]
  },
  {
   "cell_type": "code",
   "execution_count": 77,
   "id": "381a4f94-3a20-4055-ad07-08c24a27ff2d",
   "metadata": {
    "tags": []
   },
   "outputs": [
    {
     "name": "stdout",
     "output_type": "stream",
     "text": [
      "296/296 [==============================] - 1s 2ms/step - loss: 0.6080 - accuracy: 0.8075\n"
     ]
    }
   ],
   "source": [
    "# model.load_weights(\"wagi_wersja_1.h5\")\n",
    "# deep_results_test['DNN1'] = model.evaluate(X_test, y_test)[1]"
   ]
  },
  {
   "cell_type": "code",
   "execution_count": 15,
   "id": "df79145c-a73c-45cd-8952-b458b0951c24",
   "metadata": {
    "tags": []
   },
   "outputs": [],
   "source": [
    "save_best_model = ModelCheckpoint(\"wagi_wersja_1.h5\", save_best_only=True)"
   ]
  },
  {
   "cell_type": "code",
   "execution_count": 16,
   "id": "ec888f4b-1bdd-4eed-b3fe-4d447e63e151",
   "metadata": {
    "collapsed": true,
    "jupyter": {
     "outputs_hidden": true
    },
    "tags": []
   },
   "outputs": [
    {
     "name": "stdout",
     "output_type": "stream",
     "text": [
      "Epoch 1/50\n",
      "945/945 [==============================] - 3s 2ms/step - loss: 0.7470 - accuracy: 0.7543 - val_loss: 0.6438 - val_accuracy: 0.7854\n",
      "Epoch 2/50\n",
      "945/945 [==============================] - 2s 2ms/step - loss: 0.6316 - accuracy: 0.7819 - val_loss: 0.6346 - val_accuracy: 0.7850\n",
      "Epoch 3/50\n",
      "945/945 [==============================] - 2s 2ms/step - loss: 0.6114 - accuracy: 0.7880 - val_loss: 0.6210 - val_accuracy: 0.7926\n",
      "Epoch 4/50\n",
      "945/945 [==============================] - 2s 2ms/step - loss: 0.5956 - accuracy: 0.7902 - val_loss: 0.6128 - val_accuracy: 0.7934\n",
      "Epoch 5/50\n",
      "945/945 [==============================] - 2s 2ms/step - loss: 0.5836 - accuracy: 0.7963 - val_loss: 0.6005 - val_accuracy: 0.7950\n",
      "Epoch 6/50\n",
      "945/945 [==============================] - 2s 2ms/step - loss: 0.5715 - accuracy: 0.7975 - val_loss: 0.6005 - val_accuracy: 0.7969\n",
      "Epoch 7/50\n",
      "945/945 [==============================] - 2s 2ms/step - loss: 0.5615 - accuracy: 0.8011 - val_loss: 0.5972 - val_accuracy: 0.7997\n",
      "Epoch 8/50\n",
      "945/945 [==============================] - 2s 2ms/step - loss: 0.5533 - accuracy: 0.8054 - val_loss: 0.5952 - val_accuracy: 0.8001\n",
      "Epoch 9/50\n",
      "945/945 [==============================] - 2s 2ms/step - loss: 0.5441 - accuracy: 0.8083 - val_loss: 0.5925 - val_accuracy: 0.8003\n",
      "Epoch 10/50\n",
      "945/945 [==============================] - 2s 2ms/step - loss: 0.5375 - accuracy: 0.8099 - val_loss: 0.5912 - val_accuracy: 0.8018\n",
      "Epoch 11/50\n",
      "945/945 [==============================] - 2s 2ms/step - loss: 0.5307 - accuracy: 0.8153 - val_loss: 0.5949 - val_accuracy: 0.8031\n",
      "Epoch 12/50\n",
      "945/945 [==============================] - 2s 2ms/step - loss: 0.5264 - accuracy: 0.8153 - val_loss: 0.5878 - val_accuracy: 0.8097\n",
      "Epoch 13/50\n",
      "945/945 [==============================] - 2s 2ms/step - loss: 0.5214 - accuracy: 0.8162 - val_loss: 0.5876 - val_accuracy: 0.8057\n",
      "Epoch 14/50\n",
      "945/945 [==============================] - 2s 2ms/step - loss: 0.5161 - accuracy: 0.8191 - val_loss: 0.5890 - val_accuracy: 0.8048\n",
      "Epoch 15/50\n",
      "945/945 [==============================] - 2s 2ms/step - loss: 0.5118 - accuracy: 0.8178 - val_loss: 0.5927 - val_accuracy: 0.8011\n",
      "Epoch 16/50\n",
      "945/945 [==============================] - 2s 2ms/step - loss: 0.5067 - accuracy: 0.8214 - val_loss: 0.5912 - val_accuracy: 0.8027\n",
      "Epoch 17/50\n",
      "945/945 [==============================] - 2s 2ms/step - loss: 0.5034 - accuracy: 0.8229 - val_loss: 0.5969 - val_accuracy: 0.8036\n",
      "Epoch 18/50\n",
      "945/945 [==============================] - 2s 2ms/step - loss: 0.5001 - accuracy: 0.8238 - val_loss: 0.5975 - val_accuracy: 0.8024\n",
      "Epoch 19/50\n",
      "945/945 [==============================] - 2s 2ms/step - loss: 0.4968 - accuracy: 0.8234 - val_loss: 0.5949 - val_accuracy: 0.8022\n",
      "Epoch 20/50\n",
      "945/945 [==============================] - 2s 2ms/step - loss: 0.4923 - accuracy: 0.8266 - val_loss: 0.6048 - val_accuracy: 0.7989\n",
      "Epoch 21/50\n",
      "945/945 [==============================] - 2s 2ms/step - loss: 0.4895 - accuracy: 0.8258 - val_loss: 0.6092 - val_accuracy: 0.8008\n",
      "Epoch 22/50\n",
      "945/945 [==============================] - 2s 2ms/step - loss: 0.4884 - accuracy: 0.8287 - val_loss: 0.5970 - val_accuracy: 0.8011\n",
      "Epoch 23/50\n",
      "945/945 [==============================] - 2s 2ms/step - loss: 0.4838 - accuracy: 0.8282 - val_loss: 0.6020 - val_accuracy: 0.8102\n",
      "Epoch 24/50\n",
      "945/945 [==============================] - 2s 2ms/step - loss: 0.4819 - accuracy: 0.8289 - val_loss: 0.6022 - val_accuracy: 0.8031\n",
      "Epoch 25/50\n",
      "945/945 [==============================] - 2s 2ms/step - loss: 0.4801 - accuracy: 0.8294 - val_loss: 0.6055 - val_accuracy: 0.8051\n",
      "Epoch 26/50\n",
      "945/945 [==============================] - 2s 2ms/step - loss: 0.4767 - accuracy: 0.8299 - val_loss: 0.6092 - val_accuracy: 0.8035\n",
      "Epoch 27/50\n",
      "945/945 [==============================] - 2s 2ms/step - loss: 0.4740 - accuracy: 0.8316 - val_loss: 0.6001 - val_accuracy: 0.8038\n",
      "Epoch 28/50\n",
      "945/945 [==============================] - 2s 2ms/step - loss: 0.4724 - accuracy: 0.8316 - val_loss: 0.6100 - val_accuracy: 0.8040\n",
      "Epoch 29/50\n",
      "945/945 [==============================] - 2s 2ms/step - loss: 0.4698 - accuracy: 0.8325 - val_loss: 0.6084 - val_accuracy: 0.8060\n",
      "Epoch 30/50\n",
      "945/945 [==============================] - 2s 2ms/step - loss: 0.4687 - accuracy: 0.8334 - val_loss: 0.6152 - val_accuracy: 0.7974\n",
      "Epoch 31/50\n",
      "945/945 [==============================] - 2s 2ms/step - loss: 0.4636 - accuracy: 0.8352 - val_loss: 0.6179 - val_accuracy: 0.7993\n",
      "Epoch 32/50\n",
      "945/945 [==============================] - 2s 2ms/step - loss: 0.4637 - accuracy: 0.8346 - val_loss: 0.6184 - val_accuracy: 0.8030\n",
      "Epoch 33/50\n",
      "945/945 [==============================] - 2s 2ms/step - loss: 0.4612 - accuracy: 0.8355 - val_loss: 0.6203 - val_accuracy: 0.7997\n",
      "Epoch 34/50\n",
      "945/945 [==============================] - 2s 2ms/step - loss: 0.4593 - accuracy: 0.8372 - val_loss: 0.6145 - val_accuracy: 0.8043\n",
      "Epoch 35/50\n",
      "945/945 [==============================] - 2s 2ms/step - loss: 0.4557 - accuracy: 0.8371 - val_loss: 0.6220 - val_accuracy: 0.7975\n",
      "Epoch 36/50\n",
      "945/945 [==============================] - 2s 2ms/step - loss: 0.4553 - accuracy: 0.8384 - val_loss: 0.6274 - val_accuracy: 0.7997\n",
      "Epoch 37/50\n",
      "945/945 [==============================] - 2s 2ms/step - loss: 0.4537 - accuracy: 0.8367 - val_loss: 0.6262 - val_accuracy: 0.8046\n",
      "Epoch 38/50\n",
      "945/945 [==============================] - 2s 2ms/step - loss: 0.4517 - accuracy: 0.8387 - val_loss: 0.6332 - val_accuracy: 0.8040\n",
      "Epoch 39/50\n",
      "945/945 [==============================] - 2s 2ms/step - loss: 0.4493 - accuracy: 0.8373 - val_loss: 0.6306 - val_accuracy: 0.8049\n",
      "Epoch 40/50\n",
      "945/945 [==============================] - 2s 2ms/step - loss: 0.4474 - accuracy: 0.8393 - val_loss: 0.6378 - val_accuracy: 0.7975\n",
      "Epoch 41/50\n",
      "945/945 [==============================] - 2s 2ms/step - loss: 0.4475 - accuracy: 0.8393 - val_loss: 0.6341 - val_accuracy: 0.8047\n",
      "Epoch 42/50\n",
      "945/945 [==============================] - 2s 2ms/step - loss: 0.4447 - accuracy: 0.8410 - val_loss: 0.6324 - val_accuracy: 0.8048\n",
      "Epoch 43/50\n",
      "945/945 [==============================] - 2s 2ms/step - loss: 0.4439 - accuracy: 0.8412 - val_loss: 0.6335 - val_accuracy: 0.8042\n",
      "Epoch 44/50\n",
      "945/945 [==============================] - 2s 2ms/step - loss: 0.4419 - accuracy: 0.8396 - val_loss: 0.6436 - val_accuracy: 0.7983\n",
      "Epoch 45/50\n",
      "945/945 [==============================] - 2s 2ms/step - loss: 0.4404 - accuracy: 0.8416 - val_loss: 0.6350 - val_accuracy: 0.8008\n",
      "Epoch 46/50\n",
      "945/945 [==============================] - 2s 2ms/step - loss: 0.4397 - accuracy: 0.8420 - val_loss: 0.6369 - val_accuracy: 0.8024\n",
      "Epoch 47/50\n",
      "945/945 [==============================] - 2s 2ms/step - loss: 0.4356 - accuracy: 0.8422 - val_loss: 0.6410 - val_accuracy: 0.8007\n",
      "Epoch 48/50\n",
      "945/945 [==============================] - 2s 2ms/step - loss: 0.4354 - accuracy: 0.8447 - val_loss: 0.6408 - val_accuracy: 0.8036\n",
      "Epoch 49/50\n",
      "945/945 [==============================] - 2s 3ms/step - loss: 0.4355 - accuracy: 0.8437 - val_loss: 0.6468 - val_accuracy: 0.7995\n",
      "Epoch 50/50\n",
      "945/945 [==============================] - 2s 2ms/step - loss: 0.4334 - accuracy: 0.8440 - val_loss: 0.6476 - val_accuracy: 0.8024\n"
     ]
    }
   ],
   "source": [
    "history = model.fit(X_train, y_train, validation_data= (X_valid, y_valid), batch_size=32, epochs=50, callbacks=[save_best_model])"
   ]
  },
  {
   "cell_type": "code",
   "execution_count": 17,
   "id": "43897238-cdcf-4c78-820f-71eb48fc405b",
   "metadata": {
    "tags": []
   },
   "outputs": [
    {
     "data": {
      "image/png": "[encoded data removed]",
      "text/plain": [
       "<Figure size 800x500 with 1 Axes>"
      ]
     },
     "metadata": {},
     "output_type": "display_data"
    }
   ],
   "source": [
    "pd.DataFrame(history.history).plot(figsize=(8, 5))\n",
    "plt.grid(True)\n",
    "plt.gca().set_ylim(0, 1)\n",
    "plt.show()"
   ]
  },
  {
   "cell_type": "markdown",
   "id": "703f8881-4ffd-4753-b571-0a0ed7408e18",
   "metadata": {},
   "source": [
    "Trochę overfituje"
   ]
  },
  {
   "cell_type": "markdown",
   "id": "1e79e921-222d-45da-8141-b9f2c3648cc0",
   "metadata": {},
   "source": [
    "### Podejście 2"
   ]
  },
  {
   "cell_type": "code",
   "execution_count": 78,
   "id": "4f1ce5b2-128c-4f88-8abc-f689234d5791",
   "metadata": {
    "tags": []
   },
   "outputs": [
    {
     "name": "stdout",
     "output_type": "stream",
     "text": [
      "Model: \"sequential\"\n",
      "_________________________________________________________________\n",
      " Layer (type)                Output Shape              Param #   \n",
      "=================================================================\n",
      " dense (Dense)               (None, 1000)              53000     \n",
      "                                                                 \n",
      " dense_1 (Dense)             (None, 500)               500500    \n",
      "                                                                 \n",
      " dense_2 (Dense)             (None, 100)               50100     \n",
      "                                                                 \n",
      " dense_3 (Dense)             (None, 50)                5050      \n",
      "                                                                 \n",
      " dense_4 (Dense)             (None, 6)                 306       \n",
      "                                                                 \n",
      "=================================================================\n",
      "Total params: 608,956\n",
      "Trainable params: 608,956\n",
      "Non-trainable params: 0\n",
      "_________________________________________________________________\n"
     ]
    }
   ],
   "source": [
    "keras.backend.clear_session()\n",
    "\n",
    "history = History()\n",
    "model = Sequential()\n",
    "model.add(Dense(1000,activation=\"relu\", input_shape=(X_train.shape[1],)))\n",
    "model.add(Dense(500,activation=\"relu\"))\n",
    "model.add(Dense(100,activation=\"relu\"))\n",
    "model.add(Dense(50,activation=\"relu\"))\n",
    "model.add(Dense(6,activation=\"softmax\"))\n",
    "model.summary()\n",
    "\n",
    "model.compile(loss=\"categorical_crossentropy\",\n",
    "              optimizer=\"Adam\",\n",
    "              metrics=[\"accuracy\"])\n",
    "\n",
    "save_best_model = ModelCheckpoint(\"wagi_wersja_2.h5\", save_best_only=True)"
   ]
  },
  {
   "cell_type": "code",
   "execution_count": 79,
   "id": "c1a4e4a2-df28-4876-874c-f9e27959b7ef",
   "metadata": {
    "tags": []
   },
   "outputs": [
    {
     "name": "stdout",
     "output_type": "stream",
     "text": [
      "296/296 [==============================] - 1s 4ms/step - loss: 0.6058 - accuracy: 0.8145\n"
     ]
    }
   ],
   "source": [
    "# model.load_weights(\"wagi_wersja_2.h5\")\n",
    "# deep_results_test['DNN2'] = model.evaluate(X_test, y_test)[1]"
   ]
  },
  {
   "cell_type": "code",
   "execution_count": 34,
   "id": "6cb7a175-bd62-4c69-81b0-27565ceacf7a",
   "metadata": {
    "collapsed": true,
    "jupyter": {
     "outputs_hidden": true
    },
    "tags": []
   },
   "outputs": [
    {
     "name": "stdout",
     "output_type": "stream",
     "text": [
      "Epoch 1/50\n",
      "945/945 [==============================] - 9s 9ms/step - loss: 0.6922 - accuracy: 0.7668 - val_loss: 0.6435 - val_accuracy: 0.7790\n",
      "Epoch 2/50\n",
      "945/945 [==============================] - 8s 9ms/step - loss: 0.6283 - accuracy: 0.7841 - val_loss: 0.6211 - val_accuracy: 0.7921\n",
      "Epoch 3/50\n",
      "945/945 [==============================] - 10s 10ms/step - loss: 0.5969 - accuracy: 0.7933 - val_loss: 0.5909 - val_accuracy: 0.8020\n",
      "Epoch 4/50\n",
      "945/945 [==============================] - 9s 9ms/step - loss: 0.5698 - accuracy: 0.8042 - val_loss: 0.6136 - val_accuracy: 0.7978\n",
      "Epoch 5/50\n",
      "945/945 [==============================] - 8s 9ms/step - loss: 0.5517 - accuracy: 0.8095 - val_loss: 0.5861 - val_accuracy: 0.8056\n",
      "Epoch 6/50\n",
      "945/945 [==============================] - 8s 8ms/step - loss: 0.5270 - accuracy: 0.8145 - val_loss: 0.5781 - val_accuracy: 0.8071\n",
      "Epoch 7/50\n",
      "945/945 [==============================] - 8s 9ms/step - loss: 0.5095 - accuracy: 0.8204 - val_loss: 0.5739 - val_accuracy: 0.8163\n",
      "Epoch 8/50\n",
      "945/945 [==============================] - 8s 8ms/step - loss: 0.4922 - accuracy: 0.8243 - val_loss: 0.5807 - val_accuracy: 0.8130\n",
      "Epoch 9/50\n",
      "945/945 [==============================] - 8s 9ms/step - loss: 0.4747 - accuracy: 0.8286 - val_loss: 0.5584 - val_accuracy: 0.8190\n",
      "Epoch 10/50\n",
      "945/945 [==============================] - 8s 8ms/step - loss: 0.4612 - accuracy: 0.8338 - val_loss: 0.5939 - val_accuracy: 0.8068\n",
      "Epoch 11/50\n",
      "945/945 [==============================] - 8s 8ms/step - loss: 0.4438 - accuracy: 0.8385 - val_loss: 0.6013 - val_accuracy: 0.8118\n",
      "Epoch 12/50\n",
      "945/945 [==============================] - 8s 9ms/step - loss: 0.4294 - accuracy: 0.8434 - val_loss: 0.6189 - val_accuracy: 0.8128\n",
      "Epoch 13/50\n",
      "945/945 [==============================] - 8s 9ms/step - loss: 0.4130 - accuracy: 0.8465 - val_loss: 0.6185 - val_accuracy: 0.8133\n",
      "Epoch 14/50\n",
      "945/945 [==============================] - 8s 8ms/step - loss: 0.4014 - accuracy: 0.8516 - val_loss: 0.6299 - val_accuracy: 0.8124\n",
      "Epoch 15/50\n",
      "945/945 [==============================] - 8s 9ms/step - loss: 0.3861 - accuracy: 0.8547 - val_loss: 0.6443 - val_accuracy: 0.8130\n",
      "Epoch 16/50\n",
      "945/945 [==============================] - 8s 9ms/step - loss: 0.3785 - accuracy: 0.8573 - val_loss: 0.6797 - val_accuracy: 0.8042\n",
      "Epoch 17/50\n",
      "945/945 [==============================] - 8s 8ms/step - loss: 0.3797 - accuracy: 0.8595 - val_loss: 0.6610 - val_accuracy: 0.8075\n",
      "Epoch 18/50\n",
      "945/945 [==============================] - 8s 8ms/step - loss: 0.3586 - accuracy: 0.8643 - val_loss: 0.7221 - val_accuracy: 0.8162\n",
      "Epoch 19/50\n",
      "945/945 [==============================] - 8s 9ms/step - loss: 0.3514 - accuracy: 0.8674 - val_loss: 0.7224 - val_accuracy: 0.8129\n",
      "Epoch 20/50\n",
      "945/945 [==============================] - 8s 9ms/step - loss: 0.3478 - accuracy: 0.8679 - val_loss: 0.7292 - val_accuracy: 0.8059\n",
      "Epoch 21/50\n",
      "945/945 [==============================] - 8s 9ms/step - loss: 0.3387 - accuracy: 0.8705 - val_loss: 0.7364 - val_accuracy: 0.8057\n",
      "Epoch 22/50\n",
      "945/945 [==============================] - 8s 9ms/step - loss: 0.3309 - accuracy: 0.8727 - val_loss: 0.7811 - val_accuracy: 0.8124\n",
      "Epoch 23/50\n",
      "945/945 [==============================] - 8s 9ms/step - loss: 0.3244 - accuracy: 0.8760 - val_loss: 0.7665 - val_accuracy: 0.8046\n",
      "Epoch 24/50\n",
      "945/945 [==============================] - 8s 9ms/step - loss: 0.3200 - accuracy: 0.8764 - val_loss: 0.7920 - val_accuracy: 0.8126\n",
      "Epoch 25/50\n",
      "945/945 [==============================] - 8s 9ms/step - loss: 0.3158 - accuracy: 0.8784 - val_loss: 0.8218 - val_accuracy: 0.8118\n",
      "Epoch 26/50\n",
      "945/945 [==============================] - 8s 8ms/step - loss: 0.3187 - accuracy: 0.8795 - val_loss: 0.8268 - val_accuracy: 0.8028\n",
      "Epoch 27/50\n",
      "945/945 [==============================] - 8s 8ms/step - loss: 0.3074 - accuracy: 0.8823 - val_loss: 0.8754 - val_accuracy: 0.8154\n",
      "Epoch 28/50\n",
      "945/945 [==============================] - 8s 9ms/step - loss: 0.3108 - accuracy: 0.8794 - val_loss: 0.8085 - val_accuracy: 0.8118\n",
      "Epoch 29/50\n",
      "945/945 [==============================] - 8s 9ms/step - loss: 0.2990 - accuracy: 0.8843 - val_loss: 0.9017 - val_accuracy: 0.8126\n",
      "Epoch 30/50\n",
      "945/945 [==============================] - 8s 8ms/step - loss: 0.2972 - accuracy: 0.8852 - val_loss: 0.8274 - val_accuracy: 0.8083\n",
      "Epoch 31/50\n",
      "945/945 [==============================] - 8s 8ms/step - loss: 0.2967 - accuracy: 0.8847 - val_loss: 0.8462 - val_accuracy: 0.8129\n",
      "Epoch 32/50\n",
      "945/945 [==============================] - 8s 9ms/step - loss: 0.2960 - accuracy: 0.8851 - val_loss: 0.8737 - val_accuracy: 0.8048\n",
      "Epoch 33/50\n",
      "945/945 [==============================] - 8s 9ms/step - loss: 0.2942 - accuracy: 0.8857 - val_loss: 0.8548 - val_accuracy: 0.8098\n",
      "Epoch 34/50\n",
      "945/945 [==============================] - 8s 8ms/step - loss: 0.2859 - accuracy: 0.8868 - val_loss: 0.9196 - val_accuracy: 0.8036\n",
      "Epoch 35/50\n",
      "945/945 [==============================] - 8s 8ms/step - loss: 0.2870 - accuracy: 0.8886 - val_loss: 0.9188 - val_accuracy: 0.8084\n",
      "Epoch 36/50\n",
      "945/945 [==============================] - 8s 8ms/step - loss: 0.2842 - accuracy: 0.8900 - val_loss: 0.9591 - val_accuracy: 0.8141\n",
      "Epoch 37/50\n",
      "945/945 [==============================] - 8s 8ms/step - loss: 0.2865 - accuracy: 0.8875 - val_loss: 0.9427 - val_accuracy: 0.8120\n",
      "Epoch 38/50\n",
      "945/945 [==============================] - 8s 9ms/step - loss: 0.2758 - accuracy: 0.8898 - val_loss: 0.9952 - val_accuracy: 0.8087\n",
      "Epoch 39/50\n",
      "945/945 [==============================] - 9s 9ms/step - loss: 0.2802 - accuracy: 0.8886 - val_loss: 0.9690 - val_accuracy: 0.8102\n",
      "Epoch 40/50\n",
      "945/945 [==============================] - 8s 9ms/step - loss: 0.2773 - accuracy: 0.8911 - val_loss: 0.9727 - val_accuracy: 0.8061\n",
      "Epoch 41/50\n",
      "945/945 [==============================] - 8s 9ms/step - loss: 0.2787 - accuracy: 0.8915 - val_loss: 0.9840 - val_accuracy: 0.8061\n",
      "Epoch 42/50\n",
      "945/945 [==============================] - 9s 9ms/step - loss: 0.2749 - accuracy: 0.8898 - val_loss: 1.0001 - val_accuracy: 0.8101\n",
      "Epoch 43/50\n",
      "945/945 [==============================] - 8s 9ms/step - loss: 0.2660 - accuracy: 0.8954 - val_loss: 1.0206 - val_accuracy: 0.8080\n",
      "Epoch 44/50\n",
      "945/945 [==============================] - 8s 8ms/step - loss: 0.2661 - accuracy: 0.8953 - val_loss: 1.0880 - val_accuracy: 0.8080\n",
      "Epoch 45/50\n",
      "945/945 [==============================] - 8s 9ms/step - loss: 0.2715 - accuracy: 0.8921 - val_loss: 1.1042 - val_accuracy: 0.8032\n",
      "Epoch 46/50\n",
      "945/945 [==============================] - 8s 9ms/step - loss: 0.2807 - accuracy: 0.8927 - val_loss: 1.0426 - val_accuracy: 0.8121\n",
      "Epoch 47/50\n",
      "945/945 [==============================] - 8s 9ms/step - loss: 0.2632 - accuracy: 0.8964 - val_loss: 1.0369 - val_accuracy: 0.8084\n",
      "Epoch 48/50\n",
      "945/945 [==============================] - 8s 9ms/step - loss: 0.2636 - accuracy: 0.8950 - val_loss: 1.0228 - val_accuracy: 0.8077\n",
      "Epoch 49/50\n",
      "945/945 [==============================] - 8s 8ms/step - loss: 0.2667 - accuracy: 0.8952 - val_loss: 1.1072 - val_accuracy: 0.8138\n",
      "Epoch 50/50\n",
      "945/945 [==============================] - 8s 9ms/step - loss: 0.2647 - accuracy: 0.8963 - val_loss: 1.0708 - val_accuracy: 0.8071\n"
     ]
    }
   ],
   "source": [
    "history = model.fit(X_train, y_train, validation_data= (X_valid, y_valid), batch_size=32, epochs=50, callbacks=[save_best_model])"
   ]
  },
  {
   "cell_type": "code",
   "execution_count": 35,
   "id": "bc4b4f24-900b-4c8a-9c09-501f47557f5d",
   "metadata": {
    "tags": []
   },
   "outputs": [
    {
     "data": {
      "image/png": "[encoded data removed]",
      "text/plain": [
       "<Figure size 800x500 with 1 Axes>"
      ]
     },
     "metadata": {},
     "output_type": "display_data"
    }
   ],
   "source": [
    "pd.DataFrame(history.history).plot(figsize=(8, 5))\n",
    "plt.grid(True)\n",
    "plt.gca().set_ylim(0, 1)\n",
    "plt.show()"
   ]
  },
  {
   "cell_type": "markdown",
   "id": "6652eb01-bed4-41ca-a5d4-7570f1e9a211",
   "metadata": {},
   "source": [
    "### Podejście 3"
   ]
  },
  {
   "cell_type": "code",
   "execution_count": 37,
   "id": "a0a18f24-4114-4863-b69e-7e33d88ea773",
   "metadata": {
    "tags": []
   },
   "outputs": [],
   "source": [
    "from keras.layers import BatchNormalization\n",
    "from keras.layers import Activation\n",
    "from keras.callbacks import EarlyStopping"
   ]
  },
  {
   "cell_type": "code",
   "execution_count": 80,
   "id": "f8049ba0-58fc-4dc0-848f-35ddeb3a5860",
   "metadata": {
    "tags": []
   },
   "outputs": [
    {
     "name": "stdout",
     "output_type": "stream",
     "text": [
      "Model: \"sequential\"\n",
      "_________________________________________________________________\n",
      " Layer (type)                Output Shape              Param #   \n",
      "=================================================================\n",
      " dense (Dense)               (None, 1000)              52000     \n",
      "                                                                 \n",
      " batch_normalization (BatchN  (None, 1000)             4000      \n",
      " ormalization)                                                   \n",
      "                                                                 \n",
      " activation (Activation)     (None, 1000)              0         \n",
      "                                                                 \n",
      " dense_1 (Dense)             (None, 500)               500000    \n",
      "                                                                 \n",
      " batch_normalization_1 (Batc  (None, 500)              2000      \n",
      " hNormalization)                                                 \n",
      "                                                                 \n",
      " activation_1 (Activation)   (None, 500)               0         \n",
      "                                                                 \n",
      " dense_2 (Dense)             (None, 100)               50000     \n",
      "                                                                 \n",
      " batch_normalization_2 (Batc  (None, 100)              400       \n",
      " hNormalization)                                                 \n",
      "                                                                 \n",
      " activation_2 (Activation)   (None, 100)               0         \n",
      "                                                                 \n",
      " dense_3 (Dense)             (None, 50)                5000      \n",
      "                                                                 \n",
      " batch_normalization_3 (Batc  (None, 50)               200       \n",
      " hNormalization)                                                 \n",
      "                                                                 \n",
      " activation_3 (Activation)   (None, 50)                0         \n",
      "                                                                 \n",
      " dense_4 (Dense)             (None, 6)                 306       \n",
      "                                                                 \n",
      "=================================================================\n",
      "Total params: 613,906\n",
      "Trainable params: 610,606\n",
      "Non-trainable params: 3,300\n",
      "_________________________________________________________________\n"
     ]
    }
   ],
   "source": [
    "keras.backend.clear_session()\n",
    "\n",
    "history = History()\n",
    "model = Sequential()\n",
    "model.add(Dense(1000, use_bias=False, input_shape=(X_train.shape[1],)))\n",
    "model.add(BatchNormalization())\n",
    "model.add(Activation(\"relu\"))\n",
    "model.add(Dense(500, use_bias=False))\n",
    "model.add(BatchNormalization())\n",
    "model.add(Activation(\"relu\"))\n",
    "model.add(Dense(100, use_bias=False))\n",
    "model.add(BatchNormalization())\n",
    "model.add(Activation(\"relu\"))\n",
    "model.add(Dense(50, use_bias=False))\n",
    "model.add(BatchNormalization())\n",
    "model.add(Activation(\"relu\"))\n",
    "model.add(Dense(6,activation=\"softmax\"))\n",
    "model.summary()\n",
    "\n",
    "model.compile(loss=\"categorical_crossentropy\",\n",
    "              optimizer=\"Adam\",\n",
    "              metrics=[\"accuracy\"])\n",
    "\n",
    "save_best_model = ModelCheckpoint(\"wagi_wersja_3.h5\", save_best_only=True)\n",
    "early_stopping = EarlyStopping(monitor='val_loss', patience=5, mode='min', verbose=1)"
   ]
  },
  {
   "cell_type": "code",
   "execution_count": 81,
   "id": "9c7ffc72-164a-4045-8f92-477539e066bd",
   "metadata": {
    "tags": []
   },
   "outputs": [
    {
     "name": "stdout",
     "output_type": "stream",
     "text": [
      "296/296 [==============================] - 1s 4ms/step - loss: 0.5796 - accuracy: 0.8154\n"
     ]
    }
   ],
   "source": [
    "# model.load_weights(\"wagi_wersja_3.h5\")\n",
    "# deep_results_test['DNN3'] = model.evaluate(X_test, y_test)[1]"
   ]
  },
  {
   "cell_type": "code",
   "execution_count": 43,
   "id": "e1fe1cda-6013-4a6f-a33c-e48708b8fb70",
   "metadata": {
    "collapsed": true,
    "jupyter": {
     "outputs_hidden": true
    },
    "tags": []
   },
   "outputs": [
    {
     "name": "stdout",
     "output_type": "stream",
     "text": [
      "Epoch 1/50\n",
      "945/945 [==============================] - 13s 12ms/step - loss: 0.7187 - accuracy: 0.7574 - val_loss: 0.6269 - val_accuracy: 0.7880\n",
      "Epoch 2/50\n",
      "945/945 [==============================] - 11s 12ms/step - loss: 0.6286 - accuracy: 0.7834 - val_loss: 0.6217 - val_accuracy: 0.7892\n",
      "Epoch 3/50\n",
      "945/945 [==============================] - 10s 10ms/step - loss: 0.6037 - accuracy: 0.7904 - val_loss: 0.6076 - val_accuracy: 0.7917\n",
      "Epoch 4/50\n",
      "945/945 [==============================] - 11s 11ms/step - loss: 0.5916 - accuracy: 0.7930 - val_loss: 0.5876 - val_accuracy: 0.8007\n",
      "Epoch 5/50\n",
      "945/945 [==============================] - 11s 12ms/step - loss: 0.5742 - accuracy: 0.7989 - val_loss: 0.5663 - val_accuracy: 0.8106\n",
      "Epoch 6/50\n",
      "945/945 [==============================] - 10s 10ms/step - loss: 0.5574 - accuracy: 0.8036 - val_loss: 0.5703 - val_accuracy: 0.8087\n",
      "Epoch 7/50\n",
      "945/945 [==============================] - 11s 11ms/step - loss: 0.5432 - accuracy: 0.8076 - val_loss: 0.5671 - val_accuracy: 0.8014\n",
      "Epoch 8/50\n",
      "945/945 [==============================] - 11s 12ms/step - loss: 0.5305 - accuracy: 0.8115 - val_loss: 0.5841 - val_accuracy: 0.8020\n",
      "Epoch 9/50\n",
      "945/945 [==============================] - 11s 12ms/step - loss: 0.5214 - accuracy: 0.8136 - val_loss: 0.5833 - val_accuracy: 0.8055\n",
      "Epoch 10/50\n",
      "945/945 [==============================] - 11s 12ms/step - loss: 0.5082 - accuracy: 0.8189 - val_loss: 0.5673 - val_accuracy: 0.8124\n",
      "Epoch 11/50\n",
      "945/945 [==============================] - 11s 12ms/step - loss: 0.4963 - accuracy: 0.8208 - val_loss: 0.5635 - val_accuracy: 0.8161\n",
      "Epoch 12/50\n",
      "945/945 [==============================] - 9s 10ms/step - loss: 0.4887 - accuracy: 0.8267 - val_loss: 0.5608 - val_accuracy: 0.8179\n",
      "Epoch 13/50\n",
      "945/945 [==============================] - 11s 11ms/step - loss: 0.4750 - accuracy: 0.8294 - val_loss: 0.5724 - val_accuracy: 0.8130\n",
      "Epoch 14/50\n",
      "945/945 [==============================] - 11s 11ms/step - loss: 0.4642 - accuracy: 0.8313 - val_loss: 0.5833 - val_accuracy: 0.8136\n",
      "Epoch 15/50\n",
      "945/945 [==============================] - 11s 12ms/step - loss: 0.4590 - accuracy: 0.8317 - val_loss: 0.5807 - val_accuracy: 0.8114\n",
      "Epoch 16/50\n",
      "945/945 [==============================] - 11s 12ms/step - loss: 0.4462 - accuracy: 0.8355 - val_loss: 0.5847 - val_accuracy: 0.8117\n",
      "Epoch 17/50\n",
      "945/945 [==============================] - 11s 12ms/step - loss: 0.4380 - accuracy: 0.8390 - val_loss: 0.5960 - val_accuracy: 0.8137\n",
      "Epoch 18/50\n",
      "945/945 [==============================] - 11s 12ms/step - loss: 0.4331 - accuracy: 0.8414 - val_loss: 0.5957 - val_accuracy: 0.8134\n",
      "Epoch 19/50\n",
      "945/945 [==============================] - 11s 12ms/step - loss: 0.4222 - accuracy: 0.8452 - val_loss: 0.6028 - val_accuracy: 0.8162\n",
      "Epoch 20/50\n",
      "945/945 [==============================] - 11s 12ms/step - loss: 0.4139 - accuracy: 0.8471 - val_loss: 0.6156 - val_accuracy: 0.8143\n",
      "Epoch 21/50\n",
      "945/945 [==============================] - 11s 12ms/step - loss: 0.4072 - accuracy: 0.8478 - val_loss: 0.6181 - val_accuracy: 0.8157\n",
      "Epoch 22/50\n",
      "945/945 [==============================] - 11s 12ms/step - loss: 0.4001 - accuracy: 0.8497 - val_loss: 0.6350 - val_accuracy: 0.8072\n",
      "Epoch 23/50\n",
      "945/945 [==============================] - 11s 11ms/step - loss: 0.3938 - accuracy: 0.8521 - val_loss: 0.6154 - val_accuracy: 0.8063\n",
      "Epoch 24/50\n",
      "945/945 [==============================] - 11s 11ms/step - loss: 0.3894 - accuracy: 0.8551 - val_loss: 0.6467 - val_accuracy: 0.8067\n",
      "Epoch 25/50\n",
      "945/945 [==============================] - 10s 11ms/step - loss: 0.3841 - accuracy: 0.8541 - val_loss: 0.6476 - val_accuracy: 0.8157\n",
      "Epoch 26/50\n",
      "945/945 [==============================] - 11s 11ms/step - loss: 0.3791 - accuracy: 0.8581 - val_loss: 0.6671 - val_accuracy: 0.8088\n",
      "Epoch 27/50\n",
      "945/945 [==============================] - 11s 11ms/step - loss: 0.3738 - accuracy: 0.8599 - val_loss: 0.6375 - val_accuracy: 0.8097\n",
      "Epoch 28/50\n",
      "945/945 [==============================] - 11s 11ms/step - loss: 0.3660 - accuracy: 0.8619 - val_loss: 0.6807 - val_accuracy: 0.8061\n",
      "Epoch 29/50\n",
      "945/945 [==============================] - 11s 12ms/step - loss: 0.3648 - accuracy: 0.8634 - val_loss: 0.6558 - val_accuracy: 0.8065\n",
      "Epoch 30/50\n",
      "945/945 [==============================] - 10s 11ms/step - loss: 0.3614 - accuracy: 0.8634 - val_loss: 0.6569 - val_accuracy: 0.8053\n",
      "Epoch 31/50\n",
      "945/945 [==============================] - 11s 11ms/step - loss: 0.3580 - accuracy: 0.8643 - val_loss: 0.6721 - val_accuracy: 0.8114\n",
      "Epoch 32/50\n",
      "945/945 [==============================] - 11s 12ms/step - loss: 0.3567 - accuracy: 0.8664 - val_loss: 0.6826 - val_accuracy: 0.8112\n",
      "Epoch 33/50\n",
      "945/945 [==============================] - 11s 11ms/step - loss: 0.3520 - accuracy: 0.8669 - val_loss: 0.6852 - val_accuracy: 0.8093\n",
      "Epoch 34/50\n",
      "945/945 [==============================] - 10s 10ms/step - loss: 0.3495 - accuracy: 0.8669 - val_loss: 0.6957 - val_accuracy: 0.8112\n",
      "Epoch 35/50\n",
      "945/945 [==============================] - 11s 12ms/step - loss: 0.3453 - accuracy: 0.8688 - val_loss: 0.6954 - val_accuracy: 0.8043\n",
      "Epoch 36/50\n",
      "945/945 [==============================] - 11s 11ms/step - loss: 0.3449 - accuracy: 0.8693 - val_loss: 0.7100 - val_accuracy: 0.8055\n",
      "Epoch 37/50\n",
      "945/945 [==============================] - 11s 11ms/step - loss: 0.3413 - accuracy: 0.8703 - val_loss: 0.7073 - val_accuracy: 0.8044\n",
      "Epoch 38/50\n",
      "945/945 [==============================] - 11s 12ms/step - loss: 0.3372 - accuracy: 0.8702 - val_loss: 0.7364 - val_accuracy: 0.8101\n",
      "Epoch 39/50\n",
      "945/945 [==============================] - 11s 11ms/step - loss: 0.3371 - accuracy: 0.8721 - val_loss: 0.7510 - val_accuracy: 0.8019\n",
      "Epoch 40/50\n",
      "945/945 [==============================] - 11s 12ms/step - loss: 0.3343 - accuracy: 0.8716 - val_loss: 0.7147 - val_accuracy: 0.8102\n",
      "Epoch 41/50\n",
      "945/945 [==============================] - 11s 12ms/step - loss: 0.3323 - accuracy: 0.8713 - val_loss: 0.7445 - val_accuracy: 0.8098\n",
      "Epoch 42/50\n",
      "945/945 [==============================] - 10s 11ms/step - loss: 0.3280 - accuracy: 0.8757 - val_loss: 0.7323 - val_accuracy: 0.8093\n",
      "Epoch 43/50\n",
      "945/945 [==============================] - 11s 11ms/step - loss: 0.3260 - accuracy: 0.8745 - val_loss: 0.7488 - val_accuracy: 0.8072\n",
      "Epoch 44/50\n",
      "945/945 [==============================] - 11s 11ms/step - loss: 0.3250 - accuracy: 0.8734 - val_loss: 0.7533 - val_accuracy: 0.8092\n",
      "Epoch 45/50\n",
      "945/945 [==============================] - 11s 11ms/step - loss: 0.3232 - accuracy: 0.8770 - val_loss: 0.7474 - val_accuracy: 0.8113\n",
      "Epoch 46/50\n",
      "945/945 [==============================] - 11s 11ms/step - loss: 0.3222 - accuracy: 0.8762 - val_loss: 0.7577 - val_accuracy: 0.8128\n",
      "Epoch 47/50\n",
      "945/945 [==============================] - 10s 11ms/step - loss: 0.3232 - accuracy: 0.8769 - val_loss: 0.7827 - val_accuracy: 0.8068\n",
      "Epoch 48/50\n",
      "945/945 [==============================] - 11s 11ms/step - loss: 0.3198 - accuracy: 0.8773 - val_loss: 0.7530 - val_accuracy: 0.8046\n",
      "Epoch 49/50\n",
      "945/945 [==============================] - 11s 11ms/step - loss: 0.3164 - accuracy: 0.8785 - val_loss: 0.7605 - val_accuracy: 0.8063\n",
      "Epoch 50/50\n",
      "945/945 [==============================] - 11s 12ms/step - loss: 0.3169 - accuracy: 0.8799 - val_loss: 0.7772 - val_accuracy: 0.8046\n"
     ]
    }
   ],
   "source": [
    "history = model.fit(X_train, y_train, validation_data= (X_valid, y_valid), batch_size=32, epochs=50, callbacks=[save_best_model])"
   ]
  },
  {
   "cell_type": "code",
   "execution_count": 44,
   "id": "f6159ce0-7381-4a65-a171-4173caa4e4f1",
   "metadata": {
    "tags": []
   },
   "outputs": [
    {
     "data": {
      "image/png": "[encoded data removed]",
      "text/plain": [
       "<Figure size 800x500 with 1 Axes>"
      ]
     },
     "metadata": {},
     "output_type": "display_data"
    }
   ],
   "source": [
    "pd.DataFrame(history.history).plot(figsize=(8, 5))\n",
    "plt.grid(True)\n",
    "plt.gca().set_ylim(0, 1)\n",
    "plt.show()"
   ]
  },
  {
   "cell_type": "markdown",
   "id": "e88b79ce-1fc4-42b3-b9ae-846704a25584",
   "metadata": {},
   "source": [
    "### Podejście 4"
   ]
  },
  {
   "cell_type": "code",
   "execution_count": 82,
   "id": "84469e1c-cb9d-4c62-bc20-9540565a189d",
   "metadata": {
    "tags": []
   },
   "outputs": [
    {
     "name": "stdout",
     "output_type": "stream",
     "text": [
      "Model: \"sequential\"\n",
      "_________________________________________________________________\n",
      " Layer (type)                Output Shape              Param #   \n",
      "=================================================================\n",
      " dense (Dense)               (None, 1000)              52000     \n",
      "                                                                 \n",
      " batch_normalization (BatchN  (None, 1000)             4000      \n",
      " ormalization)                                                   \n",
      "                                                                 \n",
      " activation (Activation)     (None, 1000)              0         \n",
      "                                                                 \n",
      " dropout (Dropout)           (None, 1000)              0         \n",
      "                                                                 \n",
      " dense_1 (Dense)             (None, 500)               500000    \n",
      "                                                                 \n",
      " batch_normalization_1 (Batc  (None, 500)              2000      \n",
      " hNormalization)                                                 \n",
      "                                                                 \n",
      " activation_1 (Activation)   (None, 500)               0         \n",
      "                                                                 \n",
      " dropout_1 (Dropout)         (None, 500)               0         \n",
      "                                                                 \n",
      " dense_2 (Dense)             (None, 100)               50000     \n",
      "                                                                 \n",
      " batch_normalization_2 (Batc  (None, 100)              400       \n",
      " hNormalization)                                                 \n",
      "                                                                 \n",
      " activation_2 (Activation)   (None, 100)               0         \n",
      "                                                                 \n",
      " dropout_2 (Dropout)         (None, 100)               0         \n",
      "                                                                 \n",
      " dense_3 (Dense)             (None, 50)                5000      \n",
      "                                                                 \n",
      " batch_normalization_3 (Batc  (None, 50)               200       \n",
      " hNormalization)                                                 \n",
      "                                                                 \n",
      " activation_3 (Activation)   (None, 50)                0         \n",
      "                                                                 \n",
      " dropout_3 (Dropout)         (None, 50)                0         \n",
      "                                                                 \n",
      " dense_4 (Dense)             (None, 6)                 306       \n",
      "                                                                 \n",
      "=================================================================\n",
      "Total params: 613,906\n",
      "Trainable params: 610,606\n",
      "Non-trainable params: 3,300\n",
      "_________________________________________________________________\n"
     ]
    }
   ],
   "source": [
    "keras.backend.clear_session()\n",
    "\n",
    "history = History()\n",
    "model = Sequential()\n",
    "model.add(Dense(1000, use_bias=False, input_shape=(X_train.shape[1],)))\n",
    "model.add(BatchNormalization())\n",
    "model.add(Activation(\"relu\"))\n",
    "model.add(Dropout(0.2))\n",
    "model.add(Dense(500, use_bias=False))\n",
    "model.add(BatchNormalization())\n",
    "model.add(Activation(\"relu\"))\n",
    "model.add(Dropout(0.2))\n",
    "model.add(Dense(100, use_bias=False))\n",
    "model.add(BatchNormalization())\n",
    "model.add(Activation(\"relu\"))\n",
    "model.add(Dropout(0.2))\n",
    "model.add(Dense(50, use_bias=False))\n",
    "model.add(BatchNormalization())\n",
    "model.add(Activation(\"relu\"))\n",
    "model.add(Dropout(0.2))\n",
    "model.add(Dense(6,activation=\"softmax\"))\n",
    "model.summary()\n",
    "\n",
    "model.compile(loss=\"categorical_crossentropy\",\n",
    "              optimizer=\"Adam\",\n",
    "              metrics=[\"accuracy\"])\n",
    "\n",
    "save_best_model = ModelCheckpoint(\"wagi_wersja_4.h5\", save_best_only=True)"
   ]
  },
  {
   "cell_type": "code",
   "execution_count": 83,
   "id": "01125f0f-430b-469d-a48b-1bdc10f8b538",
   "metadata": {
    "tags": []
   },
   "outputs": [
    {
     "name": "stdout",
     "output_type": "stream",
     "text": [
      "296/296 [==============================] - 1s 4ms/step - loss: 0.5769 - accuracy: 0.8101\n"
     ]
    }
   ],
   "source": [
    "# model.load_weights(\"wagi_wersja_4.h5\")\n",
    "# deep_results_test['DNN4'] = model.evaluate(X_test, y_test)[1]"
   ]
  },
  {
   "cell_type": "code",
   "execution_count": 60,
   "id": "371fb870-35c2-4b49-bcbe-05ea9a4011d4",
   "metadata": {
    "collapsed": true,
    "jupyter": {
     "outputs_hidden": true
    },
    "tags": []
   },
   "outputs": [
    {
     "name": "stdout",
     "output_type": "stream",
     "text": [
      "Epoch 1/50\n",
      "945/945 [==============================] - 18s 17ms/step - loss: 0.7774 - accuracy: 0.7449 - val_loss: 0.6485 - val_accuracy: 0.7854\n",
      "Epoch 2/50\n",
      "945/945 [==============================] - 16s 17ms/step - loss: 0.6743 - accuracy: 0.7706 - val_loss: 0.6254 - val_accuracy: 0.7870\n",
      "Epoch 3/50\n",
      "945/945 [==============================] - 15s 16ms/step - loss: 0.6525 - accuracy: 0.7768 - val_loss: 0.6091 - val_accuracy: 0.7981\n",
      "Epoch 4/50\n",
      "945/945 [==============================] - 15s 16ms/step - loss: 0.6353 - accuracy: 0.7833 - val_loss: 0.5927 - val_accuracy: 0.7997\n",
      "Epoch 5/50\n",
      "945/945 [==============================] - 15s 16ms/step - loss: 0.6256 - accuracy: 0.7867 - val_loss: 0.5901 - val_accuracy: 0.8003\n",
      "Epoch 6/50\n",
      "945/945 [==============================] - 15s 16ms/step - loss: 0.6195 - accuracy: 0.7884 - val_loss: 0.5950 - val_accuracy: 0.8049\n",
      "Epoch 7/50\n",
      "945/945 [==============================] - 15s 16ms/step - loss: 0.6050 - accuracy: 0.7882 - val_loss: 0.5817 - val_accuracy: 0.8020\n",
      "Epoch 8/50\n",
      "945/945 [==============================] - 15s 16ms/step - loss: 0.6003 - accuracy: 0.7929 - val_loss: 0.5815 - val_accuracy: 0.8034\n",
      "Epoch 9/50\n",
      "945/945 [==============================] - 15s 16ms/step - loss: 0.5895 - accuracy: 0.7951 - val_loss: 0.5766 - val_accuracy: 0.8064\n",
      "Epoch 10/50\n",
      "945/945 [==============================] - 16s 16ms/step - loss: 0.5827 - accuracy: 0.7962 - val_loss: 0.5688 - val_accuracy: 0.8056\n",
      "Epoch 11/50\n",
      "945/945 [==============================] - 15s 16ms/step - loss: 0.5757 - accuracy: 0.7981 - val_loss: 0.5691 - val_accuracy: 0.8069\n",
      "Epoch 12/50\n",
      "945/945 [==============================] - 15s 16ms/step - loss: 0.5693 - accuracy: 0.8016 - val_loss: 0.5758 - val_accuracy: 0.8060\n",
      "Epoch 13/50\n",
      "945/945 [==============================] - 16s 16ms/step - loss: 0.5652 - accuracy: 0.8017 - val_loss: 0.5744 - val_accuracy: 0.8076\n",
      "Epoch 14/50\n",
      "945/945 [==============================] - 16s 16ms/step - loss: 0.5576 - accuracy: 0.8050 - val_loss: 0.5583 - val_accuracy: 0.8134\n",
      "Epoch 15/50\n",
      "945/945 [==============================] - 16s 16ms/step - loss: 0.5494 - accuracy: 0.8058 - val_loss: 0.5640 - val_accuracy: 0.8106\n",
      "Epoch 16/50\n",
      "945/945 [==============================] - 15s 16ms/step - loss: 0.5437 - accuracy: 0.8079 - val_loss: 0.5709 - val_accuracy: 0.8120\n",
      "Epoch 17/50\n",
      "945/945 [==============================] - 14s 15ms/step - loss: 0.5393 - accuracy: 0.8108 - val_loss: 0.5656 - val_accuracy: 0.8079\n",
      "Epoch 18/50\n",
      "945/945 [==============================] - 15s 16ms/step - loss: 0.5312 - accuracy: 0.8123 - val_loss: 0.5666 - val_accuracy: 0.8113\n",
      "Epoch 19/50\n",
      "945/945 [==============================] - 16s 17ms/step - loss: 0.5264 - accuracy: 0.8124 - val_loss: 0.5681 - val_accuracy: 0.8128\n",
      "Epoch 20/50\n",
      "945/945 [==============================] - 16s 17ms/step - loss: 0.5230 - accuracy: 0.8119 - val_loss: 0.5648 - val_accuracy: 0.8151\n",
      "Epoch 21/50\n",
      "945/945 [==============================] - 16s 17ms/step - loss: 0.5206 - accuracy: 0.8150 - val_loss: 0.5716 - val_accuracy: 0.8136\n",
      "Epoch 22/50\n",
      "945/945 [==============================] - 16s 17ms/step - loss: 0.5159 - accuracy: 0.8181 - val_loss: 0.5622 - val_accuracy: 0.8141\n",
      "Epoch 23/50\n",
      "945/945 [==============================] - 16s 17ms/step - loss: 0.5083 - accuracy: 0.8184 - val_loss: 0.5630 - val_accuracy: 0.8151\n",
      "Epoch 24/50\n",
      "945/945 [==============================] - 15s 16ms/step - loss: 0.5046 - accuracy: 0.8195 - val_loss: 0.5652 - val_accuracy: 0.8138\n",
      "Epoch 25/50\n",
      "945/945 [==============================] - 15s 16ms/step - loss: 0.4995 - accuracy: 0.8209 - val_loss: 0.5691 - val_accuracy: 0.8167\n",
      "Epoch 26/50\n",
      "945/945 [==============================] - 15s 16ms/step - loss: 0.4984 - accuracy: 0.8212 - val_loss: 0.5695 - val_accuracy: 0.8167\n",
      "Epoch 27/50\n",
      "945/945 [==============================] - 15s 16ms/step - loss: 0.4981 - accuracy: 0.8219 - val_loss: 0.5631 - val_accuracy: 0.8158\n",
      "Epoch 28/50\n",
      "945/945 [==============================] - 15s 16ms/step - loss: 0.4853 - accuracy: 0.8241 - val_loss: 0.5771 - val_accuracy: 0.8165\n",
      "Epoch 29/50\n",
      "945/945 [==============================] - 16s 16ms/step - loss: 0.4858 - accuracy: 0.8257 - val_loss: 0.5781 - val_accuracy: 0.8104\n",
      "Epoch 30/50\n",
      "945/945 [==============================] - 15s 16ms/step - loss: 0.4795 - accuracy: 0.8259 - val_loss: 0.5789 - val_accuracy: 0.8154\n",
      "Epoch 31/50\n",
      "945/945 [==============================] - 15s 16ms/step - loss: 0.4768 - accuracy: 0.8277 - val_loss: 0.5826 - val_accuracy: 0.8186\n",
      "Epoch 32/50\n",
      "945/945 [==============================] - 15s 16ms/step - loss: 0.4769 - accuracy: 0.8282 - val_loss: 0.5762 - val_accuracy: 0.8155\n",
      "Epoch 33/50\n",
      "945/945 [==============================] - 15s 16ms/step - loss: 0.4735 - accuracy: 0.8280 - val_loss: 0.5856 - val_accuracy: 0.8158\n",
      "Epoch 34/50\n",
      "945/945 [==============================] - 15s 16ms/step - loss: 0.4687 - accuracy: 0.8300 - val_loss: 0.5916 - val_accuracy: 0.8134\n",
      "Epoch 35/50\n",
      "945/945 [==============================] - 15s 16ms/step - loss: 0.4650 - accuracy: 0.8313 - val_loss: 0.5895 - val_accuracy: 0.8149\n",
      "Epoch 36/50\n",
      "945/945 [==============================] - 15s 16ms/step - loss: 0.4651 - accuracy: 0.8312 - val_loss: 0.5814 - val_accuracy: 0.8190\n",
      "Epoch 37/50\n",
      "945/945 [==============================] - 15s 16ms/step - loss: 0.4630 - accuracy: 0.8307 - val_loss: 0.5840 - val_accuracy: 0.8199\n",
      "Epoch 38/50\n",
      "945/945 [==============================] - 15s 16ms/step - loss: 0.4557 - accuracy: 0.8341 - val_loss: 0.5896 - val_accuracy: 0.8139\n",
      "Epoch 39/50\n",
      "945/945 [==============================] - 15s 16ms/step - loss: 0.4558 - accuracy: 0.8339 - val_loss: 0.5883 - val_accuracy: 0.8155\n",
      "Epoch 40/50\n",
      "945/945 [==============================] - 15s 16ms/step - loss: 0.4527 - accuracy: 0.8345 - val_loss: 0.5988 - val_accuracy: 0.8162\n",
      "Epoch 41/50\n",
      "945/945 [==============================] - 16s 16ms/step - loss: 0.4491 - accuracy: 0.8375 - val_loss: 0.5977 - val_accuracy: 0.8138\n",
      "Epoch 42/50\n",
      "945/945 [==============================] - 15s 16ms/step - loss: 0.4464 - accuracy: 0.8360 - val_loss: 0.6044 - val_accuracy: 0.8157\n",
      "Epoch 43/50\n",
      "945/945 [==============================] - 15s 16ms/step - loss: 0.4490 - accuracy: 0.8338 - val_loss: 0.6047 - val_accuracy: 0.8150\n",
      "Epoch 44/50\n",
      "945/945 [==============================] - 15s 16ms/step - loss: 0.4435 - accuracy: 0.8362 - val_loss: 0.6088 - val_accuracy: 0.8128\n",
      "Epoch 45/50\n",
      "945/945 [==============================] - 16s 17ms/step - loss: 0.4395 - accuracy: 0.8415 - val_loss: 0.6015 - val_accuracy: 0.8118\n",
      "Epoch 46/50\n",
      "945/945 [==============================] - 16s 16ms/step - loss: 0.4413 - accuracy: 0.8390 - val_loss: 0.5976 - val_accuracy: 0.8169\n",
      "Epoch 47/50\n",
      "945/945 [==============================] - 15s 16ms/step - loss: 0.4360 - accuracy: 0.8403 - val_loss: 0.6021 - val_accuracy: 0.8153\n",
      "Epoch 48/50\n",
      "945/945 [==============================] - 15s 16ms/step - loss: 0.4356 - accuracy: 0.8412 - val_loss: 0.6113 - val_accuracy: 0.8188\n",
      "Epoch 49/50\n",
      "945/945 [==============================] - 14s 15ms/step - loss: 0.4313 - accuracy: 0.8435 - val_loss: 0.6151 - val_accuracy: 0.8139\n",
      "Epoch 50/50\n",
      "945/945 [==============================] - 14s 15ms/step - loss: 0.4292 - accuracy: 0.8411 - val_loss: 0.6105 - val_accuracy: 0.8180\n"
     ]
    }
   ],
   "source": [
    "history = model.fit(X_train, y_train, validation_data= (X_valid, y_valid), batch_size=32, epochs=50, callbacks=[save_best_model])"
   ]
  },
  {
   "cell_type": "code",
   "execution_count": 61,
   "id": "ec41037e-c4d8-43bd-8fcd-2fe808efef09",
   "metadata": {
    "tags": []
   },
   "outputs": [
    {
     "data": {
      "image/png": "[encoded data removed]",
      "text/plain": [
       "<Figure size 800x500 with 1 Axes>"
      ]
     },
     "metadata": {},
     "output_type": "display_data"
    }
   ],
   "source": [
    "pd.DataFrame(history.history).plot(figsize=(8, 5))\n",
    "plt.grid(True)\n",
    "plt.gca().set_ylim(0, 1)\n",
    "plt.show()"
   ]
  },
  {
   "cell_type": "markdown",
   "id": "a3080103-b09d-4d26-b57f-c779d8d9850b",
   "metadata": {},
   "source": [
    "### Podejście 5"
   ]
  },
  {
   "cell_type": "code",
   "execution_count": 84,
   "id": "baef2693-181f-49cd-b19b-cc93a8c1be70",
   "metadata": {
    "tags": []
   },
   "outputs": [
    {
     "name": "stdout",
     "output_type": "stream",
     "text": [
      "Model: \"sequential\"\n",
      "_________________________________________________________________\n",
      " Layer (type)                Output Shape              Param #   \n",
      "=================================================================\n",
      " dense (Dense)               (None, 1000)              52000     \n",
      "                                                                 \n",
      " batch_normalization (BatchN  (None, 1000)             4000      \n",
      " ormalization)                                                   \n",
      "                                                                 \n",
      " activation (Activation)     (None, 1000)              0         \n",
      "                                                                 \n",
      " dropout (Dropout)           (None, 1000)              0         \n",
      "                                                                 \n",
      " dense_1 (Dense)             (None, 500)               500000    \n",
      "                                                                 \n",
      " batch_normalization_1 (Batc  (None, 500)              2000      \n",
      " hNormalization)                                                 \n",
      "                                                                 \n",
      " activation_1 (Activation)   (None, 500)               0         \n",
      "                                                                 \n",
      " dropout_1 (Dropout)         (None, 500)               0         \n",
      "                                                                 \n",
      " dense_2 (Dense)             (None, 200)               100000    \n",
      "                                                                 \n",
      " batch_normalization_2 (Batc  (None, 200)              800       \n",
      " hNormalization)                                                 \n",
      "                                                                 \n",
      " activation_2 (Activation)   (None, 200)               0         \n",
      "                                                                 \n",
      " dropout_2 (Dropout)         (None, 200)               0         \n",
      "                                                                 \n",
      " dense_3 (Dense)             (None, 100)               20000     \n",
      "                                                                 \n",
      " batch_normalization_3 (Batc  (None, 100)              400       \n",
      " hNormalization)                                                 \n",
      "                                                                 \n",
      " activation_3 (Activation)   (None, 100)               0         \n",
      "                                                                 \n",
      " dropout_3 (Dropout)         (None, 100)               0         \n",
      "                                                                 \n",
      " dense_4 (Dense)             (None, 50)                5000      \n",
      "                                                                 \n",
      " batch_normalization_4 (Batc  (None, 50)               200       \n",
      " hNormalization)                                                 \n",
      "                                                                 \n",
      " activation_4 (Activation)   (None, 50)                0         \n",
      "                                                                 \n",
      " dense_5 (Dense)             (None, 25)                1250      \n",
      "                                                                 \n",
      " batch_normalization_5 (Batc  (None, 25)               100       \n",
      " hNormalization)                                                 \n",
      "                                                                 \n",
      " activation_5 (Activation)   (None, 25)                0         \n",
      "                                                                 \n",
      " dropout_4 (Dropout)         (None, 25)                0         \n",
      "                                                                 \n",
      " dense_6 (Dense)             (None, 6)                 156       \n",
      "                                                                 \n",
      "=================================================================\n",
      "Total params: 685,906\n",
      "Trainable params: 682,156\n",
      "Non-trainable params: 3,750\n",
      "_________________________________________________________________\n"
     ]
    }
   ],
   "source": [
    "keras.backend.clear_session()\n",
    "\n",
    "history = History()\n",
    "model = Sequential()\n",
    "model.add(Dense(1000, use_bias=False, input_shape=(X_train.shape[1],)))\n",
    "model.add(BatchNormalization())\n",
    "model.add(Activation(\"relu\"))\n",
    "model.add(Dropout(0.2))\n",
    "model.add(Dense(500, use_bias=False))\n",
    "model.add(BatchNormalization())\n",
    "model.add(Activation(\"relu\"))\n",
    "model.add(Dropout(0.2))\n",
    "model.add(Dense(200, use_bias=False))\n",
    "model.add(BatchNormalization())\n",
    "model.add(Activation(\"relu\"))\n",
    "model.add(Dropout(0.2))\n",
    "model.add(Dense(100, use_bias=False))\n",
    "model.add(BatchNormalization())\n",
    "model.add(Activation(\"relu\"))\n",
    "model.add(Dropout(0.2))\n",
    "model.add(Dense(50, use_bias=False))\n",
    "model.add(BatchNormalization())\n",
    "model.add(Activation(\"relu\"))\n",
    "model.add(Dense(25, use_bias=False))\n",
    "model.add(BatchNormalization())\n",
    "model.add(Activation(\"relu\"))\n",
    "model.add(Dropout(0.2))\n",
    "model.add(Dense(6,activation=\"softmax\"))\n",
    "model.summary()\n",
    "\n",
    "model.compile(loss=\"categorical_crossentropy\",\n",
    "              optimizer=\"Adam\",\n",
    "              metrics=[\"accuracy\"])\n",
    "\n",
    "save_best_model = ModelCheckpoint(\"wagi_wersja_5.h5\", save_best_only=True)"
   ]
  },
  {
   "cell_type": "code",
   "execution_count": 85,
   "id": "6f8ad776-2a10-4871-af2d-04ab9b773aaa",
   "metadata": {
    "tags": []
   },
   "outputs": [
    {
     "name": "stdout",
     "output_type": "stream",
     "text": [
      "296/296 [==============================] - 2s 4ms/step - loss: 0.5808 - accuracy: 0.8173\n"
     ]
    }
   ],
   "source": [
    "# model.load_weights(\"wagi_wersja_5.h5\")\n",
    "# deep_results_test['DNN5'] = model.evaluate(X_test, y_test)[1]"
   ]
  },
  {
   "cell_type": "code",
   "execution_count": 63,
   "id": "7c616d97-eaba-4545-9103-d0aaa8349781",
   "metadata": {
    "collapsed": true,
    "jupyter": {
     "outputs_hidden": true
    },
    "tags": []
   },
   "outputs": [
    {
     "name": "stdout",
     "output_type": "stream",
     "text": [
      "Epoch 1/50\n",
      "945/945 [==============================] - 22s 20ms/step - loss: 0.8152 - accuracy: 0.7332 - val_loss: 0.6488 - val_accuracy: 0.7864\n",
      "Epoch 2/50\n",
      "945/945 [==============================] - 18s 19ms/step - loss: 0.6989 - accuracy: 0.7646 - val_loss: 0.6342 - val_accuracy: 0.7846\n",
      "Epoch 3/50\n",
      "945/945 [==============================] - 18s 19ms/step - loss: 0.6768 - accuracy: 0.7722 - val_loss: 0.6252 - val_accuracy: 0.7946\n",
      "Epoch 4/50\n",
      "945/945 [==============================] - 18s 19ms/step - loss: 0.6608 - accuracy: 0.7745 - val_loss: 0.6165 - val_accuracy: 0.7875\n",
      "Epoch 5/50\n",
      "945/945 [==============================] - 18s 19ms/step - loss: 0.6525 - accuracy: 0.7782 - val_loss: 0.6124 - val_accuracy: 0.7940\n",
      "Epoch 6/50\n",
      "945/945 [==============================] - 18s 19ms/step - loss: 0.6402 - accuracy: 0.7818 - val_loss: 0.6061 - val_accuracy: 0.7995\n",
      "Epoch 7/50\n",
      "945/945 [==============================] - 17s 18ms/step - loss: 0.6291 - accuracy: 0.7853 - val_loss: 0.5983 - val_accuracy: 0.8001\n",
      "Epoch 8/50\n",
      "945/945 [==============================] - 18s 19ms/step - loss: 0.6221 - accuracy: 0.7877 - val_loss: 0.5874 - val_accuracy: 0.8057\n",
      "Epoch 9/50\n",
      "945/945 [==============================] - 18s 19ms/step - loss: 0.6173 - accuracy: 0.7859 - val_loss: 0.5904 - val_accuracy: 0.8059\n",
      "Epoch 10/50\n",
      "945/945 [==============================] - 18s 19ms/step - loss: 0.6058 - accuracy: 0.7930 - val_loss: 0.5829 - val_accuracy: 0.8023\n",
      "Epoch 11/50\n",
      "945/945 [==============================] - 18s 19ms/step - loss: 0.6005 - accuracy: 0.7935 - val_loss: 0.5773 - val_accuracy: 0.8051\n",
      "Epoch 12/50\n",
      "945/945 [==============================] - 19s 20ms/step - loss: 0.5920 - accuracy: 0.7940 - val_loss: 0.5765 - val_accuracy: 0.8094\n",
      "Epoch 13/50\n",
      "945/945 [==============================] - 18s 19ms/step - loss: 0.5873 - accuracy: 0.7982 - val_loss: 0.5813 - val_accuracy: 0.8065\n",
      "Epoch 14/50\n",
      "945/945 [==============================] - 18s 19ms/step - loss: 0.5841 - accuracy: 0.8003 - val_loss: 0.5708 - val_accuracy: 0.8094\n",
      "Epoch 15/50\n",
      "945/945 [==============================] - 18s 19ms/step - loss: 0.5785 - accuracy: 0.8014 - val_loss: 0.5753 - val_accuracy: 0.8043\n",
      "Epoch 16/50\n",
      "945/945 [==============================] - 18s 19ms/step - loss: 0.5701 - accuracy: 0.8018 - val_loss: 0.5727 - val_accuracy: 0.8104\n",
      "Epoch 17/50\n",
      "945/945 [==============================] - 18s 19ms/step - loss: 0.5626 - accuracy: 0.8032 - val_loss: 0.5665 - val_accuracy: 0.8084\n",
      "Epoch 18/50\n",
      "945/945 [==============================] - 18s 19ms/step - loss: 0.5578 - accuracy: 0.8049 - val_loss: 0.5744 - val_accuracy: 0.8113\n",
      "Epoch 19/50\n",
      "945/945 [==============================] - 18s 19ms/step - loss: 0.5541 - accuracy: 0.8079 - val_loss: 0.5661 - val_accuracy: 0.8104\n",
      "Epoch 20/50\n",
      "945/945 [==============================] - 18s 19ms/step - loss: 0.5512 - accuracy: 0.8075 - val_loss: 0.5630 - val_accuracy: 0.8174\n",
      "Epoch 21/50\n",
      "945/945 [==============================] - 18s 19ms/step - loss: 0.5465 - accuracy: 0.8097 - val_loss: 0.5672 - val_accuracy: 0.8100\n",
      "Epoch 22/50\n",
      "945/945 [==============================] - 17s 18ms/step - loss: 0.5386 - accuracy: 0.8104 - val_loss: 0.5680 - val_accuracy: 0.8134\n",
      "Epoch 23/50\n",
      "945/945 [==============================] - 17s 18ms/step - loss: 0.5389 - accuracy: 0.8115 - val_loss: 0.5629 - val_accuracy: 0.8154\n",
      "Epoch 24/50\n",
      "945/945 [==============================] - 16s 16ms/step - loss: 0.5312 - accuracy: 0.8117 - val_loss: 0.5611 - val_accuracy: 0.8207\n",
      "Epoch 25/50\n",
      "945/945 [==============================] - 16s 17ms/step - loss: 0.5270 - accuracy: 0.8141 - val_loss: 0.5633 - val_accuracy: 0.8162\n",
      "Epoch 26/50\n",
      "945/945 [==============================] - 20s 21ms/step - loss: 0.5234 - accuracy: 0.8157 - val_loss: 0.5733 - val_accuracy: 0.8159\n",
      "Epoch 27/50\n",
      "945/945 [==============================] - 21s 22ms/step - loss: 0.5201 - accuracy: 0.8156 - val_loss: 0.5639 - val_accuracy: 0.8157\n",
      "Epoch 28/50\n",
      "945/945 [==============================] - 21s 22ms/step - loss: 0.5139 - accuracy: 0.8183 - val_loss: 0.5682 - val_accuracy: 0.8153\n",
      "Epoch 29/50\n",
      "945/945 [==============================] - 21s 22ms/step - loss: 0.5135 - accuracy: 0.8193 - val_loss: 0.5686 - val_accuracy: 0.8179\n",
      "Epoch 30/50\n",
      "945/945 [==============================] - 20s 22ms/step - loss: 0.5104 - accuracy: 0.8199 - val_loss: 0.5688 - val_accuracy: 0.8183\n",
      "Epoch 31/50\n",
      "945/945 [==============================] - 16s 16ms/step - loss: 0.5059 - accuracy: 0.8220 - val_loss: 0.5629 - val_accuracy: 0.8169\n",
      "Epoch 32/50\n",
      "945/945 [==============================] - 16s 17ms/step - loss: 0.5056 - accuracy: 0.8210 - val_loss: 0.5688 - val_accuracy: 0.8159\n",
      "Epoch 33/50\n",
      "945/945 [==============================] - 15s 16ms/step - loss: 0.5012 - accuracy: 0.8210 - val_loss: 0.5722 - val_accuracy: 0.8158\n",
      "Epoch 34/50\n",
      "945/945 [==============================] - 16s 17ms/step - loss: 0.4968 - accuracy: 0.8243 - val_loss: 0.5664 - val_accuracy: 0.8146\n",
      "Epoch 35/50\n",
      "945/945 [==============================] - 16s 17ms/step - loss: 0.4936 - accuracy: 0.8229 - val_loss: 0.5744 - val_accuracy: 0.8182\n",
      "Epoch 36/50\n",
      "945/945 [==============================] - 16s 17ms/step - loss: 0.4908 - accuracy: 0.8259 - val_loss: 0.5715 - val_accuracy: 0.8182\n",
      "Epoch 37/50\n",
      "945/945 [==============================] - 17s 18ms/step - loss: 0.4940 - accuracy: 0.8235 - val_loss: 0.5824 - val_accuracy: 0.8130\n",
      "Epoch 38/50\n",
      "945/945 [==============================] - 17s 18ms/step - loss: 0.4888 - accuracy: 0.8281 - val_loss: 0.5744 - val_accuracy: 0.8166\n",
      "Epoch 39/50\n",
      "945/945 [==============================] - 16s 17ms/step - loss: 0.4824 - accuracy: 0.8272 - val_loss: 0.5855 - val_accuracy: 0.8167\n",
      "Epoch 40/50\n",
      "945/945 [==============================] - 19s 20ms/step - loss: 0.4828 - accuracy: 0.8268 - val_loss: 0.5792 - val_accuracy: 0.8173\n",
      "Epoch 41/50\n",
      "945/945 [==============================] - 20s 21ms/step - loss: 0.4724 - accuracy: 0.8311 - val_loss: 0.5824 - val_accuracy: 0.8196\n",
      "Epoch 42/50\n",
      "945/945 [==============================] - 20s 21ms/step - loss: 0.4792 - accuracy: 0.8286 - val_loss: 0.5833 - val_accuracy: 0.8166\n",
      "Epoch 43/50\n",
      "945/945 [==============================] - 18s 19ms/step - loss: 0.4674 - accuracy: 0.8333 - val_loss: 0.5874 - val_accuracy: 0.8204\n",
      "Epoch 44/50\n",
      "945/945 [==============================] - 16s 17ms/step - loss: 0.4715 - accuracy: 0.8323 - val_loss: 0.5913 - val_accuracy: 0.8153\n",
      "Epoch 45/50\n",
      "945/945 [==============================] - 17s 18ms/step - loss: 0.4659 - accuracy: 0.8318 - val_loss: 0.5916 - val_accuracy: 0.8161\n",
      "Epoch 46/50\n",
      "945/945 [==============================] - 17s 18ms/step - loss: 0.4671 - accuracy: 0.8331 - val_loss: 0.5838 - val_accuracy: 0.8190\n",
      "Epoch 47/50\n",
      "945/945 [==============================] - 17s 18ms/step - loss: 0.4658 - accuracy: 0.8325 - val_loss: 0.5864 - val_accuracy: 0.8169\n",
      "Epoch 48/50\n",
      "945/945 [==============================] - 17s 18ms/step - loss: 0.4624 - accuracy: 0.8336 - val_loss: 0.5901 - val_accuracy: 0.8183\n",
      "Epoch 49/50\n",
      "945/945 [==============================] - 17s 18ms/step - loss: 0.4585 - accuracy: 0.8331 - val_loss: 0.5950 - val_accuracy: 0.8146\n",
      "Epoch 50/50\n",
      "945/945 [==============================] - 17s 18ms/step - loss: 0.4555 - accuracy: 0.8357 - val_loss: 0.6027 - val_accuracy: 0.8150\n"
     ]
    }
   ],
   "source": [
    "history = model.fit(X_train, y_train, validation_data= (X_valid, y_valid), batch_size=32, epochs=50, callbacks=[save_best_model])"
   ]
  },
  {
   "cell_type": "code",
   "execution_count": 64,
   "id": "96b8f263-eee3-4161-b9be-307091b082c9",
   "metadata": {
    "tags": []
   },
   "outputs": [
    {
     "data": {
      "image/png": "[encoded data removed]",
      "text/plain": [
       "<Figure size 800x500 with 1 Axes>"
      ]
     },
     "metadata": {},
     "output_type": "display_data"
    }
   ],
   "source": [
    "pd.DataFrame(history.history).plot(figsize=(8, 5))\n",
    "plt.grid(True)\n",
    "plt.gca().set_ylim(0, 1)\n",
    "plt.show()"
   ]
  },
  {
   "cell_type": "markdown",
   "id": "29b9a8c3-7846-41c4-804e-8a507f83f005",
   "metadata": {},
   "source": [
    "### Podejście 6"
   ]
  },
  {
   "cell_type": "code",
   "execution_count": 86,
   "id": "753bb7f5-39c6-4667-b1e2-55449e36e51a",
   "metadata": {
    "tags": []
   },
   "outputs": [
    {
     "name": "stdout",
     "output_type": "stream",
     "text": [
      "Model: \"sequential\"\n",
      "_________________________________________________________________\n",
      " Layer (type)                Output Shape              Param #   \n",
      "=================================================================\n",
      " dense (Dense)               (None, 1000)              52000     \n",
      "                                                                 \n",
      " batch_normalization (BatchN  (None, 1000)             4000      \n",
      " ormalization)                                                   \n",
      "                                                                 \n",
      " activation (Activation)     (None, 1000)              0         \n",
      "                                                                 \n",
      " dropout (Dropout)           (None, 1000)              0         \n",
      "                                                                 \n",
      " dense_1 (Dense)             (None, 500)               500000    \n",
      "                                                                 \n",
      " batch_normalization_1 (Batc  (None, 500)              2000      \n",
      " hNormalization)                                                 \n",
      "                                                                 \n",
      " activation_1 (Activation)   (None, 500)               0         \n",
      "                                                                 \n",
      " dropout_1 (Dropout)         (None, 500)               0         \n",
      "                                                                 \n",
      " dense_2 (Dense)             (None, 200)               100000    \n",
      "                                                                 \n",
      " batch_normalization_2 (Batc  (None, 200)              800       \n",
      " hNormalization)                                                 \n",
      "                                                                 \n",
      " activation_2 (Activation)   (None, 200)               0         \n",
      "                                                                 \n",
      " dropout_2 (Dropout)         (None, 200)               0         \n",
      "                                                                 \n",
      " dense_3 (Dense)             (None, 100)               20000     \n",
      "                                                                 \n",
      " batch_normalization_3 (Batc  (None, 100)              400       \n",
      " hNormalization)                                                 \n",
      "                                                                 \n",
      " activation_3 (Activation)   (None, 100)               0         \n",
      "                                                                 \n",
      " dropout_3 (Dropout)         (None, 100)               0         \n",
      "                                                                 \n",
      " dense_4 (Dense)             (None, 50)                5000      \n",
      "                                                                 \n",
      " batch_normalization_4 (Batc  (None, 50)               200       \n",
      " hNormalization)                                                 \n",
      "                                                                 \n",
      " activation_4 (Activation)   (None, 50)                0         \n",
      "                                                                 \n",
      " dense_5 (Dense)             (None, 25)                1250      \n",
      "                                                                 \n",
      " batch_normalization_5 (Batc  (None, 25)               100       \n",
      " hNormalization)                                                 \n",
      "                                                                 \n",
      " activation_5 (Activation)   (None, 25)                0         \n",
      "                                                                 \n",
      " dropout_4 (Dropout)         (None, 25)                0         \n",
      "                                                                 \n",
      " dense_6 (Dense)             (None, 6)                 156       \n",
      "                                                                 \n",
      "=================================================================\n",
      "Total params: 685,906\n",
      "Trainable params: 682,156\n",
      "Non-trainable params: 3,750\n",
      "_________________________________________________________________\n"
     ]
    }
   ],
   "source": [
    "keras.backend.clear_session()\n",
    "\n",
    "history = History()\n",
    "model = Sequential()\n",
    "model.add(Dense(1000, use_bias=False, input_shape=(X_train.shape[1],)))\n",
    "model.add(BatchNormalization())\n",
    "model.add(Activation(\"relu\"))\n",
    "model.add(Dropout(0.1))\n",
    "model.add(Dense(500, use_bias=False))\n",
    "model.add(BatchNormalization())\n",
    "model.add(Activation(\"relu\"))\n",
    "model.add(Dropout(0.1))\n",
    "model.add(Dense(200, use_bias=False))\n",
    "model.add(BatchNormalization())\n",
    "model.add(Activation(\"relu\"))\n",
    "model.add(Dropout(0.1))\n",
    "model.add(Dense(100, use_bias=False))\n",
    "model.add(BatchNormalization())\n",
    "model.add(Activation(\"relu\"))\n",
    "model.add(Dropout(0.1))\n",
    "model.add(Dense(50, use_bias=False))\n",
    "model.add(BatchNormalization())\n",
    "model.add(Activation(\"relu\"))\n",
    "model.add(Dense(25, use_bias=False))\n",
    "model.add(BatchNormalization())\n",
    "model.add(Activation(\"relu\"))\n",
    "model.add(Dropout(0.1))\n",
    "model.add(Dense(6,activation=\"softmax\"))\n",
    "model.summary()\n",
    "\n",
    "model.compile(loss=\"categorical_crossentropy\",\n",
    "              optimizer=\"Adam\",\n",
    "              metrics=[\"accuracy\"])\n",
    "\n",
    "save_best_model = ModelCheckpoint(\"wagi_wersja_6.h5\", save_best_only=True)\n",
    "early_stopping = EarlyStopping(monitor='val_loss', patience=20, mode='min', verbose=1)"
   ]
  },
  {
   "cell_type": "code",
   "execution_count": 87,
   "id": "9f792a08-90dc-4a94-82b1-e71de6d0e659",
   "metadata": {
    "tags": []
   },
   "outputs": [
    {
     "name": "stdout",
     "output_type": "stream",
     "text": [
      "296/296 [==============================] - 2s 4ms/step - loss: 0.5762 - accuracy: 0.8116\n"
     ]
    }
   ],
   "source": [
    "# model.load_weights(\"wagi_wersja_6.h5\")\n",
    "# deep_results_test['DNN6'] = model.evaluate(X_test, y_test)[1]"
   ]
  },
  {
   "cell_type": "code",
   "execution_count": 69,
   "id": "c2296f21-9711-4dc5-9808-5863500053e2",
   "metadata": {
    "collapsed": true,
    "jupyter": {
     "outputs_hidden": true
    },
    "tags": []
   },
   "outputs": [
    {
     "name": "stdout",
     "output_type": "stream",
     "text": [
      "Epoch 1/50\n",
      "945/945 [==============================] - 18s 16ms/step - loss: 0.8129 - accuracy: 0.7384 - val_loss: 0.6451 - val_accuracy: 0.7832\n",
      "Epoch 2/50\n",
      "945/945 [==============================] - 16s 17ms/step - loss: 0.6776 - accuracy: 0.7745 - val_loss: 0.6267 - val_accuracy: 0.7866\n",
      "Epoch 3/50\n",
      "945/945 [==============================] - 16s 17ms/step - loss: 0.6553 - accuracy: 0.7780 - val_loss: 0.6167 - val_accuracy: 0.7905\n",
      "Epoch 4/50\n",
      "945/945 [==============================] - 17s 18ms/step - loss: 0.6398 - accuracy: 0.7816 - val_loss: 0.6101 - val_accuracy: 0.8002\n",
      "Epoch 5/50\n",
      "945/945 [==============================] - 16s 17ms/step - loss: 0.6253 - accuracy: 0.7864 - val_loss: 0.6024 - val_accuracy: 0.7998\n",
      "Epoch 6/50\n",
      "945/945 [==============================] - 17s 18ms/step - loss: 0.6154 - accuracy: 0.7884 - val_loss: 0.5889 - val_accuracy: 0.8040\n",
      "Epoch 7/50\n",
      "945/945 [==============================] - 17s 18ms/step - loss: 0.6052 - accuracy: 0.7910 - val_loss: 0.5905 - val_accuracy: 0.8063\n",
      "Epoch 8/50\n",
      "945/945 [==============================] - 16s 17ms/step - loss: 0.5957 - accuracy: 0.7942 - val_loss: 0.5952 - val_accuracy: 0.8064\n",
      "Epoch 9/50\n",
      "945/945 [==============================] - 17s 18ms/step - loss: 0.5870 - accuracy: 0.7952 - val_loss: 0.5811 - val_accuracy: 0.8043\n",
      "Epoch 10/50\n",
      "945/945 [==============================] - 17s 18ms/step - loss: 0.5803 - accuracy: 0.7969 - val_loss: 0.5862 - val_accuracy: 0.8079\n",
      "Epoch 11/50\n",
      "945/945 [==============================] - 17s 18ms/step - loss: 0.5681 - accuracy: 0.8006 - val_loss: 0.5689 - val_accuracy: 0.8130\n",
      "Epoch 12/50\n",
      "945/945 [==============================] - 17s 18ms/step - loss: 0.5574 - accuracy: 0.8053 - val_loss: 0.5830 - val_accuracy: 0.8008\n",
      "Epoch 13/50\n",
      "945/945 [==============================] - 17s 18ms/step - loss: 0.5537 - accuracy: 0.8065 - val_loss: 0.5705 - val_accuracy: 0.8096\n",
      "Epoch 14/50\n",
      "945/945 [==============================] - 16s 17ms/step - loss: 0.5446 - accuracy: 0.8075 - val_loss: 0.5673 - val_accuracy: 0.8067\n",
      "Epoch 15/50\n",
      "945/945 [==============================] - 17s 18ms/step - loss: 0.5377 - accuracy: 0.8126 - val_loss: 0.5658 - val_accuracy: 0.8117\n",
      "Epoch 16/50\n",
      "945/945 [==============================] - 16s 17ms/step - loss: 0.5301 - accuracy: 0.8120 - val_loss: 0.5729 - val_accuracy: 0.8098\n",
      "Epoch 17/50\n",
      "945/945 [==============================] - 17s 18ms/step - loss: 0.5195 - accuracy: 0.8176 - val_loss: 0.5671 - val_accuracy: 0.8154\n",
      "Epoch 18/50\n",
      "945/945 [==============================] - 17s 18ms/step - loss: 0.5167 - accuracy: 0.8184 - val_loss: 0.5756 - val_accuracy: 0.8165\n",
      "Epoch 19/50\n",
      "945/945 [==============================] - 17s 18ms/step - loss: 0.5083 - accuracy: 0.8195 - val_loss: 0.5757 - val_accuracy: 0.8163\n",
      "Epoch 20/50\n",
      "945/945 [==============================] - 16s 17ms/step - loss: 0.5029 - accuracy: 0.8201 - val_loss: 0.5743 - val_accuracy: 0.8116\n",
      "Epoch 21/50\n",
      "945/945 [==============================] - 16s 17ms/step - loss: 0.4965 - accuracy: 0.8225 - val_loss: 0.5767 - val_accuracy: 0.8108\n",
      "Epoch 22/50\n",
      "945/945 [==============================] - 16s 17ms/step - loss: 0.4917 - accuracy: 0.8227 - val_loss: 0.5808 - val_accuracy: 0.8163\n",
      "Epoch 23/50\n",
      "945/945 [==============================] - 16s 17ms/step - loss: 0.4845 - accuracy: 0.8260 - val_loss: 0.5815 - val_accuracy: 0.8141\n",
      "Epoch 24/50\n",
      "945/945 [==============================] - 17s 17ms/step - loss: 0.4846 - accuracy: 0.8258 - val_loss: 0.5687 - val_accuracy: 0.8178\n",
      "Epoch 25/50\n",
      "945/945 [==============================] - 17s 18ms/step - loss: 0.4732 - accuracy: 0.8286 - val_loss: 0.5907 - val_accuracy: 0.8210\n",
      "Epoch 26/50\n",
      "945/945 [==============================] - 16s 17ms/step - loss: 0.4713 - accuracy: 0.8306 - val_loss: 0.5778 - val_accuracy: 0.8143\n",
      "Epoch 27/50\n",
      "945/945 [==============================] - 17s 18ms/step - loss: 0.4680 - accuracy: 0.8318 - val_loss: 0.5842 - val_accuracy: 0.8145\n",
      "Epoch 28/50\n",
      "945/945 [==============================] - 17s 18ms/step - loss: 0.4620 - accuracy: 0.8298 - val_loss: 0.5856 - val_accuracy: 0.8151\n",
      "Epoch 29/50\n",
      "945/945 [==============================] - 16s 17ms/step - loss: 0.4578 - accuracy: 0.8347 - val_loss: 0.5931 - val_accuracy: 0.8155\n",
      "Epoch 30/50\n",
      "945/945 [==============================] - 17s 18ms/step - loss: 0.4529 - accuracy: 0.8353 - val_loss: 0.5887 - val_accuracy: 0.8153\n",
      "Epoch 31/50\n",
      "945/945 [==============================] - 16s 17ms/step - loss: 0.4519 - accuracy: 0.8348 - val_loss: 0.6023 - val_accuracy: 0.8154\n",
      "Epoch 32/50\n",
      "945/945 [==============================] - 17s 18ms/step - loss: 0.4465 - accuracy: 0.8372 - val_loss: 0.5999 - val_accuracy: 0.8162\n",
      "Epoch 33/50\n",
      "945/945 [==============================] - 17s 18ms/step - loss: 0.4395 - accuracy: 0.8399 - val_loss: 0.5950 - val_accuracy: 0.8153\n",
      "Epoch 34/50\n",
      "945/945 [==============================] - 16s 17ms/step - loss: 0.4364 - accuracy: 0.8406 - val_loss: 0.5969 - val_accuracy: 0.8195\n",
      "Epoch 35/50\n",
      "945/945 [==============================] - 16s 17ms/step - loss: 0.4313 - accuracy: 0.8413 - val_loss: 0.6122 - val_accuracy: 0.8159\n",
      "Epoch 35: early stopping\n"
     ]
    }
   ],
   "source": [
    "history = model.fit(X_train, y_train, validation_data= (X_valid, y_valid), batch_size=32, epochs=50, callbacks=[save_best_model, early_stopping])"
   ]
  },
  {
   "cell_type": "code",
   "execution_count": 70,
   "id": "b590541b-4539-41f4-b09a-ffbcf9be3fd3",
   "metadata": {
    "tags": []
   },
   "outputs": [
    {
     "data": {
      "image/png": "[encoded data removed]",
      "text/plain": [
       "<Figure size 800x500 with 1 Axes>"
      ]
     },
     "metadata": {},
     "output_type": "display_data"
    }
   ],
   "source": [
    "pd.DataFrame(history.history).plot(figsize=(8, 5))\n",
    "plt.grid(True)\n",
    "plt.gca().set_ylim(0, 1)\n",
    "plt.show()"
   ]
  },
  {
   "cell_type": "markdown",
   "id": "ff63cee4-3ab6-4d73-808e-673cbe5a756b",
   "metadata": {},
   "source": [
    "### Podejście 7"
   ]
  },
  {
   "cell_type": "code",
   "execution_count": 88,
   "id": "208f38a1-3c6f-4a2e-9b48-3e43d45e7de9",
   "metadata": {
    "tags": []
   },
   "outputs": [
    {
     "name": "stdout",
     "output_type": "stream",
     "text": [
      "Model: \"sequential\"\n",
      "_________________________________________________________________\n",
      " Layer (type)                Output Shape              Param #   \n",
      "=================================================================\n",
      " dense (Dense)               (None, 1000)              52000     \n",
      "                                                                 \n",
      " batch_normalization (BatchN  (None, 1000)             4000      \n",
      " ormalization)                                                   \n",
      "                                                                 \n",
      " activation (Activation)     (None, 1000)              0         \n",
      "                                                                 \n",
      " dropout (Dropout)           (None, 1000)              0         \n",
      "                                                                 \n",
      " dense_1 (Dense)             (None, 700)               700000    \n",
      "                                                                 \n",
      " batch_normalization_1 (Batc  (None, 700)              2800      \n",
      " hNormalization)                                                 \n",
      "                                                                 \n",
      " activation_1 (Activation)   (None, 700)               0         \n",
      "                                                                 \n",
      " dropout_1 (Dropout)         (None, 700)               0         \n",
      "                                                                 \n",
      " dense_2 (Dense)             (None, 500)               350000    \n",
      "                                                                 \n",
      " batch_normalization_2 (Batc  (None, 500)              2000      \n",
      " hNormalization)                                                 \n",
      "                                                                 \n",
      " activation_2 (Activation)   (None, 500)               0         \n",
      "                                                                 \n",
      " dropout_2 (Dropout)         (None, 500)               0         \n",
      "                                                                 \n",
      " dense_3 (Dense)             (None, 300)               150000    \n",
      "                                                                 \n",
      " batch_normalization_3 (Batc  (None, 300)              1200      \n",
      " hNormalization)                                                 \n",
      "                                                                 \n",
      " activation_3 (Activation)   (None, 300)               0         \n",
      "                                                                 \n",
      " dropout_3 (Dropout)         (None, 300)               0         \n",
      "                                                                 \n",
      " dense_4 (Dense)             (None, 200)               60000     \n",
      "                                                                 \n",
      " batch_normalization_4 (Batc  (None, 200)              800       \n",
      " hNormalization)                                                 \n",
      "                                                                 \n",
      " activation_4 (Activation)   (None, 200)               0         \n",
      "                                                                 \n",
      " dropout_4 (Dropout)         (None, 200)               0         \n",
      "                                                                 \n",
      " dense_5 (Dense)             (None, 100)               20000     \n",
      "                                                                 \n",
      " batch_normalization_5 (Batc  (None, 100)              400       \n",
      " hNormalization)                                                 \n",
      "                                                                 \n",
      " activation_5 (Activation)   (None, 100)               0         \n",
      "                                                                 \n",
      " dropout_5 (Dropout)         (None, 100)               0         \n",
      "                                                                 \n",
      " dense_6 (Dense)             (None, 50)                5000      \n",
      "                                                                 \n",
      " batch_normalization_6 (Batc  (None, 50)               200       \n",
      " hNormalization)                                                 \n",
      "                                                                 \n",
      " activation_6 (Activation)   (None, 50)                0         \n",
      "                                                                 \n",
      " dense_7 (Dense)             (None, 25)                1250      \n",
      "                                                                 \n",
      " batch_normalization_7 (Batc  (None, 25)               100       \n",
      " hNormalization)                                                 \n",
      "                                                                 \n",
      " activation_7 (Activation)   (None, 25)                0         \n",
      "                                                                 \n",
      " dropout_6 (Dropout)         (None, 25)                0         \n",
      "                                                                 \n",
      " dense_8 (Dense)             (None, 6)                 156       \n",
      "                                                                 \n",
      "=================================================================\n",
      "Total params: 1,349,906\n",
      "Trainable params: 1,344,156\n",
      "Non-trainable params: 5,750\n",
      "_________________________________________________________________\n"
     ]
    }
   ],
   "source": [
    "keras.backend.clear_session()\n",
    "\n",
    "history = History()\n",
    "model = Sequential()\n",
    "model.add(Dense(1000, use_bias=False, input_shape=(X_train.shape[1],)))\n",
    "model.add(BatchNormalization())\n",
    "model.add(Activation(\"relu\"))\n",
    "model.add(Dropout(0.1))\n",
    "model.add(Dense(700, use_bias=False))\n",
    "model.add(BatchNormalization())\n",
    "model.add(Activation(\"relu\"))\n",
    "model.add(Dropout(0.1))\n",
    "model.add(Dense(500, use_bias=False))\n",
    "model.add(BatchNormalization())\n",
    "model.add(Activation(\"relu\"))\n",
    "model.add(Dropout(0.1))\n",
    "model.add(Dense(300, use_bias=False))\n",
    "model.add(BatchNormalization())\n",
    "model.add(Activation(\"relu\"))\n",
    "model.add(Dropout(0.1))\n",
    "model.add(Dense(200, use_bias=False))\n",
    "model.add(BatchNormalization())\n",
    "model.add(Activation(\"relu\"))\n",
    "model.add(Dropout(0.1))\n",
    "model.add(Dense(100, use_bias=False))\n",
    "model.add(BatchNormalization())\n",
    "model.add(Activation(\"relu\"))\n",
    "model.add(Dropout(0.1))\n",
    "model.add(Dense(50, use_bias=False))\n",
    "model.add(BatchNormalization())\n",
    "model.add(Activation(\"relu\"))\n",
    "model.add(Dense(25, use_bias=False))\n",
    "model.add(BatchNormalization())\n",
    "model.add(Activation(\"relu\"))\n",
    "model.add(Dropout(0.1))\n",
    "model.add(Dense(6,activation=\"softmax\"))\n",
    "model.summary()\n",
    "\n",
    "model.compile(loss=\"categorical_crossentropy\",\n",
    "              optimizer=\"Adam\",\n",
    "              metrics=[\"accuracy\"])\n",
    "\n",
    "save_best_model = ModelCheckpoint(\"wagi_wersja_7.h5\", save_best_only=True)\n",
    "early_stopping = EarlyStopping(monitor='val_loss', patience=20, mode='min', verbose=1)"
   ]
  },
  {
   "cell_type": "code",
   "execution_count": 89,
   "id": "8023a89b-0450-4b75-ba1b-a525099fb0c2",
   "metadata": {
    "tags": []
   },
   "outputs": [
    {
     "name": "stdout",
     "output_type": "stream",
     "text": [
      "296/296 [==============================] - 2s 6ms/step - loss: 0.5750 - accuracy: 0.8162\n"
     ]
    }
   ],
   "source": [
    "# model.load_weights(\"wagi_wersja_7.h5\")\n",
    "# deep_results_test['DNN7'] = model.evaluate(X_test, y_test)[1]"
   ]
  },
  {
   "cell_type": "code",
   "execution_count": 72,
   "id": "ab76e49c-407e-400f-aaca-7ac4cbd4cac5",
   "metadata": {
    "collapsed": true,
    "jupyter": {
     "outputs_hidden": true
    },
    "tags": []
   },
   "outputs": [
    {
     "name": "stdout",
     "output_type": "stream",
     "text": [
      "Epoch 1/100\n",
      "945/945 [==============================] - 29s 27ms/step - loss: 0.8030 - accuracy: 0.7332 - val_loss: 0.6610 - val_accuracy: 0.7782\n",
      "Epoch 2/100\n",
      "945/945 [==============================] - 24s 25ms/step - loss: 0.6837 - accuracy: 0.7671 - val_loss: 0.6446 - val_accuracy: 0.7877\n",
      "Epoch 3/100\n",
      "945/945 [==============================] - 24s 25ms/step - loss: 0.6635 - accuracy: 0.7746 - val_loss: 0.6212 - val_accuracy: 0.7925\n",
      "Epoch 4/100\n",
      "945/945 [==============================] - 24s 25ms/step - loss: 0.6538 - accuracy: 0.7755 - val_loss: 0.6097 - val_accuracy: 0.7932\n",
      "Epoch 5/100\n",
      "945/945 [==============================] - 24s 26ms/step - loss: 0.6415 - accuracy: 0.7795 - val_loss: 0.6066 - val_accuracy: 0.7930\n",
      "Epoch 6/100\n",
      "945/945 [==============================] - 23s 24ms/step - loss: 0.6304 - accuracy: 0.7826 - val_loss: 0.6033 - val_accuracy: 0.8012\n",
      "Epoch 7/100\n",
      "945/945 [==============================] - 21s 22ms/step - loss: 0.6196 - accuracy: 0.7892 - val_loss: 0.6040 - val_accuracy: 0.8008\n",
      "Epoch 8/100\n",
      "945/945 [==============================] - 20s 21ms/step - loss: 0.6122 - accuracy: 0.7862 - val_loss: 0.5990 - val_accuracy: 0.7960\n",
      "Epoch 9/100\n",
      "945/945 [==============================] - 21s 22ms/step - loss: 0.6022 - accuracy: 0.7897 - val_loss: 0.5902 - val_accuracy: 0.8027\n",
      "Epoch 10/100\n",
      "945/945 [==============================] - 23s 24ms/step - loss: 0.5932 - accuracy: 0.7943 - val_loss: 0.5944 - val_accuracy: 0.8006\n",
      "Epoch 11/100\n",
      "945/945 [==============================] - 23s 24ms/step - loss: 0.5846 - accuracy: 0.7970 - val_loss: 0.5740 - val_accuracy: 0.8100\n",
      "Epoch 12/100\n",
      "945/945 [==============================] - 23s 24ms/step - loss: 0.5764 - accuracy: 0.8001 - val_loss: 0.5757 - val_accuracy: 0.8031\n",
      "Epoch 13/100\n",
      "945/945 [==============================] - 23s 24ms/step - loss: 0.5676 - accuracy: 0.8029 - val_loss: 0.5766 - val_accuracy: 0.8034\n",
      "Epoch 14/100\n",
      "945/945 [==============================] - 19s 21ms/step - loss: 0.5602 - accuracy: 0.8046 - val_loss: 0.5665 - val_accuracy: 0.8126\n",
      "Epoch 15/100\n",
      "945/945 [==============================] - 22s 23ms/step - loss: 0.5539 - accuracy: 0.8046 - val_loss: 0.5731 - val_accuracy: 0.8085\n",
      "Epoch 16/100\n",
      "945/945 [==============================] - 23s 24ms/step - loss: 0.5475 - accuracy: 0.8093 - val_loss: 0.5727 - val_accuracy: 0.8125\n",
      "Epoch 17/100\n",
      "945/945 [==============================] - 22s 24ms/step - loss: 0.5369 - accuracy: 0.8134 - val_loss: 0.5784 - val_accuracy: 0.8080\n",
      "Epoch 18/100\n",
      "945/945 [==============================] - 23s 24ms/step - loss: 0.5288 - accuracy: 0.8131 - val_loss: 0.5640 - val_accuracy: 0.8173\n",
      "Epoch 19/100\n",
      "945/945 [==============================] - 23s 24ms/step - loss: 0.5276 - accuracy: 0.8132 - val_loss: 0.5644 - val_accuracy: 0.8184\n",
      "Epoch 20/100\n",
      "945/945 [==============================] - 22s 24ms/step - loss: 0.5194 - accuracy: 0.8169 - val_loss: 0.5624 - val_accuracy: 0.8192\n",
      "Epoch 21/100\n",
      "945/945 [==============================] - 23s 24ms/step - loss: 0.5138 - accuracy: 0.8187 - val_loss: 0.5714 - val_accuracy: 0.8137\n",
      "Epoch 22/100\n",
      "945/945 [==============================] - 22s 23ms/step - loss: 0.5067 - accuracy: 0.8202 - val_loss: 0.5706 - val_accuracy: 0.8178\n",
      "Epoch 23/100\n",
      "945/945 [==============================] - 22s 24ms/step - loss: 0.5028 - accuracy: 0.8225 - val_loss: 0.5826 - val_accuracy: 0.8139\n",
      "Epoch 24/100\n",
      "945/945 [==============================] - 21s 22ms/step - loss: 0.4961 - accuracy: 0.8253 - val_loss: 0.5734 - val_accuracy: 0.8177\n",
      "Epoch 25/100\n",
      "945/945 [==============================] - 26s 27ms/step - loss: 0.4847 - accuracy: 0.8265 - val_loss: 0.5878 - val_accuracy: 0.8143\n",
      "Epoch 26/100\n",
      "945/945 [==============================] - 18s 19ms/step - loss: 0.4803 - accuracy: 0.8284 - val_loss: 0.5935 - val_accuracy: 0.8124\n",
      "Epoch 27/100\n",
      "945/945 [==============================] - 21s 22ms/step - loss: 0.4783 - accuracy: 0.8291 - val_loss: 0.5858 - val_accuracy: 0.8141\n",
      "Epoch 28/100\n",
      "945/945 [==============================] - 23s 24ms/step - loss: 0.4710 - accuracy: 0.8323 - val_loss: 0.5724 - val_accuracy: 0.8207\n",
      "Epoch 29/100\n",
      "945/945 [==============================] - 23s 24ms/step - loss: 0.4709 - accuracy: 0.8307 - val_loss: 0.5882 - val_accuracy: 0.8174\n",
      "Epoch 30/100\n",
      "945/945 [==============================] - 23s 24ms/step - loss: 0.4631 - accuracy: 0.8322 - val_loss: 0.5959 - val_accuracy: 0.8179\n",
      "Epoch 31/100\n",
      "945/945 [==============================] - 23s 24ms/step - loss: 0.4585 - accuracy: 0.8350 - val_loss: 0.5921 - val_accuracy: 0.8134\n",
      "Epoch 32/100\n",
      "945/945 [==============================] - 23s 24ms/step - loss: 0.4492 - accuracy: 0.8393 - val_loss: 0.5842 - val_accuracy: 0.8161\n",
      "Epoch 33/100\n",
      "945/945 [==============================] - 22s 23ms/step - loss: 0.4453 - accuracy: 0.8378 - val_loss: 0.6105 - val_accuracy: 0.8191\n",
      "Epoch 34/100\n",
      "945/945 [==============================] - 23s 24ms/step - loss: 0.4403 - accuracy: 0.8416 - val_loss: 0.6017 - val_accuracy: 0.8192\n",
      "Epoch 35/100\n",
      "945/945 [==============================] - 23s 24ms/step - loss: 0.4436 - accuracy: 0.8416 - val_loss: 0.5914 - val_accuracy: 0.8153\n",
      "Epoch 36/100\n",
      "945/945 [==============================] - 23s 24ms/step - loss: 0.4328 - accuracy: 0.8422 - val_loss: 0.6175 - val_accuracy: 0.8118\n",
      "Epoch 37/100\n",
      "945/945 [==============================] - 23s 24ms/step - loss: 0.4304 - accuracy: 0.8434 - val_loss: 0.6148 - val_accuracy: 0.8126\n",
      "Epoch 38/100\n",
      "945/945 [==============================] - 23s 24ms/step - loss: 0.4245 - accuracy: 0.8460 - val_loss: 0.5998 - val_accuracy: 0.8177\n",
      "Epoch 39/100\n",
      "945/945 [==============================] - 23s 24ms/step - loss: 0.4261 - accuracy: 0.8455 - val_loss: 0.6148 - val_accuracy: 0.8126\n",
      "Epoch 40/100\n",
      "945/945 [==============================] - 23s 24ms/step - loss: 0.4202 - accuracy: 0.8484 - val_loss: 0.6285 - val_accuracy: 0.8154\n",
      "Epoch 40: early stopping\n"
     ]
    }
   ],
   "source": [
    "history = model.fit(X_train, y_train, validation_data= (X_valid, y_valid), batch_size=32, epochs=100, callbacks=[save_best_model, early_stopping])"
   ]
  },
  {
   "cell_type": "code",
   "execution_count": 73,
   "id": "415eb1ea-f1d6-4d8b-8ba1-630419f3ec3e",
   "metadata": {
    "tags": []
   },
   "outputs": [
    {
     "data": {
      "image/png": "[encoded data removed]",
      "text/plain": [
       "<Figure size 800x500 with 1 Axes>"
      ]
     },
     "metadata": {},
     "output_type": "display_data"
    }
   ],
   "source": [
    "pd.DataFrame(history.history).plot(figsize=(8, 5))\n",
    "plt.grid(True)\n",
    "plt.gca().set_ylim(0, 1)\n",
    "plt.show()"
   ]
  },
  {
   "cell_type": "markdown",
   "id": "cf74f7d0-3274-4256-8a6c-a4286cc57d2f",
   "metadata": {},
   "source": [
    "### Podejście 8"
   ]
  },
  {
   "cell_type": "code",
   "execution_count": 128,
   "id": "81f2763f-6edd-45a6-8eed-3632da4850d6",
   "metadata": {
    "tags": []
   },
   "outputs": [
    {
     "name": "stdout",
     "output_type": "stream",
     "text": [
      "Model: \"sequential\"\n",
      "_________________________________________________________________\n",
      " Layer (type)                Output Shape              Param #   \n",
      "=================================================================\n",
      " dense (Dense)               (None, 1000)              52000     \n",
      "                                                                 \n",
      " batch_normalization (BatchN  (None, 1000)             4000      \n",
      " ormalization)                                                   \n",
      "                                                                 \n",
      " activation (Activation)     (None, 1000)              0         \n",
      "                                                                 \n",
      " dropout (Dropout)           (None, 1000)              0         \n",
      "                                                                 \n",
      " dense_1 (Dense)             (None, 700)               700000    \n",
      "                                                                 \n",
      " batch_normalization_1 (Batc  (None, 700)              2800      \n",
      " hNormalization)                                                 \n",
      "                                                                 \n",
      " activation_1 (Activation)   (None, 700)               0         \n",
      "                                                                 \n",
      " dropout_1 (Dropout)         (None, 700)               0         \n",
      "                                                                 \n",
      " dense_2 (Dense)             (None, 500)               350000    \n",
      "                                                                 \n",
      " batch_normalization_2 (Batc  (None, 500)              2000      \n",
      " hNormalization)                                                 \n",
      "                                                                 \n",
      " activation_2 (Activation)   (None, 500)               0         \n",
      "                                                                 \n",
      " dropout_2 (Dropout)         (None, 500)               0         \n",
      "                                                                 \n",
      " dense_3 (Dense)             (None, 300)               150000    \n",
      "                                                                 \n",
      " batch_normalization_3 (Batc  (None, 300)              1200      \n",
      " hNormalization)                                                 \n",
      "                                                                 \n",
      " activation_3 (Activation)   (None, 300)               0         \n",
      "                                                                 \n",
      " dropout_3 (Dropout)         (None, 300)               0         \n",
      "                                                                 \n",
      " dense_4 (Dense)             (None, 200)               60000     \n",
      "                                                                 \n",
      " batch_normalization_4 (Batc  (None, 200)              800       \n",
      " hNormalization)                                                 \n",
      "                                                                 \n",
      " activation_4 (Activation)   (None, 200)               0         \n",
      "                                                                 \n",
      " dropout_4 (Dropout)         (None, 200)               0         \n",
      "                                                                 \n",
      " dense_5 (Dense)             (None, 100)               20000     \n",
      "                                                                 \n",
      " batch_normalization_5 (Batc  (None, 100)              400       \n",
      " hNormalization)                                                 \n",
      "                                                                 \n",
      " activation_5 (Activation)   (None, 100)               0         \n",
      "                                                                 \n",
      " dropout_5 (Dropout)         (None, 100)               0         \n",
      "                                                                 \n",
      " dense_6 (Dense)             (None, 50)                5000      \n",
      "                                                                 \n",
      " batch_normalization_6 (Batc  (None, 50)               200       \n",
      " hNormalization)                                                 \n",
      "                                                                 \n",
      " activation_6 (Activation)   (None, 50)                0         \n",
      "                                                                 \n",
      " dropout_6 (Dropout)         (None, 50)                0         \n",
      "                                                                 \n",
      " dense_7 (Dense)             (None, 25)                1250      \n",
      "                                                                 \n",
      " batch_normalization_7 (Batc  (None, 25)               100       \n",
      " hNormalization)                                                 \n",
      "                                                                 \n",
      " activation_7 (Activation)   (None, 25)                0         \n",
      "                                                                 \n",
      " dropout_7 (Dropout)         (None, 25)                0         \n",
      "                                                                 \n",
      " dense_8 (Dense)             (None, 6)                 156       \n",
      "                                                                 \n",
      "=================================================================\n",
      "Total params: 1,349,906\n",
      "Trainable params: 1,344,156\n",
      "Non-trainable params: 5,750\n",
      "_________________________________________________________________\n"
     ]
    }
   ],
   "source": [
    "keras.backend.clear_session()\n",
    "\n",
    "history = History()\n",
    "model = Sequential()\n",
    "model.add(Dense(1000, use_bias=False, input_shape=(X_train.shape[1],)))\n",
    "model.add(BatchNormalization())\n",
    "model.add(Activation(\"relu\"))\n",
    "model.add(Dropout(0.2))\n",
    "model.add(Dense(700, use_bias=False))\n",
    "model.add(BatchNormalization())\n",
    "model.add(Activation(\"relu\"))\n",
    "model.add(Dropout(0.2))\n",
    "model.add(Dense(500, use_bias=False))\n",
    "model.add(BatchNormalization())\n",
    "model.add(Activation(\"relu\"))\n",
    "model.add(Dropout(0.2))\n",
    "model.add(Dense(300, use_bias=False))\n",
    "model.add(BatchNormalization())\n",
    "model.add(Activation(\"relu\"))\n",
    "model.add(Dropout(0.2))\n",
    "model.add(Dense(200, use_bias=False))\n",
    "model.add(BatchNormalization())\n",
    "model.add(Activation(\"relu\"))\n",
    "model.add(Dropout(0.2))\n",
    "model.add(Dense(100, use_bias=False))\n",
    "model.add(BatchNormalization())\n",
    "model.add(Activation(\"relu\"))\n",
    "model.add(Dropout(0.2))\n",
    "model.add(Dense(50, use_bias=False))\n",
    "model.add(BatchNormalization())\n",
    "model.add(Activation(\"relu\"))\n",
    "model.add(Dropout(0.2))\n",
    "model.add(Dense(25, use_bias=False))\n",
    "model.add(BatchNormalization())\n",
    "model.add(Activation(\"relu\"))\n",
    "model.add(Dropout(0.2))\n",
    "model.add(Dense(6, activation=\"softmax\"))\n",
    "model.summary()\n",
    "\n",
    "model.compile(loss=\"categorical_crossentropy\",\n",
    "              optimizer=\"Adam\",\n",
    "              metrics=[\"accuracy\"])\n",
    "\n",
    "save_best_model = ModelCheckpoint(\"wagi_wersja_8.h5\", save_best_only=True)\n",
    "early_stopping = EarlyStopping(monitor='val_loss', patience=20, mode='min', verbose=1)"
   ]
  },
  {
   "cell_type": "code",
   "execution_count": 131,
   "id": "1c2ced40-40d1-4a1a-8ec3-9143979eb9c9",
   "metadata": {
    "tags": []
   },
   "outputs": [
    {
     "name": "stdout",
     "output_type": "stream",
     "text": [
      "296/296 [==============================] - 4s 12ms/step - loss: 0.5785 - accuracy: 0.8160\n"
     ]
    }
   ],
   "source": [
    "model.load_weights(\"wagi_wersja_8.h5\")\n",
    "deep_results_test['DNN8'] = model.evaluate(X_test, y_test)[1]"
   ]
  },
  {
   "cell_type": "code",
   "execution_count": 129,
   "id": "56662cdc-b433-49c6-9f51-041ecb6300cf",
   "metadata": {
    "tags": []
   },
   "outputs": [
    {
     "name": "stdout",
     "output_type": "stream",
     "text": [
      "Epoch 1/100\n",
      "945/945 [==============================] - 34s 32ms/step - loss: 0.8978 - accuracy: 0.7100 - val_loss: 0.6742 - val_accuracy: 0.7840\n",
      "Epoch 2/100\n",
      "945/945 [==============================] - 28s 30ms/step - loss: 0.7218 - accuracy: 0.7622 - val_loss: 0.6368 - val_accuracy: 0.7868\n",
      "Epoch 3/100\n",
      "945/945 [==============================] - 30s 32ms/step - loss: 0.6953 - accuracy: 0.7666 - val_loss: 0.6339 - val_accuracy: 0.7881\n",
      "Epoch 4/100\n",
      "945/945 [==============================] - 31s 32ms/step - loss: 0.6814 - accuracy: 0.7743 - val_loss: 0.6277 - val_accuracy: 0.7844\n",
      "Epoch 5/100\n",
      "945/945 [==============================] - 31s 32ms/step - loss: 0.6688 - accuracy: 0.7735 - val_loss: 0.6362 - val_accuracy: 0.7780\n",
      "Epoch 6/100\n",
      "945/945 [==============================] - 30s 32ms/step - loss: 0.6600 - accuracy: 0.7783 - val_loss: 0.6126 - val_accuracy: 0.7918\n",
      "Epoch 7/100\n",
      "945/945 [==============================] - 30s 32ms/step - loss: 0.6570 - accuracy: 0.7784 - val_loss: 0.6055 - val_accuracy: 0.7949\n",
      "Epoch 8/100\n",
      "945/945 [==============================] - 31s 33ms/step - loss: 0.6489 - accuracy: 0.7807 - val_loss: 0.6162 - val_accuracy: 0.7946\n",
      "Epoch 9/100\n",
      "945/945 [==============================] - 29s 31ms/step - loss: 0.6412 - accuracy: 0.7838 - val_loss: 0.6199 - val_accuracy: 0.7888\n",
      "Epoch 10/100\n",
      "945/945 [==============================] - 30s 31ms/step - loss: 0.6340 - accuracy: 0.7815 - val_loss: 0.6029 - val_accuracy: 0.7920\n",
      "Epoch 11/100\n",
      "945/945 [==============================] - 29s 31ms/step - loss: 0.6267 - accuracy: 0.7861 - val_loss: 0.5923 - val_accuracy: 0.8020\n",
      "Epoch 12/100\n",
      "945/945 [==============================] - 30s 31ms/step - loss: 0.6188 - accuracy: 0.7885 - val_loss: 0.5898 - val_accuracy: 0.7969\n",
      "Epoch 13/100\n",
      "945/945 [==============================] - 30s 32ms/step - loss: 0.6132 - accuracy: 0.7895 - val_loss: 0.5833 - val_accuracy: 0.7977\n",
      "Epoch 14/100\n",
      "945/945 [==============================] - 30s 32ms/step - loss: 0.6115 - accuracy: 0.7907 - val_loss: 0.5820 - val_accuracy: 0.8055\n",
      "Epoch 15/100\n",
      "945/945 [==============================] - 29s 30ms/step - loss: 0.6000 - accuracy: 0.7941 - val_loss: 0.5692 - val_accuracy: 0.8122\n",
      "Epoch 16/100\n",
      "945/945 [==============================] - 28s 30ms/step - loss: 0.5960 - accuracy: 0.7934 - val_loss: 0.5857 - val_accuracy: 0.8016\n",
      "Epoch 17/100\n",
      "945/945 [==============================] - 28s 30ms/step - loss: 0.5927 - accuracy: 0.7971 - val_loss: 0.5758 - val_accuracy: 0.8132\n",
      "Epoch 18/100\n",
      "945/945 [==============================] - 29s 31ms/step - loss: 0.5898 - accuracy: 0.7974 - val_loss: 0.5744 - val_accuracy: 0.8085\n",
      "Epoch 19/100\n",
      "945/945 [==============================] - 29s 31ms/step - loss: 0.5799 - accuracy: 0.7992 - val_loss: 0.5832 - val_accuracy: 0.8008\n",
      "Epoch 20/100\n",
      "945/945 [==============================] - 29s 30ms/step - loss: 0.5746 - accuracy: 0.7997 - val_loss: 0.5745 - val_accuracy: 0.8121\n",
      "Epoch 21/100\n",
      "945/945 [==============================] - 30s 31ms/step - loss: 0.5731 - accuracy: 0.8016 - val_loss: 0.5676 - val_accuracy: 0.8136\n",
      "Epoch 22/100\n",
      "945/945 [==============================] - 29s 31ms/step - loss: 0.5624 - accuracy: 0.8038 - val_loss: 0.5803 - val_accuracy: 0.8056\n",
      "Epoch 23/100\n",
      "945/945 [==============================] - 29s 31ms/step - loss: 0.5585 - accuracy: 0.8047 - val_loss: 0.5688 - val_accuracy: 0.8133\n",
      "Epoch 24/100\n",
      "945/945 [==============================] - 28s 30ms/step - loss: 0.5587 - accuracy: 0.8058 - val_loss: 0.5660 - val_accuracy: 0.8147\n",
      "Epoch 25/100\n",
      "945/945 [==============================] - 29s 31ms/step - loss: 0.5535 - accuracy: 0.8080 - val_loss: 0.5689 - val_accuracy: 0.8202\n",
      "Epoch 26/100\n",
      "945/945 [==============================] - 28s 30ms/step - loss: 0.5464 - accuracy: 0.8095 - val_loss: 0.5658 - val_accuracy: 0.8141\n",
      "Epoch 27/100\n",
      "945/945 [==============================] - 29s 30ms/step - loss: 0.5419 - accuracy: 0.8094 - val_loss: 0.5714 - val_accuracy: 0.8158\n",
      "Epoch 28/100\n",
      "945/945 [==============================] - 29s 30ms/step - loss: 0.5424 - accuracy: 0.8108 - val_loss: 0.5668 - val_accuracy: 0.8141\n",
      "Epoch 29/100\n",
      "945/945 [==============================] - 29s 31ms/step - loss: 0.5304 - accuracy: 0.8135 - val_loss: 0.5759 - val_accuracy: 0.8110\n",
      "Epoch 30/100\n",
      "945/945 [==============================] - 27s 28ms/step - loss: 0.5292 - accuracy: 0.8152 - val_loss: 0.5761 - val_accuracy: 0.8147\n",
      "Epoch 31/100\n",
      "945/945 [==============================] - 30s 31ms/step - loss: 0.5276 - accuracy: 0.8146 - val_loss: 0.5778 - val_accuracy: 0.8089\n",
      "Epoch 32/100\n",
      "945/945 [==============================] - 29s 31ms/step - loss: 0.5274 - accuracy: 0.8159 - val_loss: 0.5635 - val_accuracy: 0.8154\n",
      "Epoch 33/100\n",
      "945/945 [==============================] - 29s 31ms/step - loss: 0.5216 - accuracy: 0.8175 - val_loss: 0.5743 - val_accuracy: 0.8128\n",
      "Epoch 34/100\n",
      "945/945 [==============================] - 29s 31ms/step - loss: 0.5181 - accuracy: 0.8187 - val_loss: 0.5751 - val_accuracy: 0.8163\n",
      "Epoch 35/100\n",
      "945/945 [==============================] - 29s 31ms/step - loss: 0.5152 - accuracy: 0.8175 - val_loss: 0.5753 - val_accuracy: 0.8145\n",
      "Epoch 36/100\n",
      "945/945 [==============================] - 29s 30ms/step - loss: 0.5124 - accuracy: 0.8198 - val_loss: 0.5870 - val_accuracy: 0.8128\n",
      "Epoch 37/100\n",
      "945/945 [==============================] - 29s 31ms/step - loss: 0.5101 - accuracy: 0.8205 - val_loss: 0.5791 - val_accuracy: 0.8190\n",
      "Epoch 38/100\n",
      "945/945 [==============================] - 29s 31ms/step - loss: 0.5046 - accuracy: 0.8214 - val_loss: 0.5772 - val_accuracy: 0.8171\n",
      "Epoch 39/100\n",
      "945/945 [==============================] - 29s 30ms/step - loss: 0.5066 - accuracy: 0.8213 - val_loss: 0.5759 - val_accuracy: 0.8151\n",
      "Epoch 40/100\n",
      "945/945 [==============================] - 28s 30ms/step - loss: 0.4980 - accuracy: 0.8245 - val_loss: 0.5878 - val_accuracy: 0.8106\n",
      "Epoch 41/100\n",
      "945/945 [==============================] - 29s 30ms/step - loss: 0.5006 - accuracy: 0.8225 - val_loss: 0.5771 - val_accuracy: 0.8169\n",
      "Epoch 42/100\n",
      "945/945 [==============================] - 28s 30ms/step - loss: 0.4929 - accuracy: 0.8247 - val_loss: 0.6008 - val_accuracy: 0.8083\n",
      "Epoch 43/100\n",
      "945/945 [==============================] - 28s 30ms/step - loss: 0.4896 - accuracy: 0.8248 - val_loss: 0.5919 - val_accuracy: 0.8157\n",
      "Epoch 44/100\n",
      "945/945 [==============================] - 28s 30ms/step - loss: 0.4863 - accuracy: 0.8280 - val_loss: 0.5808 - val_accuracy: 0.8178\n",
      "Epoch 45/100\n",
      "945/945 [==============================] - 28s 30ms/step - loss: 0.4883 - accuracy: 0.8262 - val_loss: 0.5877 - val_accuracy: 0.8094\n",
      "Epoch 46/100\n",
      "945/945 [==============================] - 29s 30ms/step - loss: 0.4771 - accuracy: 0.8309 - val_loss: 0.5898 - val_accuracy: 0.8145\n",
      "Epoch 47/100\n",
      "945/945 [==============================] - 26s 28ms/step - loss: 0.4822 - accuracy: 0.8267 - val_loss: 0.5885 - val_accuracy: 0.8154\n",
      "Epoch 48/100\n",
      "945/945 [==============================] - 29s 31ms/step - loss: 0.4784 - accuracy: 0.8304 - val_loss: 0.5805 - val_accuracy: 0.8180\n",
      "Epoch 49/100\n",
      "945/945 [==============================] - 29s 30ms/step - loss: 0.4748 - accuracy: 0.8331 - val_loss: 0.5917 - val_accuracy: 0.8097\n",
      "Epoch 50/100\n",
      "945/945 [==============================] - 28s 30ms/step - loss: 0.4722 - accuracy: 0.8327 - val_loss: 0.5895 - val_accuracy: 0.8169\n",
      "Epoch 51/100\n",
      "945/945 [==============================] - 29s 30ms/step - loss: 0.4680 - accuracy: 0.8327 - val_loss: 0.5987 - val_accuracy: 0.8149\n",
      "Epoch 52/100\n",
      "945/945 [==============================] - 29s 31ms/step - loss: 0.4666 - accuracy: 0.8326 - val_loss: 0.5950 - val_accuracy: 0.8194\n",
      "Epoch 52: early stopping\n"
     ]
    }
   ],
   "source": [
    "history = model.fit(X_train, y_train, validation_data= (X_valid, y_valid), batch_size=32, epochs=100, callbacks=[save_best_model, early_stopping])"
   ]
  },
  {
   "cell_type": "code",
   "execution_count": 130,
   "id": "5c1a2160-83e1-409d-b9d6-a5f4cbbfa459",
   "metadata": {
    "tags": []
   },
   "outputs": [
    {
     "data": {
      "image/png": "[encoded data removed]",
      "text/plain": [
       "<Figure size 800x500 with 1 Axes>"
      ]
     },
     "metadata": {},
     "output_type": "display_data"
    }
   ],
   "source": [
    "pd.DataFrame(history.history).plot(figsize=(8, 5))\n",
    "plt.grid(True)\n",
    "plt.gca().set_ylim(0, 1)\n",
    "plt.show()"
   ]
  },
  {
   "cell_type": "markdown",
   "id": "5926d726-cf2a-49fa-84bd-2fa874679360",
   "metadata": {},
   "source": [
    "## Podsumowanie"
   ]
  },
  {
   "cell_type": "code",
   "execution_count": 132,
   "id": "2c3d41ae-5de5-4832-b950-ba9c4a84931d",
   "metadata": {
    "tags": []
   },
   "outputs": [],
   "source": [
    "labels, values = tuple(zip(*sorted(deep_results_test.items(), key=lambda x: x[1])))"
   ]
  },
  {
   "cell_type": "code",
   "execution_count": 133,
   "id": "7c27e0a8-023a-40ef-bd83-439d817bbe77",
   "metadata": {
    "tags": []
   },
   "outputs": [
    {
     "data": {
      "image/png": "[encoded data removed]",
      "text/plain": [
       "<Figure size 640x480 with 1 Axes>"
      ]
     },
     "metadata": {},
     "output_type": "display_data"
    }
   ],
   "source": [
    "plt.plot(np.arange(len(values)), values)\n",
    "plt.xticks(ticks=np.arange(len(values)), labels=labels);"
   ]
  },
  {
   "cell_type": "code",
   "execution_count": 134,
   "id": "d0698fe6-1812-4793-b70a-bfcd64928387",
   "metadata": {
    "tags": []
   },
   "outputs": [],
   "source": [
    "import json"
   ]
  },
  {
   "cell_type": "code",
   "execution_count": 135,
   "id": "edc7f97a-9752-4e7e-ac22-8ad3867da123",
   "metadata": {
    "tags": []
   },
   "outputs": [],
   "source": [
    "with open('deep.json', 'w') as f:\n",
    "    json.dump(dict(zip(labels, values)), f, ensure_ascii=False)"
   ]
  },
  {
   "cell_type": "code",
   "execution_count": 136,
   "id": "e1b82956-0b2f-4e45-95e1-60c2999b2895",
   "metadata": {
    "tags": []
   },
   "outputs": [],
   "source": [
    "with open('shallow.json', 'r') as f:\n",
    "    exec('shallow =' + f.read())"
   ]
  },
  {
   "cell_type": "code",
   "execution_count": 137,
   "id": "4f394440-c55f-4591-8c32-d0595a938992",
   "metadata": {
    "tags": []
   },
   "outputs": [],
   "source": [
    "shallow_results = [(x[0], x[1][1]) for x in shallow.items()]"
   ]
  },
  {
   "cell_type": "code",
   "execution_count": 138,
   "id": "2372ee3c-d30d-443d-a74f-59dc90a96dfd",
   "metadata": {
    "tags": []
   },
   "outputs": [],
   "source": [
    "labels, values = tuple(zip(*sorted(list(deep_results_test.items())+shallow_results, key=lambda x: x[1])))"
   ]
  },
  {
   "cell_type": "code",
   "execution_count": 139,
   "id": "bd78da9f-bc58-4daf-998d-e758bd622f7b",
   "metadata": {
    "tags": []
   },
   "outputs": [
    {
     "data": {
      "image/png": "[encoded data removed]",
      "text/plain": [
       "<Figure size 1300x400 with 1 Axes>"
      ]
     },
     "metadata": {},
     "output_type": "display_data"
    }
   ],
   "source": [
    "fig = plt.figure(figsize=(13,4))\n",
    "plt.plot(np.arange(len(values)), values)\n",
    "plt.xticks(ticks=np.arange(len(values)), labels=labels);"
   ]
  },
  {
   "cell_type": "code",
   "execution_count": null,
   "id": "d72a4b56-e3f0-4d55-8b62-1d9e63be6087",
   "metadata": {},
   "outputs": [],
   "source": []
  }
 ],
 "metadata": {
  "kernelspec": {
   "display_name": "Python 3 (ipykernel)",
   "language": "python",
   "name": "python3"
  },
  "language_info": {
   "codemirror_mode": {
    "name": "ipython",
    "version": 3
   },
   "file_extension": ".py",
   "mimetype": "text/x-python",
   "name": "python",
   "nbconvert_exporter": "python",
   "pygments_lexer": "ipython3",
   "version": "3.11.0"
  }
 },
 "nbformat": 4,
 "nbformat_minor": 5
}
