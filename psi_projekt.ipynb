{
 "cells": [
  {
   "cell_type": "markdown",
   "id": "50409db8-149a-4abc-9dfa-71d1a05291e6",
   "metadata": {},
   "source": [
    "# Projekt PSI\n",
    "Szymon Mol"
   ]
  },
  {
   "cell_type": "code",
   "execution_count": null,
   "id": "7b8ea83d-ba05-46ff-b602-b1ff1a8e545b",
   "metadata": {},
   "outputs": [],
   "source": []
  }
 ],
 "metadata": {
  "kernelspec": {
   "display_name": "Python 3 (ipykernel)",
   "language": "python",
   "name": "python3"
  },
  "language_info": {
   "codemirror_mode": {
    "name": "ipython",
    "version": 3
   },
   "file_extension": ".py",
   "mimetype": "text/x-python",
   "name": "python",
   "nbconvert_exporter": "python",
   "pygments_lexer": "ipython3",
   "version": "3.11.0"
  }
 },
 "nbformat": 4,
 "nbformat_minor": 5
}
