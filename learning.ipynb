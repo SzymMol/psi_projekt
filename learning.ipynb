{
 "cells": [
  {
   "cell_type": "code",
   "execution_count": 1,
   "id": "255a5144-1e1b-4f6c-a547-8cd0451283ed",
   "metadata": {
    "tags": []
   },
   "outputs": [],
   "source": [
    "import pandas as pd               \n",
    "import numpy as np          \n",
    "import matplotlib.pyplot as plt "
   ]
  },
  {
   "cell_type": "markdown",
   "id": "6b4ff90b-5f28-4ee7-8a8d-34d6fb40deb5",
   "metadata": {},
   "source": [
    "# PSI projekt - metody płytkie"
   ]
  },
  {
   "cell_type": "code",
   "execution_count": 2,
   "id": "3165a1e5-7425-4bb4-8a1d-366fed6ba57e",
   "metadata": {
    "tags": []
   },
   "outputs": [],
   "source": [
    "train = pd.read_csv('data/dane_poprawione.csv')"
   ]
  },
  {
   "cell_type": "code",
   "execution_count": 3,
   "id": "0fcd7d44-59c8-4fbb-bfc9-66518a3af60e",
   "metadata": {
    "tags": []
   },
   "outputs": [
    {
     "name": "stdout",
     "output_type": "stream",
     "text": [
      "<class 'pandas.core.frame.DataFrame'>\n",
      "RangeIndex: 47231 entries, 0 to 47230\n",
      "Data columns (total 50 columns):\n",
      " #   Column                  Non-Null Count  Dtype  \n",
      "---  ------                  --------------  -----  \n",
      " 0   com_type                47176 non-null  object \n",
      " 1   prod_size               47231 non-null  object \n",
      " 2   x                       47231 non-null  float64\n",
      " 3   y                       47231 non-null  float64\n",
      " 4   z                       47231 non-null  float64\n",
      " 5   Construction            47231 non-null  float64\n",
      " 6   Copper                  47231 non-null  float64\n",
      " 7   Gold                    47231 non-null  float64\n",
      " 8   Iron                    47231 non-null  float64\n",
      " 9   Lead                    47231 non-null  float64\n",
      " 10  Sand and Gravel         47231 non-null  float64\n",
      " 11  Silver                  47231 non-null  float64\n",
      " 12  Tungsten                47231 non-null  float64\n",
      " 13  Uranium                 47231 non-null  float64\n",
      " 14  Zinc                    47231 non-null  float64\n",
      " 15  Other_com1              47231 non-null  float64\n",
      " 16  x0_Leach                47231 non-null  float64\n",
      " 17  x0_Placer               47231 non-null  float64\n",
      " 18  x0_Processing Plant     47231 non-null  float64\n",
      " 19  x0_Surface              47231 non-null  float64\n",
      " 20  x0_Surface-Underground  47231 non-null  float64\n",
      " 21  x0_Underground          47231 non-null  float64\n",
      " 22  x0_Unknown              47231 non-null  float64\n",
      " 23  x0_Well                 47231 non-null  float64\n",
      " 24  x0_Occurrence           47231 non-null  float64\n",
      " 25  x0_Past Producer        47231 non-null  float64\n",
      " 26  x0_Plant                47231 non-null  float64\n",
      " 27  x0_Producer             47231 non-null  float64\n",
      " 28  x0_Prospect             47231 non-null  float64\n",
      " 29  Chalcocite              47231 non-null  float64\n",
      " 30  Chalcopyrite            47231 non-null  float64\n",
      " 31  Galena                  47231 non-null  float64\n",
      " 32  Hematite                47231 non-null  float64\n",
      " 33  Magnetite               47231 non-null  float64\n",
      " 34  Malachite               47231 non-null  float64\n",
      " 35  Pyrite                  47231 non-null  float64\n",
      " 36  Sphalerite              47231 non-null  float64\n",
      " 37  Other_ore               47231 non-null  float64\n",
      " 38  Andesite                47231 non-null  float64\n",
      " 39  Diorite                 47231 non-null  float64\n",
      " 40  Dolomite                47231 non-null  float64\n",
      " 41  Gneiss                  47231 non-null  float64\n",
      " 42  Granite                 47231 non-null  float64\n",
      " 43  Gravel                  47231 non-null  float64\n",
      " 44  Limestone               47231 non-null  float64\n",
      " 45  Quartzite               47231 non-null  float64\n",
      " 46  Sandstone               47231 non-null  float64\n",
      " 47  Schist                  47231 non-null  float64\n",
      " 48  Shale                   47231 non-null  float64\n",
      " 49  Other_hrock             47231 non-null  float64\n",
      "dtypes: float64(48), object(2)\n",
      "memory usage: 18.0+ MB\n"
     ]
    }
   ],
   "source": [
    "train.info()"
   ]
  },
  {
   "cell_type": "code",
   "execution_count": 4,
   "id": "f23a66b5-35f8-4c6b-827e-c0cd95640266",
   "metadata": {
    "tags": []
   },
   "outputs": [
    {
     "data": {
      "text/html": [
       "<div>\n",
       "<style scoped>\n",
       "    .dataframe tbody tr th:only-of-type {\n",
       "        vertical-align: middle;\n",
       "    }\n",
       "\n",
       "    .dataframe tbody tr th {\n",
       "        vertical-align: top;\n",
       "    }\n",
       "\n",
       "    .dataframe thead th {\n",
       "        text-align: right;\n",
       "    }\n",
       "</style>\n",
       "<table border=\"1\" class=\"dataframe\">\n",
       "  <thead>\n",
       "    <tr style=\"text-align: right;\">\n",
       "      <th></th>\n",
       "      <th>com_type</th>\n",
       "      <th>prod_size</th>\n",
       "      <th>x</th>\n",
       "      <th>y</th>\n",
       "      <th>z</th>\n",
       "      <th>Construction</th>\n",
       "      <th>Copper</th>\n",
       "      <th>Gold</th>\n",
       "      <th>Iron</th>\n",
       "      <th>Lead</th>\n",
       "      <th>...</th>\n",
       "      <th>Dolomite</th>\n",
       "      <th>Gneiss</th>\n",
       "      <th>Granite</th>\n",
       "      <th>Gravel</th>\n",
       "      <th>Limestone</th>\n",
       "      <th>Quartzite</th>\n",
       "      <th>Sandstone</th>\n",
       "      <th>Schist</th>\n",
       "      <th>Shale</th>\n",
       "      <th>Other_hrock</th>\n",
       "    </tr>\n",
       "  </thead>\n",
       "  <tbody>\n",
       "    <tr>\n",
       "      <th>0</th>\n",
       "      <td>M</td>\n",
       "      <td>N</td>\n",
       "      <td>0.424693</td>\n",
       "      <td>-0.384325</td>\n",
       "      <td>0.819713</td>\n",
       "      <td>0.0</td>\n",
       "      <td>1.0</td>\n",
       "      <td>0.0</td>\n",
       "      <td>0.0</td>\n",
       "      <td>0.0</td>\n",
       "      <td>...</td>\n",
       "      <td>0.0</td>\n",
       "      <td>0.0</td>\n",
       "      <td>0.0</td>\n",
       "      <td>0.0</td>\n",
       "      <td>0.0</td>\n",
       "      <td>0.0</td>\n",
       "      <td>0.0</td>\n",
       "      <td>1.0</td>\n",
       "      <td>0.0</td>\n",
       "      <td>0.0</td>\n",
       "    </tr>\n",
       "    <tr>\n",
       "      <th>1</th>\n",
       "      <td>M</td>\n",
       "      <td>N</td>\n",
       "      <td>0.416069</td>\n",
       "      <td>-0.383738</td>\n",
       "      <td>0.824398</td>\n",
       "      <td>0.0</td>\n",
       "      <td>1.0</td>\n",
       "      <td>0.0</td>\n",
       "      <td>0.0</td>\n",
       "      <td>0.0</td>\n",
       "      <td>...</td>\n",
       "      <td>0.0</td>\n",
       "      <td>0.0</td>\n",
       "      <td>0.0</td>\n",
       "      <td>0.0</td>\n",
       "      <td>0.0</td>\n",
       "      <td>0.0</td>\n",
       "      <td>0.0</td>\n",
       "      <td>0.0</td>\n",
       "      <td>0.0</td>\n",
       "      <td>1.0</td>\n",
       "    </tr>\n",
       "    <tr>\n",
       "      <th>2</th>\n",
       "      <td>M</td>\n",
       "      <td>N</td>\n",
       "      <td>0.409212</td>\n",
       "      <td>-0.381584</td>\n",
       "      <td>0.828818</td>\n",
       "      <td>0.0</td>\n",
       "      <td>1.0</td>\n",
       "      <td>0.0</td>\n",
       "      <td>0.0</td>\n",
       "      <td>0.0</td>\n",
       "      <td>...</td>\n",
       "      <td>0.0</td>\n",
       "      <td>0.0</td>\n",
       "      <td>0.0</td>\n",
       "      <td>0.0</td>\n",
       "      <td>0.0</td>\n",
       "      <td>0.0</td>\n",
       "      <td>0.0</td>\n",
       "      <td>0.0</td>\n",
       "      <td>0.0</td>\n",
       "      <td>1.0</td>\n",
       "    </tr>\n",
       "    <tr>\n",
       "      <th>3</th>\n",
       "      <td>M</td>\n",
       "      <td>N</td>\n",
       "      <td>0.416118</td>\n",
       "      <td>-0.383802</td>\n",
       "      <td>0.824343</td>\n",
       "      <td>0.0</td>\n",
       "      <td>0.0</td>\n",
       "      <td>0.0</td>\n",
       "      <td>0.0</td>\n",
       "      <td>0.0</td>\n",
       "      <td>...</td>\n",
       "      <td>0.0</td>\n",
       "      <td>0.0</td>\n",
       "      <td>1.0</td>\n",
       "      <td>0.0</td>\n",
       "      <td>0.0</td>\n",
       "      <td>0.0</td>\n",
       "      <td>0.0</td>\n",
       "      <td>0.0</td>\n",
       "      <td>0.0</td>\n",
       "      <td>0.0</td>\n",
       "    </tr>\n",
       "    <tr>\n",
       "      <th>4</th>\n",
       "      <td>M</td>\n",
       "      <td>N</td>\n",
       "      <td>0.424353</td>\n",
       "      <td>-0.382792</td>\n",
       "      <td>0.820607</td>\n",
       "      <td>0.0</td>\n",
       "      <td>0.0</td>\n",
       "      <td>0.0</td>\n",
       "      <td>0.0</td>\n",
       "      <td>0.0</td>\n",
       "      <td>...</td>\n",
       "      <td>0.0</td>\n",
       "      <td>0.0</td>\n",
       "      <td>0.0</td>\n",
       "      <td>0.0</td>\n",
       "      <td>0.0</td>\n",
       "      <td>0.0</td>\n",
       "      <td>0.0</td>\n",
       "      <td>0.0</td>\n",
       "      <td>0.0</td>\n",
       "      <td>1.0</td>\n",
       "    </tr>\n",
       "    <tr>\n",
       "      <th>...</th>\n",
       "      <td>...</td>\n",
       "      <td>...</td>\n",
       "      <td>...</td>\n",
       "      <td>...</td>\n",
       "      <td>...</td>\n",
       "      <td>...</td>\n",
       "      <td>...</td>\n",
       "      <td>...</td>\n",
       "      <td>...</td>\n",
       "      <td>...</td>\n",
       "      <td>...</td>\n",
       "      <td>...</td>\n",
       "      <td>...</td>\n",
       "      <td>...</td>\n",
       "      <td>...</td>\n",
       "      <td>...</td>\n",
       "      <td>...</td>\n",
       "      <td>...</td>\n",
       "      <td>...</td>\n",
       "      <td>...</td>\n",
       "      <td>...</td>\n",
       "    </tr>\n",
       "    <tr>\n",
       "      <th>47226</th>\n",
       "      <td>M</td>\n",
       "      <td>L</td>\n",
       "      <td>0.720220</td>\n",
       "      <td>-0.369904</td>\n",
       "      <td>0.586902</td>\n",
       "      <td>0.0</td>\n",
       "      <td>0.0</td>\n",
       "      <td>0.0</td>\n",
       "      <td>0.0</td>\n",
       "      <td>0.0</td>\n",
       "      <td>...</td>\n",
       "      <td>0.0</td>\n",
       "      <td>1.0</td>\n",
       "      <td>0.0</td>\n",
       "      <td>0.0</td>\n",
       "      <td>0.0</td>\n",
       "      <td>0.0</td>\n",
       "      <td>0.0</td>\n",
       "      <td>0.0</td>\n",
       "      <td>0.0</td>\n",
       "      <td>1.0</td>\n",
       "    </tr>\n",
       "    <tr>\n",
       "      <th>47227</th>\n",
       "      <td>B</td>\n",
       "      <td>L</td>\n",
       "      <td>0.739207</td>\n",
       "      <td>-0.346274</td>\n",
       "      <td>0.577640</td>\n",
       "      <td>0.0</td>\n",
       "      <td>0.0</td>\n",
       "      <td>1.0</td>\n",
       "      <td>0.0</td>\n",
       "      <td>0.0</td>\n",
       "      <td>...</td>\n",
       "      <td>0.0</td>\n",
       "      <td>0.0</td>\n",
       "      <td>0.0</td>\n",
       "      <td>0.0</td>\n",
       "      <td>0.0</td>\n",
       "      <td>0.0</td>\n",
       "      <td>0.0</td>\n",
       "      <td>0.0</td>\n",
       "      <td>0.0</td>\n",
       "      <td>1.0</td>\n",
       "    </tr>\n",
       "    <tr>\n",
       "      <th>47228</th>\n",
       "      <td>M</td>\n",
       "      <td>L</td>\n",
       "      <td>0.733767</td>\n",
       "      <td>-0.351020</td>\n",
       "      <td>0.581697</td>\n",
       "      <td>0.0</td>\n",
       "      <td>0.0</td>\n",
       "      <td>1.0</td>\n",
       "      <td>0.0</td>\n",
       "      <td>0.0</td>\n",
       "      <td>...</td>\n",
       "      <td>0.0</td>\n",
       "      <td>0.0</td>\n",
       "      <td>0.0</td>\n",
       "      <td>0.0</td>\n",
       "      <td>0.0</td>\n",
       "      <td>0.0</td>\n",
       "      <td>0.0</td>\n",
       "      <td>0.0</td>\n",
       "      <td>0.0</td>\n",
       "      <td>1.0</td>\n",
       "    </tr>\n",
       "    <tr>\n",
       "      <th>47229</th>\n",
       "      <td>M</td>\n",
       "      <td>N</td>\n",
       "      <td>0.761597</td>\n",
       "      <td>-0.351719</td>\n",
       "      <td>0.544301</td>\n",
       "      <td>0.0</td>\n",
       "      <td>0.0</td>\n",
       "      <td>1.0</td>\n",
       "      <td>0.0</td>\n",
       "      <td>0.0</td>\n",
       "      <td>...</td>\n",
       "      <td>0.0</td>\n",
       "      <td>1.0</td>\n",
       "      <td>0.0</td>\n",
       "      <td>0.0</td>\n",
       "      <td>0.0</td>\n",
       "      <td>0.0</td>\n",
       "      <td>0.0</td>\n",
       "      <td>0.0</td>\n",
       "      <td>0.0</td>\n",
       "      <td>0.0</td>\n",
       "    </tr>\n",
       "    <tr>\n",
       "      <th>47230</th>\n",
       "      <td>M</td>\n",
       "      <td>L</td>\n",
       "      <td>0.825649</td>\n",
       "      <td>-0.052877</td>\n",
       "      <td>0.561701</td>\n",
       "      <td>0.0</td>\n",
       "      <td>0.0</td>\n",
       "      <td>0.0</td>\n",
       "      <td>0.0</td>\n",
       "      <td>0.0</td>\n",
       "      <td>...</td>\n",
       "      <td>0.0</td>\n",
       "      <td>0.0</td>\n",
       "      <td>0.0</td>\n",
       "      <td>0.0</td>\n",
       "      <td>0.0</td>\n",
       "      <td>0.0</td>\n",
       "      <td>1.0</td>\n",
       "      <td>0.0</td>\n",
       "      <td>0.0</td>\n",
       "      <td>0.0</td>\n",
       "    </tr>\n",
       "  </tbody>\n",
       "</table>\n",
       "<p>47231 rows × 50 columns</p>\n",
       "</div>"
      ],
      "text/plain": [
       "      com_type prod_size         x         y         z  Construction  Copper  \\\n",
       "0            M         N  0.424693 -0.384325  0.819713           0.0     1.0   \n",
       "1            M         N  0.416069 -0.383738  0.824398           0.0     1.0   \n",
       "2            M         N  0.409212 -0.381584  0.828818           0.0     1.0   \n",
       "3            M         N  0.416118 -0.383802  0.824343           0.0     0.0   \n",
       "4            M         N  0.424353 -0.382792  0.820607           0.0     0.0   \n",
       "...        ...       ...       ...       ...       ...           ...     ...   \n",
       "47226        M         L  0.720220 -0.369904  0.586902           0.0     0.0   \n",
       "47227        B         L  0.739207 -0.346274  0.577640           0.0     0.0   \n",
       "47228        M         L  0.733767 -0.351020  0.581697           0.0     0.0   \n",
       "47229        M         N  0.761597 -0.351719  0.544301           0.0     0.0   \n",
       "47230        M         L  0.825649 -0.052877  0.561701           0.0     0.0   \n",
       "\n",
       "       Gold  Iron  Lead  ...  Dolomite  Gneiss  Granite  Gravel  Limestone  \\\n",
       "0       0.0   0.0   0.0  ...       0.0     0.0      0.0     0.0        0.0   \n",
       "1       0.0   0.0   0.0  ...       0.0     0.0      0.0     0.0        0.0   \n",
       "2       0.0   0.0   0.0  ...       0.0     0.0      0.0     0.0        0.0   \n",
       "3       0.0   0.0   0.0  ...       0.0     0.0      1.0     0.0        0.0   \n",
       "4       0.0   0.0   0.0  ...       0.0     0.0      0.0     0.0        0.0   \n",
       "...     ...   ...   ...  ...       ...     ...      ...     ...        ...   \n",
       "47226   0.0   0.0   0.0  ...       0.0     1.0      0.0     0.0        0.0   \n",
       "47227   1.0   0.0   0.0  ...       0.0     0.0      0.0     0.0        0.0   \n",
       "47228   1.0   0.0   0.0  ...       0.0     0.0      0.0     0.0        0.0   \n",
       "47229   1.0   0.0   0.0  ...       0.0     1.0      0.0     0.0        0.0   \n",
       "47230   0.0   0.0   0.0  ...       0.0     0.0      0.0     0.0        0.0   \n",
       "\n",
       "       Quartzite  Sandstone  Schist  Shale  Other_hrock  \n",
       "0            0.0        0.0     1.0    0.0          0.0  \n",
       "1            0.0        0.0     0.0    0.0          1.0  \n",
       "2            0.0        0.0     0.0    0.0          1.0  \n",
       "3            0.0        0.0     0.0    0.0          0.0  \n",
       "4            0.0        0.0     0.0    0.0          1.0  \n",
       "...          ...        ...     ...    ...          ...  \n",
       "47226        0.0        0.0     0.0    0.0          1.0  \n",
       "47227        0.0        0.0     0.0    0.0          1.0  \n",
       "47228        0.0        0.0     0.0    0.0          1.0  \n",
       "47229        0.0        0.0     0.0    0.0          0.0  \n",
       "47230        0.0        1.0     0.0    0.0          0.0  \n",
       "\n",
       "[47231 rows x 50 columns]"
      ]
     },
     "execution_count": 4,
     "metadata": {},
     "output_type": "execute_result"
    }
   ],
   "source": [
    "train"
   ]
  },
  {
   "cell_type": "code",
   "execution_count": 5,
   "id": "c6a8a0e1-2084-42a0-bf90-e58dc7f2ff62",
   "metadata": {
    "tags": []
   },
   "outputs": [],
   "source": [
    "from sklearn.model_selection import train_test_split\n",
    "from sklearn.metrics import accuracy_score\n",
    "X_train, X_test, y_train, y_test = train_test_split(train.loc[:, train.columns != 'prod_size'], train['prod_size'], random_state=123, test_size=0.20)"
   ]
  },
  {
   "cell_type": "code",
   "execution_count": 6,
   "id": "712ca75d-edd9-4f98-acbf-977e0e015bcc",
   "metadata": {
    "tags": []
   },
   "outputs": [
    {
     "data": {
      "text/plain": [
       "com_type                  42\n",
       "x                          0\n",
       "y                          0\n",
       "z                          0\n",
       "Construction               0\n",
       "Copper                     0\n",
       "Gold                       0\n",
       "Iron                       0\n",
       "Lead                       0\n",
       "Sand and Gravel            0\n",
       "Silver                     0\n",
       "Tungsten                   0\n",
       "Uranium                    0\n",
       "Zinc                       0\n",
       "Other_com1                 0\n",
       "x0_Leach                   0\n",
       "x0_Placer                  0\n",
       "x0_Processing Plant        0\n",
       "x0_Surface                 0\n",
       "x0_Surface-Underground     0\n",
       "x0_Underground             0\n",
       "x0_Unknown                 0\n",
       "x0_Well                    0\n",
       "x0_Occurrence              0\n",
       "x0_Past Producer           0\n",
       "x0_Plant                   0\n",
       "x0_Producer                0\n",
       "x0_Prospect                0\n",
       "Chalcocite                 0\n",
       "Chalcopyrite               0\n",
       "Galena                     0\n",
       "Hematite                   0\n",
       "Magnetite                  0\n",
       "Malachite                  0\n",
       "Pyrite                     0\n",
       "Sphalerite                 0\n",
       "Other_ore                  0\n",
       "Andesite                   0\n",
       "Diorite                    0\n",
       "Dolomite                   0\n",
       "Gneiss                     0\n",
       "Granite                    0\n",
       "Gravel                     0\n",
       "Limestone                  0\n",
       "Quartzite                  0\n",
       "Sandstone                  0\n",
       "Schist                     0\n",
       "Shale                      0\n",
       "Other_hrock                0\n",
       "dtype: int64"
      ]
     },
     "execution_count": 6,
     "metadata": {},
     "output_type": "execute_result"
    }
   ],
   "source": [
    "X_train.isna().sum()"
   ]
  },
  {
   "cell_type": "markdown",
   "id": "746042c8-d625-45b6-b01e-0d94f3fe3b10",
   "metadata": {},
   "source": [
    "jak widać są missing data, więc trzeba będzie zrobić ich preprocessing"
   ]
  },
  {
   "cell_type": "code",
   "execution_count": 7,
   "id": "6743de72-0375-4434-b3ff-c94f29f14b18",
   "metadata": {
    "tags": []
   },
   "outputs": [
    {
     "data": {
      "text/plain": [
       "<Axes: >"
      ]
     },
     "execution_count": 7,
     "metadata": {},
     "output_type": "execute_result"
    },
    {
     "data": {
      "image/png": "[encoded data removed]",
      "text/plain": [
       "<Figure size 640x480 with 1 Axes>"
      ]
     },
     "metadata": {},
     "output_type": "display_data"
    }
   ],
   "source": [
    "y_train.hist()"
   ]
  },
  {
   "cell_type": "markdown",
   "id": "72229f82-b710-4bcd-b0e8-3b6f044b9edd",
   "metadata": {},
   "source": [
    "także są niezbalansowane klasy, więc trzeba będzie zrobić stratyfikację foldów"
   ]
  },
  {
   "cell_type": "code",
   "execution_count": 8,
   "id": "d99519c1-0dc4-448f-956a-64acf40f7918",
   "metadata": {
    "tags": []
   },
   "outputs": [],
   "source": [
    "from sklearn.model_selection import StratifiedKFold\n",
    "\n",
    "seed=123\n",
    "kfold = StratifiedKFold(n_splits=5, shuffle=True)"
   ]
  },
  {
   "cell_type": "code",
   "execution_count": 9,
   "id": "afa7e428-32ed-4b73-a1ae-3b880bd70ba7",
   "metadata": {
    "tags": []
   },
   "outputs": [],
   "source": [
    "def test_model(model):\n",
    "    return [accuracy_score(model.predict(X_train), y_train), accuracy_score(model.predict(X_test), y_test)]"
   ]
  },
  {
   "cell_type": "code",
   "execution_count": 10,
   "id": "77b4caea-54c9-4b89-92e1-d725679191eb",
   "metadata": {
    "tags": []
   },
   "outputs": [],
   "source": [
    "values = []\n",
    "labels = []"
   ]
  },
  {
   "cell_type": "markdown",
   "id": "574217d7-c5b9-4b66-9419-0dc9e85ccb54",
   "metadata": {},
   "source": [
    "## Preprocessing"
   ]
  },
  {
   "cell_type": "code",
   "execution_count": 11,
   "id": "86c99e8e-3d8d-4e53-886a-2331e5381a55",
   "metadata": {
    "tags": []
   },
   "outputs": [],
   "source": [
    "from sklearn.pipeline import Pipeline\n",
    "from sklearn.impute import SimpleImputer\n",
    "from sklearn.preprocessing import StandardScaler\n",
    "from sklearn.preprocessing import OneHotEncoder\n",
    "from sklearn.compose import ColumnTransformer"
   ]
  },
  {
   "cell_type": "code",
   "execution_count": 12,
   "id": "0686e0ba-27bd-47b0-b532-247f5377a8b6",
   "metadata": {
    "tags": []
   },
   "outputs": [],
   "source": [
    "preprocessor = Pipeline(\n",
    "    [\n",
    "        ('imputer', SimpleImputer(strategy = 'most_frequent')),\n",
    "        ('ct', ColumnTransformer([('ohe', OneHotEncoder(sparse_output=False), [0])], remainder='passthrough')),\n",
    "        ('scaler', StandardScaler())\n",
    "    ])"
   ]
  },
  {
   "cell_type": "markdown",
   "id": "a0774f3b-0210-4cab-ad7c-0a37633be78d",
   "metadata": {},
   "source": [
    "## Regresja softmax"
   ]
  },
  {
   "cell_type": "markdown",
   "id": "25886820-9240-480f-a448-575a97c7a898",
   "metadata": {},
   "source": [
    "### wersja multinomial"
   ]
  },
  {
   "cell_type": "code",
   "execution_count": 15,
   "id": "1f61a35d-7e37-4add-920d-cc923a949502",
   "metadata": {
    "tags": []
   },
   "outputs": [],
   "source": [
    "from sklearn.linear_model import LogisticRegression\n",
    "from sklearn.model_selection import GridSearchCV"
   ]
  },
  {
   "cell_type": "code",
   "execution_count": 16,
   "id": "e924e03b-9efe-413e-aca6-0592ee278bb5",
   "metadata": {
    "tags": []
   },
   "outputs": [],
   "source": [
    "pipe = Pipeline([('preprocessing', preprocessor), \n",
    "                 ('classifier', LogisticRegression(multi_class=\"multinomial\",solver=\"lbfgs\", random_state=42, max_iter=10000))])\n",
    "param_grid = {'classifier__C': [0.01, 0.1, 1, 10, 100, 1000]}\n",
    "model = GridSearchCV(pipe, param_grid, cv=kfold, refit=True)"
   ]
  },
  {
   "cell_type": "code",
   "execution_count": 17,
   "id": "8108a958-4377-4ae7-b980-4af3e3d9a682",
   "metadata": {
    "tags": []
   },
   "outputs": [
    {
     "data": {
      "text/plain": [
       "{'classifier__C': 1}"
      ]
     },
     "execution_count": 17,
     "metadata": {},
     "output_type": "execute_result"
    }
   ],
   "source": [
    "model.fit(X_train, y_train)\n",
    "model.best_params_"
   ]
  },
  {
   "cell_type": "code",
   "execution_count": 23,
   "id": "d3ceb224-3780-43d4-82b8-de5d8ebf2947",
   "metadata": {
    "tags": []
   },
   "outputs": [
    {
     "data": {
      "image/png": "[encoded data removed]",
      "text/plain": [
       "<Figure size 640x480 with 1 Axes>"
      ]
     },
     "metadata": {},
     "output_type": "display_data"
    }
   ],
   "source": [
    "plt.plot(np.arange(len(model.cv_results_['mean_test_score'])), model.cv_results_['mean_test_score'])\n",
    "plt.xticks(ticks=np.arange(len(model.cv_results_['mean_test_score'])), labels=param_grid['classifier__C']);"
   ]
  },
  {
   "cell_type": "code",
   "execution_count": 25,
   "id": "9caea34c-1ece-4d18-b152-d9569c783e5a",
   "metadata": {
    "tags": []
   },
   "outputs": [],
   "source": [
    "values.append(test_model(model))\n",
    "labels.append('softmax, multi')"
   ]
  },
  {
   "cell_type": "markdown",
   "id": "086e6769-10b3-4f81-9273-cf07d6e5f82f",
   "metadata": {},
   "source": [
    "### wersja one-vs-all"
   ]
  },
  {
   "cell_type": "code",
   "execution_count": 26,
   "id": "1c48c879-02fe-4352-81c4-849b700b9de0",
   "metadata": {
    "tags": []
   },
   "outputs": [],
   "source": [
    "pipe = Pipeline([('preprocessing', preprocessor), \n",
    "                 ('classifier', LogisticRegression(multi_class=\"ovr\",solver=\"lbfgs\", random_state=42, max_iter=10000))])\n",
    "param_grid = {'classifier__C': [0.01, 0.1, 1, 10, 100, 1000]}\n",
    "model = GridSearchCV(pipe, param_grid, cv=kfold, refit=True)"
   ]
  },
  {
   "cell_type": "code",
   "execution_count": 27,
   "id": "b5abbf12-ebcd-4cf5-b677-f36a350291f9",
   "metadata": {
    "tags": []
   },
   "outputs": [
    {
     "data": {
      "text/plain": [
       "{'classifier__C': 1}"
      ]
     },
     "execution_count": 27,
     "metadata": {},
     "output_type": "execute_result"
    }
   ],
   "source": [
    "model.fit(X_train, y_train)\n",
    "model.best_params_"
   ]
  },
  {
   "cell_type": "code",
   "execution_count": 28,
   "id": "1f0285fd-cd8f-4d03-9184-c75dade96065",
   "metadata": {
    "tags": []
   },
   "outputs": [
    {
     "data": {
      "image/png": "[encoded data removed]",
      "text/plain": [
       "<Figure size 640x480 with 1 Axes>"
      ]
     },
     "metadata": {},
     "output_type": "display_data"
    }
   ],
   "source": [
    "plt.plot(np.arange(len(model.cv_results_['mean_test_score'])), model.cv_results_['mean_test_score'])\n",
    "plt.xticks(ticks=np.arange(len(model.cv_results_['mean_test_score'])), labels=param_grid['classifier__C']);"
   ]
  },
  {
   "cell_type": "code",
   "execution_count": 29,
   "id": "3fee5d41-6fec-4345-a869-4184d3f80245",
   "metadata": {
    "tags": []
   },
   "outputs": [
    {
     "data": {
      "text/plain": [
       "[0.7651122168113487, 0.7623584206626443]"
      ]
     },
     "execution_count": 29,
     "metadata": {},
     "output_type": "execute_result"
    }
   ],
   "source": [
    "test_model(model)"
   ]
  },
  {
   "cell_type": "code",
   "execution_count": 30,
   "id": "2ed4502a-072e-4ed8-9bd6-5c7bf5309afb",
   "metadata": {
    "tags": []
   },
   "outputs": [],
   "source": [
    "values.append(test_model(model))\n",
    "labels.append('softmax, ovr')"
   ]
  },
  {
   "cell_type": "markdown",
   "id": "3b952d84-d86f-464f-9e21-d744bf03e0ae",
   "metadata": {},
   "source": [
    "### Ridge\n",
    "według dokumentacji automatycznie obsługuje multiclass w wariancie one-vs-all"
   ]
  },
  {
   "cell_type": "code",
   "execution_count": 31,
   "id": "64e91e18-cc8c-4835-9240-c1dcb554e8d6",
   "metadata": {
    "tags": []
   },
   "outputs": [],
   "source": [
    "from sklearn.linear_model import RidgeClassifier"
   ]
  },
  {
   "cell_type": "code",
   "execution_count": 45,
   "id": "9e7727ec-94cd-4035-a58d-90d8a97e0637",
   "metadata": {
    "tags": []
   },
   "outputs": [],
   "source": [
    "pipe = Pipeline([('preprocessing', preprocessor), \n",
    "                 ('classifier', RidgeClassifier(max_iter=10000))])\n",
    "param_grid = {'classifier__alpha': [0.0001, 0.001, 0.01, 0.1, 1, 10, 100, 1000]}\n",
    "model = GridSearchCV(pipe, param_grid, cv=kfold, refit=True)"
   ]
  },
  {
   "cell_type": "code",
   "execution_count": 46,
   "id": "1af33bdf-0855-4d02-857c-3cd76cbb9dda",
   "metadata": {
    "tags": []
   },
   "outputs": [
    {
     "data": {
      "text/plain": [
       "{'classifier__alpha': 10}"
      ]
     },
     "execution_count": 46,
     "metadata": {},
     "output_type": "execute_result"
    }
   ],
   "source": [
    "model.fit(X_train, y_train)\n",
    "model.best_params_"
   ]
  },
  {
   "cell_type": "code",
   "execution_count": 47,
   "id": "78877069-b4ea-43f3-ab58-763b674a621d",
   "metadata": {
    "tags": []
   },
   "outputs": [
    {
     "data": {
      "image/png": "[encoded data removed]",
      "text/plain": [
       "<Figure size 640x480 with 1 Axes>"
      ]
     },
     "metadata": {},
     "output_type": "display_data"
    }
   ],
   "source": [
    "plt.plot(np.arange(len(model.cv_results_['mean_test_score'])), model.cv_results_['mean_test_score'])\n",
    "plt.xticks(ticks=np.arange(len(model.cv_results_['mean_test_score'])), labels=param_grid['classifier__alpha']);"
   ]
  },
  {
   "cell_type": "code",
   "execution_count": 48,
   "id": "5e61bc52-03ca-4605-8c2f-ae8e3bbf8603",
   "metadata": {
    "tags": []
   },
   "outputs": [
    {
     "data": {
      "text/plain": [
       "[0.762280330298539, 0.7619350058219541]"
      ]
     },
     "execution_count": 48,
     "metadata": {},
     "output_type": "execute_result"
    }
   ],
   "source": [
    "test_model(model)"
   ]
  },
  {
   "cell_type": "code",
   "execution_count": 50,
   "id": "5f959fdd-4d29-4514-95a2-18a42589c983",
   "metadata": {
    "tags": []
   },
   "outputs": [],
   "source": [
    "values.append(test_model(model))\n",
    "labels.append('ridge, ovr')"
   ]
  },
  {
   "cell_type": "markdown",
   "id": "b8bb990d-9e00-4621-80f9-d77b1489e461",
   "metadata": {},
   "source": [
    "### Random Forest"
   ]
  },
  {
   "cell_type": "code",
   "execution_count": 52,
   "id": "d25ca049-e264-4c11-b2a6-a8729f5f156a",
   "metadata": {
    "tags": []
   },
   "outputs": [],
   "source": [
    "from sklearn.ensemble import RandomForestClassifier"
   ]
  },
  {
   "cell_type": "code",
   "execution_count": 74,
   "id": "97c717d8-46be-4383-8fb2-b8215750aa90",
   "metadata": {
    "tags": []
   },
   "outputs": [],
   "source": [
    "pipe = Pipeline([('preprocessing', preprocessor), \n",
    "                 ('classifier', RandomForestClassifier(n_estimators=100, n_jobs=-1, random_state=42))])\n",
    "param_grid = {\n",
    "            'classifier__max_leaf_nodes': [512, 1024, 2048, 4096, 8192]\n",
    "}\n",
    "model = GridSearchCV(pipe, param_grid, cv=kfold, refit=True)"
   ]
  },
  {
   "cell_type": "code",
   "execution_count": 75,
   "id": "84d43ada-42bd-4fb4-a0e3-7a611aeeaabf",
   "metadata": {
    "tags": []
   },
   "outputs": [
    {
     "data": {
      "text/plain": [
       "{'classifier__max_leaf_nodes': 4096}"
      ]
     },
     "execution_count": 75,
     "metadata": {},
     "output_type": "execute_result"
    }
   ],
   "source": [
    "model.fit(X_train, y_train)\n",
    "model.best_params_"
   ]
  },
  {
   "cell_type": "code",
   "execution_count": 76,
   "id": "4a0faadb-12bd-438f-a320-680236920e48",
   "metadata": {
    "tags": []
   },
   "outputs": [
    {
     "data": {
      "image/png": "[encoded data removed]",
      "text/plain": [
       "<Figure size 640x480 with 1 Axes>"
      ]
     },
     "metadata": {},
     "output_type": "display_data"
    }
   ],
   "source": [
    "plt.plot(np.arange(len(model.cv_results_['mean_test_score'])), model.cv_results_['mean_test_score'])\n",
    "plt.xticks(ticks=np.arange(len(model.cv_results_['mean_test_score'])), labels=param_grid['classifier__max_leaf_nodes']);"
   ]
  },
  {
   "cell_type": "code",
   "execution_count": 77,
   "id": "888682b1-cee9-48ce-9a9d-e61a0caeb53f",
   "metadata": {
    "tags": []
   },
   "outputs": [
    {
     "data": {
      "text/plain": [
       "[0.954239889900487, 0.8493701704244734]"
      ]
     },
     "execution_count": 77,
     "metadata": {},
     "output_type": "execute_result"
    }
   ],
   "source": [
    "test_model(model)"
   ]
  },
  {
   "cell_type": "code",
   "execution_count": 78,
   "id": "20ddbad2-ee89-45be-82be-f10db0eeffaa",
   "metadata": {
    "tags": []
   },
   "outputs": [],
   "source": [
    "values.append(test_model(model))\n",
    "labels.append('random forest')"
   ]
  },
  {
   "cell_type": "markdown",
   "id": "99645a6b-7bdc-4a12-9d19-645acf76bc16",
   "metadata": {},
   "source": [
    "### XGBoost"
   ]
  },
  {
   "cell_type": "code",
   "execution_count": 79,
   "id": "a1b406db-6e02-4673-9419-193d9ac61b32",
   "metadata": {
    "tags": []
   },
   "outputs": [],
   "source": [
    "from xgboost import XGBClassifier"
   ]
  },
  {
   "cell_type": "markdown",
   "id": "35d2a797-9810-4e30-a0e3-7ee79be071f4",
   "metadata": {},
   "source": [
    "Trzeba specjalnie przygotować dane do XGB"
   ]
  },
  {
   "cell_type": "code",
   "execution_count": 82,
   "id": "620ec83c-b51a-4c95-b986-a5ace658c95c",
   "metadata": {
    "tags": []
   },
   "outputs": [],
   "source": [
    "from sklearn.preprocessing import OrdinalEncoder"
   ]
  },
  {
   "cell_type": "code",
   "execution_count": 93,
   "id": "3879fbec-ee45-497d-ad4c-a247bed09a39",
   "metadata": {
    "tags": []
   },
   "outputs": [],
   "source": [
    "ord_enc = OrdinalEncoder()\n",
    "y_train_ord = ord_enc.fit_transform(np.array(y_train).reshape(-1, 1)).flatten()\n",
    "y_test_ord = ord_enc.fit_transform(np.array(y_test).reshape(-1, 1)).flatten()"
   ]
  },
  {
   "cell_type": "code",
   "execution_count": 96,
   "id": "89e4814c-6c17-4a30-93f7-13cd1f406cb3",
   "metadata": {
    "tags": []
   },
   "outputs": [],
   "source": [
    "def heatmap(values, xlabel, ylabel, xticklabels, yticklabels, cmap=None,\n",
    "            vmin=None, vmax=None, ax=None, fmt=\"%0.2f\"):\n",
    "    if ax is None:\n",
    "        ax = plt.gca()\n",
    "    # plot the mean cross-validation scores\n",
    "    img = ax.pcolor(values, cmap=cmap, vmin=vmin, vmax=vmax)\n",
    "    img.update_scalarmappable()\n",
    "    ax.set_xlabel(xlabel)\n",
    "    ax.set_ylabel(ylabel)\n",
    "    ax.set_xticks(np.arange(len(xticklabels)) + .5)\n",
    "    ax.set_yticks(np.arange(len(yticklabels)) + .5)\n",
    "    ax.set_xticklabels(xticklabels)\n",
    "    ax.set_yticklabels(yticklabels)\n",
    "    ax.set_aspect(1)\n",
    "\n",
    "    for p, color, value in zip(img.get_paths(), img.get_facecolors(),\n",
    "                               img.get_array()):\n",
    "        x, y = p.vertices[:-2, :].mean(0)\n",
    "        if np.mean(color[:3]) > 0.5:\n",
    "            c = 'k'\n",
    "        else:\n",
    "            c = 'w'\n",
    "        ax.text(x, y, fmt % value, color=c, ha=\"center\", va=\"center\")\n",
    "    return img"
   ]
  },
  {
   "cell_type": "code",
   "execution_count": 129,
   "id": "f68c8329-89b3-420f-9ac6-e5d9faea3d8b",
   "metadata": {
    "tags": []
   },
   "outputs": [],
   "source": [
    "pipe = Pipeline([('preprocessing', preprocessor), \n",
    "                 ('classifier', XGBClassifier(objective='multi:softmax', num_classes=6, n_estimators=10))])\n",
    "param_grid = {\n",
    "            'classifier__max_depth': [12, 15, 18, 20],\n",
    "            'classifier__learning_rate':[0.1, 0.25, 0.5, 1.0]\n",
    "}\n",
    "model = GridSearchCV(pipe, param_grid, cv=kfold, refit=True)"
   ]
  },
  {
   "cell_type": "code",
   "execution_count": 130,
   "id": "430d3713-464f-4e47-a3f8-d11455b5c36d",
   "metadata": {
    "collapsed": true,
    "jupyter": {
     "outputs_hidden": true
    },
    "tags": []
   },
   "outputs": [
    {
     "name": "stdout",
     "output_type": "stream",
     "text": [
      "[00:14:44] WARNING: C:\\buildkite-agent\\builds\\buildkite-windows-cpu-autoscaling-group-i-07593ffd91cd9da33-1\\xgboost\\xgboost-ci-windows\\src\\learner.cc:767: \n",
      "Parameters: { \"num_classes\" } are not used.\n",
      "\n",
      "[00:14:47] WARNING: C:\\buildkite-agent\\builds\\buildkite-windows-cpu-autoscaling-group-i-07593ffd91cd9da33-1\\xgboost\\xgboost-ci-windows\\src\\learner.cc:767: \n",
      "Parameters: { \"num_classes\" } are not used.\n",
      "\n",
      "[00:14:49] WARNING: C:\\buildkite-agent\\builds\\buildkite-windows-cpu-autoscaling-group-i-07593ffd91cd9da33-1\\xgboost\\xgboost-ci-windows\\src\\learner.cc:767: \n",
      "Parameters: { \"num_classes\" } are not used.\n",
      "\n",
      "[00:14:52] WARNING: C:\\buildkite-agent\\builds\\buildkite-windows-cpu-autoscaling-group-i-07593ffd91cd9da33-1\\xgboost\\xgboost-ci-windows\\src\\learner.cc:767: \n",
      "Parameters: { \"num_classes\" } are not used.\n",
      "\n",
      "[00:14:54] WARNING: C:\\buildkite-agent\\builds\\buildkite-windows-cpu-autoscaling-group-i-07593ffd91cd9da33-1\\xgboost\\xgboost-ci-windows\\src\\learner.cc:767: \n",
      "Parameters: { \"num_classes\" } are not used.\n",
      "\n",
      "[00:14:57] WARNING: C:\\buildkite-agent\\builds\\buildkite-windows-cpu-autoscaling-group-i-07593ffd91cd9da33-1\\xgboost\\xgboost-ci-windows\\src\\learner.cc:767: \n",
      "Parameters: { \"num_classes\" } are not used.\n",
      "\n",
      "[00:15:00] WARNING: C:\\buildkite-agent\\builds\\buildkite-windows-cpu-autoscaling-group-i-07593ffd91cd9da33-1\\xgboost\\xgboost-ci-windows\\src\\learner.cc:767: \n",
      "Parameters: { \"num_classes\" } are not used.\n",
      "\n",
      "[00:15:03] WARNING: C:\\buildkite-agent\\builds\\buildkite-windows-cpu-autoscaling-group-i-07593ffd91cd9da33-1\\xgboost\\xgboost-ci-windows\\src\\learner.cc:767: \n",
      "Parameters: { \"num_classes\" } are not used.\n",
      "\n",
      "[00:15:06] WARNING: C:\\buildkite-agent\\builds\\buildkite-windows-cpu-autoscaling-group-i-07593ffd91cd9da33-1\\xgboost\\xgboost-ci-windows\\src\\learner.cc:767: \n",
      "Parameters: { \"num_classes\" } are not used.\n",
      "\n",
      "[00:15:10] WARNING: C:\\buildkite-agent\\builds\\buildkite-windows-cpu-autoscaling-group-i-07593ffd91cd9da33-1\\xgboost\\xgboost-ci-windows\\src\\learner.cc:767: \n",
      "Parameters: { \"num_classes\" } are not used.\n",
      "\n",
      "[00:15:13] WARNING: C:\\buildkite-agent\\builds\\buildkite-windows-cpu-autoscaling-group-i-07593ffd91cd9da33-1\\xgboost\\xgboost-ci-windows\\src\\learner.cc:767: \n",
      "Parameters: { \"num_classes\" } are not used.\n",
      "\n",
      "[00:15:16] WARNING: C:\\buildkite-agent\\builds\\buildkite-windows-cpu-autoscaling-group-i-07593ffd91cd9da33-1\\xgboost\\xgboost-ci-windows\\src\\learner.cc:767: \n",
      "Parameters: { \"num_classes\" } are not used.\n",
      "\n",
      "[00:15:20] WARNING: C:\\buildkite-agent\\builds\\buildkite-windows-cpu-autoscaling-group-i-07593ffd91cd9da33-1\\xgboost\\xgboost-ci-windows\\src\\learner.cc:767: \n",
      "Parameters: { \"num_classes\" } are not used.\n",
      "\n",
      "[00:15:24] WARNING: C:\\buildkite-agent\\builds\\buildkite-windows-cpu-autoscaling-group-i-07593ffd91cd9da33-1\\xgboost\\xgboost-ci-windows\\src\\learner.cc:767: \n",
      "Parameters: { \"num_classes\" } are not used.\n",
      "\n",
      "[00:15:27] WARNING: C:\\buildkite-agent\\builds\\buildkite-windows-cpu-autoscaling-group-i-07593ffd91cd9da33-1\\xgboost\\xgboost-ci-windows\\src\\learner.cc:767: \n",
      "Parameters: { \"num_classes\" } are not used.\n",
      "\n",
      "[00:15:31] WARNING: C:\\buildkite-agent\\builds\\buildkite-windows-cpu-autoscaling-group-i-07593ffd91cd9da33-1\\xgboost\\xgboost-ci-windows\\src\\learner.cc:767: \n",
      "Parameters: { \"num_classes\" } are not used.\n",
      "\n",
      "[00:15:35] WARNING: C:\\buildkite-agent\\builds\\buildkite-windows-cpu-autoscaling-group-i-07593ffd91cd9da33-1\\xgboost\\xgboost-ci-windows\\src\\learner.cc:767: \n",
      "Parameters: { \"num_classes\" } are not used.\n",
      "\n",
      "[00:15:40] WARNING: C:\\buildkite-agent\\builds\\buildkite-windows-cpu-autoscaling-group-i-07593ffd91cd9da33-1\\xgboost\\xgboost-ci-windows\\src\\learner.cc:767: \n",
      "Parameters: { \"num_classes\" } are not used.\n",
      "\n",
      "[00:15:44] WARNING: C:\\buildkite-agent\\builds\\buildkite-windows-cpu-autoscaling-group-i-07593ffd91cd9da33-1\\xgboost\\xgboost-ci-windows\\src\\learner.cc:767: \n",
      "Parameters: { \"num_classes\" } are not used.\n",
      "\n",
      "[00:15:48] WARNING: C:\\buildkite-agent\\builds\\buildkite-windows-cpu-autoscaling-group-i-07593ffd91cd9da33-1\\xgboost\\xgboost-ci-windows\\src\\learner.cc:767: \n",
      "Parameters: { \"num_classes\" } are not used.\n",
      "\n",
      "[00:15:53] WARNING: C:\\buildkite-agent\\builds\\buildkite-windows-cpu-autoscaling-group-i-07593ffd91cd9da33-1\\xgboost\\xgboost-ci-windows\\src\\learner.cc:767: \n",
      "Parameters: { \"num_classes\" } are not used.\n",
      "\n",
      "[00:15:56] WARNING: C:\\buildkite-agent\\builds\\buildkite-windows-cpu-autoscaling-group-i-07593ffd91cd9da33-1\\xgboost\\xgboost-ci-windows\\src\\learner.cc:767: \n",
      "Parameters: { \"num_classes\" } are not used.\n",
      "\n",
      "[00:15:59] WARNING: C:\\buildkite-agent\\builds\\buildkite-windows-cpu-autoscaling-group-i-07593ffd91cd9da33-1\\xgboost\\xgboost-ci-windows\\src\\learner.cc:767: \n",
      "Parameters: { \"num_classes\" } are not used.\n",
      "\n",
      "[00:16:03] WARNING: C:\\buildkite-agent\\builds\\buildkite-windows-cpu-autoscaling-group-i-07593ffd91cd9da33-1\\xgboost\\xgboost-ci-windows\\src\\learner.cc:767: \n",
      "Parameters: { \"num_classes\" } are not used.\n",
      "\n",
      "[00:16:06] WARNING: C:\\buildkite-agent\\builds\\buildkite-windows-cpu-autoscaling-group-i-07593ffd91cd9da33-1\\xgboost\\xgboost-ci-windows\\src\\learner.cc:767: \n",
      "Parameters: { \"num_classes\" } are not used.\n",
      "\n",
      "[00:16:10] WARNING: C:\\buildkite-agent\\builds\\buildkite-windows-cpu-autoscaling-group-i-07593ffd91cd9da33-1\\xgboost\\xgboost-ci-windows\\src\\learner.cc:767: \n",
      "Parameters: { \"num_classes\" } are not used.\n",
      "\n",
      "[00:16:13] WARNING: C:\\buildkite-agent\\builds\\buildkite-windows-cpu-autoscaling-group-i-07593ffd91cd9da33-1\\xgboost\\xgboost-ci-windows\\src\\learner.cc:767: \n",
      "Parameters: { \"num_classes\" } are not used.\n",
      "\n",
      "[00:16:17] WARNING: C:\\buildkite-agent\\builds\\buildkite-windows-cpu-autoscaling-group-i-07593ffd91cd9da33-1\\xgboost\\xgboost-ci-windows\\src\\learner.cc:767: \n",
      "Parameters: { \"num_classes\" } are not used.\n",
      "\n",
      "[00:16:21] WARNING: C:\\buildkite-agent\\builds\\buildkite-windows-cpu-autoscaling-group-i-07593ffd91cd9da33-1\\xgboost\\xgboost-ci-windows\\src\\learner.cc:767: \n",
      "Parameters: { \"num_classes\" } are not used.\n",
      "\n",
      "[00:16:24] WARNING: C:\\buildkite-agent\\builds\\buildkite-windows-cpu-autoscaling-group-i-07593ffd91cd9da33-1\\xgboost\\xgboost-ci-windows\\src\\learner.cc:767: \n",
      "Parameters: { \"num_classes\" } are not used.\n",
      "\n",
      "[00:16:28] WARNING: C:\\buildkite-agent\\builds\\buildkite-windows-cpu-autoscaling-group-i-07593ffd91cd9da33-1\\xgboost\\xgboost-ci-windows\\src\\learner.cc:767: \n",
      "Parameters: { \"num_classes\" } are not used.\n",
      "\n",
      "[00:16:32] WARNING: C:\\buildkite-agent\\builds\\buildkite-windows-cpu-autoscaling-group-i-07593ffd91cd9da33-1\\xgboost\\xgboost-ci-windows\\src\\learner.cc:767: \n",
      "Parameters: { \"num_classes\" } are not used.\n",
      "\n",
      "[00:16:37] WARNING: C:\\buildkite-agent\\builds\\buildkite-windows-cpu-autoscaling-group-i-07593ffd91cd9da33-1\\xgboost\\xgboost-ci-windows\\src\\learner.cc:767: \n",
      "Parameters: { \"num_classes\" } are not used.\n",
      "\n",
      "[00:16:41] WARNING: C:\\buildkite-agent\\builds\\buildkite-windows-cpu-autoscaling-group-i-07593ffd91cd9da33-1\\xgboost\\xgboost-ci-windows\\src\\learner.cc:767: \n",
      "Parameters: { \"num_classes\" } are not used.\n",
      "\n",
      "[00:16:45] WARNING: C:\\buildkite-agent\\builds\\buildkite-windows-cpu-autoscaling-group-i-07593ffd91cd9da33-1\\xgboost\\xgboost-ci-windows\\src\\learner.cc:767: \n",
      "Parameters: { \"num_classes\" } are not used.\n",
      "\n",
      "[00:16:49] WARNING: C:\\buildkite-agent\\builds\\buildkite-windows-cpu-autoscaling-group-i-07593ffd91cd9da33-1\\xgboost\\xgboost-ci-windows\\src\\learner.cc:767: \n",
      "Parameters: { \"num_classes\" } are not used.\n",
      "\n",
      "[00:16:54] WARNING: C:\\buildkite-agent\\builds\\buildkite-windows-cpu-autoscaling-group-i-07593ffd91cd9da33-1\\xgboost\\xgboost-ci-windows\\src\\learner.cc:767: \n",
      "Parameters: { \"num_classes\" } are not used.\n",
      "\n",
      "[00:16:58] WARNING: C:\\buildkite-agent\\builds\\buildkite-windows-cpu-autoscaling-group-i-07593ffd91cd9da33-1\\xgboost\\xgboost-ci-windows\\src\\learner.cc:767: \n",
      "Parameters: { \"num_classes\" } are not used.\n",
      "\n",
      "[00:17:03] WARNING: C:\\buildkite-agent\\builds\\buildkite-windows-cpu-autoscaling-group-i-07593ffd91cd9da33-1\\xgboost\\xgboost-ci-windows\\src\\learner.cc:767: \n",
      "Parameters: { \"num_classes\" } are not used.\n",
      "\n",
      "[00:17:07] WARNING: C:\\buildkite-agent\\builds\\buildkite-windows-cpu-autoscaling-group-i-07593ffd91cd9da33-1\\xgboost\\xgboost-ci-windows\\src\\learner.cc:767: \n",
      "Parameters: { \"num_classes\" } are not used.\n",
      "\n",
      "[00:17:12] WARNING: C:\\buildkite-agent\\builds\\buildkite-windows-cpu-autoscaling-group-i-07593ffd91cd9da33-1\\xgboost\\xgboost-ci-windows\\src\\learner.cc:767: \n",
      "Parameters: { \"num_classes\" } are not used.\n",
      "\n",
      "[00:17:15] WARNING: C:\\buildkite-agent\\builds\\buildkite-windows-cpu-autoscaling-group-i-07593ffd91cd9da33-1\\xgboost\\xgboost-ci-windows\\src\\learner.cc:767: \n",
      "Parameters: { \"num_classes\" } are not used.\n",
      "\n",
      "[00:17:18] WARNING: C:\\buildkite-agent\\builds\\buildkite-windows-cpu-autoscaling-group-i-07593ffd91cd9da33-1\\xgboost\\xgboost-ci-windows\\src\\learner.cc:767: \n",
      "Parameters: { \"num_classes\" } are not used.\n",
      "\n",
      "[00:17:21] WARNING: C:\\buildkite-agent\\builds\\buildkite-windows-cpu-autoscaling-group-i-07593ffd91cd9da33-1\\xgboost\\xgboost-ci-windows\\src\\learner.cc:767: \n",
      "Parameters: { \"num_classes\" } are not used.\n",
      "\n",
      "[00:17:25] WARNING: C:\\buildkite-agent\\builds\\buildkite-windows-cpu-autoscaling-group-i-07593ffd91cd9da33-1\\xgboost\\xgboost-ci-windows\\src\\learner.cc:767: \n",
      "Parameters: { \"num_classes\" } are not used.\n",
      "\n",
      "[00:17:28] WARNING: C:\\buildkite-agent\\builds\\buildkite-windows-cpu-autoscaling-group-i-07593ffd91cd9da33-1\\xgboost\\xgboost-ci-windows\\src\\learner.cc:767: \n",
      "Parameters: { \"num_classes\" } are not used.\n",
      "\n",
      "[00:17:32] WARNING: C:\\buildkite-agent\\builds\\buildkite-windows-cpu-autoscaling-group-i-07593ffd91cd9da33-1\\xgboost\\xgboost-ci-windows\\src\\learner.cc:767: \n",
      "Parameters: { \"num_classes\" } are not used.\n",
      "\n",
      "[00:17:36] WARNING: C:\\buildkite-agent\\builds\\buildkite-windows-cpu-autoscaling-group-i-07593ffd91cd9da33-1\\xgboost\\xgboost-ci-windows\\src\\learner.cc:767: \n",
      "Parameters: { \"num_classes\" } are not used.\n",
      "\n",
      "[00:17:40] WARNING: C:\\buildkite-agent\\builds\\buildkite-windows-cpu-autoscaling-group-i-07593ffd91cd9da33-1\\xgboost\\xgboost-ci-windows\\src\\learner.cc:767: \n",
      "Parameters: { \"num_classes\" } are not used.\n",
      "\n",
      "[00:17:44] WARNING: C:\\buildkite-agent\\builds\\buildkite-windows-cpu-autoscaling-group-i-07593ffd91cd9da33-1\\xgboost\\xgboost-ci-windows\\src\\learner.cc:767: \n",
      "Parameters: { \"num_classes\" } are not used.\n",
      "\n",
      "[00:17:48] WARNING: C:\\buildkite-agent\\builds\\buildkite-windows-cpu-autoscaling-group-i-07593ffd91cd9da33-1\\xgboost\\xgboost-ci-windows\\src\\learner.cc:767: \n",
      "Parameters: { \"num_classes\" } are not used.\n",
      "\n",
      "[00:17:52] WARNING: C:\\buildkite-agent\\builds\\buildkite-windows-cpu-autoscaling-group-i-07593ffd91cd9da33-1\\xgboost\\xgboost-ci-windows\\src\\learner.cc:767: \n",
      "Parameters: { \"num_classes\" } are not used.\n",
      "\n",
      "[00:17:57] WARNING: C:\\buildkite-agent\\builds\\buildkite-windows-cpu-autoscaling-group-i-07593ffd91cd9da33-1\\xgboost\\xgboost-ci-windows\\src\\learner.cc:767: \n",
      "Parameters: { \"num_classes\" } are not used.\n",
      "\n",
      "[00:18:02] WARNING: C:\\buildkite-agent\\builds\\buildkite-windows-cpu-autoscaling-group-i-07593ffd91cd9da33-1\\xgboost\\xgboost-ci-windows\\src\\learner.cc:767: \n",
      "Parameters: { \"num_classes\" } are not used.\n",
      "\n",
      "[00:18:06] WARNING: C:\\buildkite-agent\\builds\\buildkite-windows-cpu-autoscaling-group-i-07593ffd91cd9da33-1\\xgboost\\xgboost-ci-windows\\src\\learner.cc:767: \n",
      "Parameters: { \"num_classes\" } are not used.\n",
      "\n",
      "[00:18:10] WARNING: C:\\buildkite-agent\\builds\\buildkite-windows-cpu-autoscaling-group-i-07593ffd91cd9da33-1\\xgboost\\xgboost-ci-windows\\src\\learner.cc:767: \n",
      "Parameters: { \"num_classes\" } are not used.\n",
      "\n",
      "[00:18:15] WARNING: C:\\buildkite-agent\\builds\\buildkite-windows-cpu-autoscaling-group-i-07593ffd91cd9da33-1\\xgboost\\xgboost-ci-windows\\src\\learner.cc:767: \n",
      "Parameters: { \"num_classes\" } are not used.\n",
      "\n",
      "[00:18:20] WARNING: C:\\buildkite-agent\\builds\\buildkite-windows-cpu-autoscaling-group-i-07593ffd91cd9da33-1\\xgboost\\xgboost-ci-windows\\src\\learner.cc:767: \n",
      "Parameters: { \"num_classes\" } are not used.\n",
      "\n",
      "[00:18:24] WARNING: C:\\buildkite-agent\\builds\\buildkite-windows-cpu-autoscaling-group-i-07593ffd91cd9da33-1\\xgboost\\xgboost-ci-windows\\src\\learner.cc:767: \n",
      "Parameters: { \"num_classes\" } are not used.\n",
      "\n",
      "[00:18:29] WARNING: C:\\buildkite-agent\\builds\\buildkite-windows-cpu-autoscaling-group-i-07593ffd91cd9da33-1\\xgboost\\xgboost-ci-windows\\src\\learner.cc:767: \n",
      "Parameters: { \"num_classes\" } are not used.\n",
      "\n",
      "[00:18:34] WARNING: C:\\buildkite-agent\\builds\\buildkite-windows-cpu-autoscaling-group-i-07593ffd91cd9da33-1\\xgboost\\xgboost-ci-windows\\src\\learner.cc:767: \n",
      "Parameters: { \"num_classes\" } are not used.\n",
      "\n",
      "[00:18:37] WARNING: C:\\buildkite-agent\\builds\\buildkite-windows-cpu-autoscaling-group-i-07593ffd91cd9da33-1\\xgboost\\xgboost-ci-windows\\src\\learner.cc:767: \n",
      "Parameters: { \"num_classes\" } are not used.\n",
      "\n",
      "[00:18:40] WARNING: C:\\buildkite-agent\\builds\\buildkite-windows-cpu-autoscaling-group-i-07593ffd91cd9da33-1\\xgboost\\xgboost-ci-windows\\src\\learner.cc:767: \n",
      "Parameters: { \"num_classes\" } are not used.\n",
      "\n",
      "[00:18:44] WARNING: C:\\buildkite-agent\\builds\\buildkite-windows-cpu-autoscaling-group-i-07593ffd91cd9da33-1\\xgboost\\xgboost-ci-windows\\src\\learner.cc:767: \n",
      "Parameters: { \"num_classes\" } are not used.\n",
      "\n",
      "[00:18:47] WARNING: C:\\buildkite-agent\\builds\\buildkite-windows-cpu-autoscaling-group-i-07593ffd91cd9da33-1\\xgboost\\xgboost-ci-windows\\src\\learner.cc:767: \n",
      "Parameters: { \"num_classes\" } are not used.\n",
      "\n",
      "[00:18:50] WARNING: C:\\buildkite-agent\\builds\\buildkite-windows-cpu-autoscaling-group-i-07593ffd91cd9da33-1\\xgboost\\xgboost-ci-windows\\src\\learner.cc:767: \n",
      "Parameters: { \"num_classes\" } are not used.\n",
      "\n",
      "[00:18:54] WARNING: C:\\buildkite-agent\\builds\\buildkite-windows-cpu-autoscaling-group-i-07593ffd91cd9da33-1\\xgboost\\xgboost-ci-windows\\src\\learner.cc:767: \n",
      "Parameters: { \"num_classes\" } are not used.\n",
      "\n",
      "[00:18:58] WARNING: C:\\buildkite-agent\\builds\\buildkite-windows-cpu-autoscaling-group-i-07593ffd91cd9da33-1\\xgboost\\xgboost-ci-windows\\src\\learner.cc:767: \n",
      "Parameters: { \"num_classes\" } are not used.\n",
      "\n",
      "[00:19:01] WARNING: C:\\buildkite-agent\\builds\\buildkite-windows-cpu-autoscaling-group-i-07593ffd91cd9da33-1\\xgboost\\xgboost-ci-windows\\src\\learner.cc:767: \n",
      "Parameters: { \"num_classes\" } are not used.\n",
      "\n",
      "[00:19:05] WARNING: C:\\buildkite-agent\\builds\\buildkite-windows-cpu-autoscaling-group-i-07593ffd91cd9da33-1\\xgboost\\xgboost-ci-windows\\src\\learner.cc:767: \n",
      "Parameters: { \"num_classes\" } are not used.\n",
      "\n",
      "[00:19:09] WARNING: C:\\buildkite-agent\\builds\\buildkite-windows-cpu-autoscaling-group-i-07593ffd91cd9da33-1\\xgboost\\xgboost-ci-windows\\src\\learner.cc:767: \n",
      "Parameters: { \"num_classes\" } are not used.\n",
      "\n",
      "[00:19:14] WARNING: C:\\buildkite-agent\\builds\\buildkite-windows-cpu-autoscaling-group-i-07593ffd91cd9da33-1\\xgboost\\xgboost-ci-windows\\src\\learner.cc:767: \n",
      "Parameters: { \"num_classes\" } are not used.\n",
      "\n",
      "[00:19:19] WARNING: C:\\buildkite-agent\\builds\\buildkite-windows-cpu-autoscaling-group-i-07593ffd91cd9da33-1\\xgboost\\xgboost-ci-windows\\src\\learner.cc:767: \n",
      "Parameters: { \"num_classes\" } are not used.\n",
      "\n",
      "[00:19:23] WARNING: C:\\buildkite-agent\\builds\\buildkite-windows-cpu-autoscaling-group-i-07593ffd91cd9da33-1\\xgboost\\xgboost-ci-windows\\src\\learner.cc:767: \n",
      "Parameters: { \"num_classes\" } are not used.\n",
      "\n",
      "[00:19:28] WARNING: C:\\buildkite-agent\\builds\\buildkite-windows-cpu-autoscaling-group-i-07593ffd91cd9da33-1\\xgboost\\xgboost-ci-windows\\src\\learner.cc:767: \n",
      "Parameters: { \"num_classes\" } are not used.\n",
      "\n",
      "[00:19:32] WARNING: C:\\buildkite-agent\\builds\\buildkite-windows-cpu-autoscaling-group-i-07593ffd91cd9da33-1\\xgboost\\xgboost-ci-windows\\src\\learner.cc:767: \n",
      "Parameters: { \"num_classes\" } are not used.\n",
      "\n",
      "[00:19:37] WARNING: C:\\buildkite-agent\\builds\\buildkite-windows-cpu-autoscaling-group-i-07593ffd91cd9da33-1\\xgboost\\xgboost-ci-windows\\src\\learner.cc:767: \n",
      "Parameters: { \"num_classes\" } are not used.\n",
      "\n",
      "[00:19:41] WARNING: C:\\buildkite-agent\\builds\\buildkite-windows-cpu-autoscaling-group-i-07593ffd91cd9da33-1\\xgboost\\xgboost-ci-windows\\src\\learner.cc:767: \n",
      "Parameters: { \"num_classes\" } are not used.\n",
      "\n",
      "[00:19:46] WARNING: C:\\buildkite-agent\\builds\\buildkite-windows-cpu-autoscaling-group-i-07593ffd91cd9da33-1\\xgboost\\xgboost-ci-windows\\src\\learner.cc:767: \n",
      "Parameters: { \"num_classes\" } are not used.\n",
      "\n",
      "[00:19:50] WARNING: C:\\buildkite-agent\\builds\\buildkite-windows-cpu-autoscaling-group-i-07593ffd91cd9da33-1\\xgboost\\xgboost-ci-windows\\src\\learner.cc:767: \n",
      "Parameters: { \"num_classes\" } are not used.\n",
      "\n",
      "[00:19:55] WARNING: C:\\buildkite-agent\\builds\\buildkite-windows-cpu-autoscaling-group-i-07593ffd91cd9da33-1\\xgboost\\xgboost-ci-windows\\src\\learner.cc:767: \n",
      "Parameters: { \"num_classes\" } are not used.\n",
      "\n"
     ]
    },
    {
     "data": {
      "text/html": [
       "<style>#sk-container-id-5 {color: black;background-color: white;}#sk-container-id-5 pre{padding: 0;}#sk-container-id-5 div.sk-toggleable {background-color: white;}#sk-container-id-5 label.sk-toggleable__label {cursor: pointer;display: block;width: 100%;margin-bottom: 0;padding: 0.3em;box-sizing: border-box;text-align: center;}#sk-container-id-5 label.sk-toggleable__label-arrow:before {content: \"▸\";float: left;margin-right: 0.25em;color: #696969;}#sk-container-id-5 label.sk-toggleable__label-arrow:hover:before {color: black;}#sk-container-id-5 div.sk-estimator:hover label.sk-toggleable__label-arrow:before {color: black;}#sk-container-id-5 div.sk-toggleable__content {max-height: 0;max-width: 0;overflow: hidden;text-align: left;background-color: #f0f8ff;}#sk-container-id-5 div.sk-toggleable__content pre {margin: 0.2em;color: black;border-radius: 0.25em;background-color: #f0f8ff;}#sk-container-id-5 input.sk-toggleable__control:checked~div.sk-toggleable__content {max-height: 200px;max-width: 100%;overflow: auto;}#sk-container-id-5 input.sk-toggleable__control:checked~label.sk-toggleable__label-arrow:before {content: \"▾\";}#sk-container-id-5 div.sk-estimator input.sk-toggleable__control:checked~label.sk-toggleable__label {background-color: #d4ebff;}#sk-container-id-5 div.sk-label input.sk-toggleable__control:checked~label.sk-toggleable__label {background-color: #d4ebff;}#sk-container-id-5 input.sk-hidden--visually {border: 0;clip: rect(1px 1px 1px 1px);clip: rect(1px, 1px, 1px, 1px);height: 1px;margin: -1px;overflow: hidden;padding: 0;position: absolute;width: 1px;}#sk-container-id-5 div.sk-estimator {font-family: monospace;background-color: #f0f8ff;border: 1px dotted black;border-radius: 0.25em;box-sizing: border-box;margin-bottom: 0.5em;}#sk-container-id-5 div.sk-estimator:hover {background-color: #d4ebff;}#sk-container-id-5 div.sk-parallel-item::after {content: \"\";width: 100%;border-bottom: 1px solid gray;flex-grow: 1;}#sk-container-id-5 div.sk-label:hover label.sk-toggleable__label {background-color: #d4ebff;}#sk-container-id-5 div.sk-serial::before {content: \"\";position: absolute;border-left: 1px solid gray;box-sizing: border-box;top: 0;bottom: 0;left: 50%;z-index: 0;}#sk-container-id-5 div.sk-serial {display: flex;flex-direction: column;align-items: center;background-color: white;padding-right: 0.2em;padding-left: 0.2em;position: relative;}#sk-container-id-5 div.sk-item {position: relative;z-index: 1;}#sk-container-id-5 div.sk-parallel {display: flex;align-items: stretch;justify-content: center;background-color: white;position: relative;}#sk-container-id-5 div.sk-item::before, #sk-container-id-5 div.sk-parallel-item::before {content: \"\";position: absolute;border-left: 1px solid gray;box-sizing: border-box;top: 0;bottom: 0;left: 50%;z-index: -1;}#sk-container-id-5 div.sk-parallel-item {display: flex;flex-direction: column;z-index: 1;position: relative;background-color: white;}#sk-container-id-5 div.sk-parallel-item:first-child::after {align-self: flex-end;width: 50%;}#sk-container-id-5 div.sk-parallel-item:last-child::after {align-self: flex-start;width: 50%;}#sk-container-id-5 div.sk-parallel-item:only-child::after {width: 0;}#sk-container-id-5 div.sk-dashed-wrapped {border: 1px dashed gray;margin: 0 0.4em 0.5em 0.4em;box-sizing: border-box;padding-bottom: 0.4em;background-color: white;}#sk-container-id-5 div.sk-label label {font-family: monospace;font-weight: bold;display: inline-block;line-height: 1.2em;}#sk-container-id-5 div.sk-label-container {text-align: center;}#sk-container-id-5 div.sk-container {/* jupyter's `normalize.less` sets `[hidden] { display: none; }` but bootstrap.min.css set `[hidden] { display: none !important; }` so we also need the `!important` here to be able to override the default hidden behavior on the sphinx rendered scikit-learn.org. See: https://github.com/scikit-learn/scikit-learn/issues/21755 */display: inline-block !important;position: relative;}#sk-container-id-5 div.sk-text-repr-fallback {display: none;}</style><div id=\"sk-container-id-5\" class=\"sk-top-container\"><div class=\"sk-text-repr-fallback\"><pre>GridSearchCV(cv=StratifiedKFold(n_splits=5, random_state=None, shuffle=True),\n",
       "             estimator=Pipeline(steps=[(&#x27;preprocessing&#x27;,\n",
       "                                        Pipeline(steps=[(&#x27;imputer&#x27;,\n",
       "                                                         SimpleImputer(strategy=&#x27;most_frequent&#x27;)),\n",
       "                                                        (&#x27;ct&#x27;,\n",
       "                                                         ColumnTransformer(remainder=&#x27;passthrough&#x27;,\n",
       "                                                                           transformers=[(&#x27;ohe&#x27;,\n",
       "                                                                                          OneHotEncoder(sparse_output=False),\n",
       "                                                                                          [0])])),\n",
       "                                                        (&#x27;scaler&#x27;,\n",
       "                                                         StandardScaler())])),\n",
       "                                       (&#x27;classifier&#x27;,\n",
       "                                        XGBClas...\n",
       "                                                      max_cat_threshold=None,\n",
       "                                                      max_cat_to_onehot=None,\n",
       "                                                      max_delta_step=None,\n",
       "                                                      max_depth=None,\n",
       "                                                      max_leaves=None,\n",
       "                                                      min_child_weight=None,\n",
       "                                                      missing=nan,\n",
       "                                                      monotone_constraints=None,\n",
       "                                                      n_estimators=10,\n",
       "                                                      n_jobs=None,\n",
       "                                                      num_classes=6,\n",
       "                                                      num_parallel_tree=None,\n",
       "                                                      objective=&#x27;multi:softmax&#x27;, ...))]),\n",
       "             param_grid={&#x27;classifier__learning_rate&#x27;: [0.1, 0.25, 0.5, 1.0],\n",
       "                         &#x27;classifier__max_depth&#x27;: [12, 15, 18, 20]})</pre><b>In a Jupyter environment, please rerun this cell to show the HTML representation or trust the notebook. <br />On GitHub, the HTML representation is unable to render, please try loading this page with nbviewer.org.</b></div><div class=\"sk-container\" hidden><div class=\"sk-item sk-dashed-wrapped\"><div class=\"sk-label-container\"><div class=\"sk-label sk-toggleable\"><input class=\"sk-toggleable__control sk-hidden--visually\" id=\"sk-estimator-id-35\" type=\"checkbox\" ><label for=\"sk-estimator-id-35\" class=\"sk-toggleable__label sk-toggleable__label-arrow\">GridSearchCV</label><div class=\"sk-toggleable__content\"><pre>GridSearchCV(cv=StratifiedKFold(n_splits=5, random_state=None, shuffle=True),\n",
       "             estimator=Pipeline(steps=[(&#x27;preprocessing&#x27;,\n",
       "                                        Pipeline(steps=[(&#x27;imputer&#x27;,\n",
       "                                                         SimpleImputer(strategy=&#x27;most_frequent&#x27;)),\n",
       "                                                        (&#x27;ct&#x27;,\n",
       "                                                         ColumnTransformer(remainder=&#x27;passthrough&#x27;,\n",
       "                                                                           transformers=[(&#x27;ohe&#x27;,\n",
       "                                                                                          OneHotEncoder(sparse_output=False),\n",
       "                                                                                          [0])])),\n",
       "                                                        (&#x27;scaler&#x27;,\n",
       "                                                         StandardScaler())])),\n",
       "                                       (&#x27;classifier&#x27;,\n",
       "                                        XGBClas...\n",
       "                                                      max_cat_threshold=None,\n",
       "                                                      max_cat_to_onehot=None,\n",
       "                                                      max_delta_step=None,\n",
       "                                                      max_depth=None,\n",
       "                                                      max_leaves=None,\n",
       "                                                      min_child_weight=None,\n",
       "                                                      missing=nan,\n",
       "                                                      monotone_constraints=None,\n",
       "                                                      n_estimators=10,\n",
       "                                                      n_jobs=None,\n",
       "                                                      num_classes=6,\n",
       "                                                      num_parallel_tree=None,\n",
       "                                                      objective=&#x27;multi:softmax&#x27;, ...))]),\n",
       "             param_grid={&#x27;classifier__learning_rate&#x27;: [0.1, 0.25, 0.5, 1.0],\n",
       "                         &#x27;classifier__max_depth&#x27;: [12, 15, 18, 20]})</pre></div></div></div><div class=\"sk-parallel\"><div class=\"sk-parallel-item\"><div class=\"sk-item\"><div class=\"sk-label-container\"><div class=\"sk-label sk-toggleable\"><input class=\"sk-toggleable__control sk-hidden--visually\" id=\"sk-estimator-id-36\" type=\"checkbox\" ><label for=\"sk-estimator-id-36\" class=\"sk-toggleable__label sk-toggleable__label-arrow\">estimator: Pipeline</label><div class=\"sk-toggleable__content\"><pre>Pipeline(steps=[(&#x27;preprocessing&#x27;,\n",
       "                 Pipeline(steps=[(&#x27;imputer&#x27;,\n",
       "                                  SimpleImputer(strategy=&#x27;most_frequent&#x27;)),\n",
       "                                 (&#x27;ct&#x27;,\n",
       "                                  ColumnTransformer(remainder=&#x27;passthrough&#x27;,\n",
       "                                                    transformers=[(&#x27;ohe&#x27;,\n",
       "                                                                   OneHotEncoder(sparse_output=False),\n",
       "                                                                   [0])])),\n",
       "                                 (&#x27;scaler&#x27;, StandardScaler())])),\n",
       "                (&#x27;classifier&#x27;,\n",
       "                 XGBClassifier(base_score=None, booster=None, callbacks=None,\n",
       "                               colsample_bylevel=None, colsample_b...\n",
       "                               grow_policy=None, importance_type=None,\n",
       "                               interaction_constraints=None, learning_rate=None,\n",
       "                               max_bin=None, max_cat_threshold=None,\n",
       "                               max_cat_to_onehot=None, max_delta_step=None,\n",
       "                               max_depth=None, max_leaves=None,\n",
       "                               min_child_weight=None, missing=nan,\n",
       "                               monotone_constraints=None, n_estimators=10,\n",
       "                               n_jobs=None, num_classes=6,\n",
       "                               num_parallel_tree=None,\n",
       "                               objective=&#x27;multi:softmax&#x27;, ...))])</pre></div></div></div><div class=\"sk-serial\"><div class=\"sk-item\"><div class=\"sk-serial\"><div class=\"sk-item\"><div class=\"sk-label-container\"><div class=\"sk-label sk-toggleable\"><input class=\"sk-toggleable__control sk-hidden--visually\" id=\"sk-estimator-id-37\" type=\"checkbox\" ><label for=\"sk-estimator-id-37\" class=\"sk-toggleable__label sk-toggleable__label-arrow\">preprocessing: Pipeline</label><div class=\"sk-toggleable__content\"><pre>Pipeline(steps=[(&#x27;imputer&#x27;, SimpleImputer(strategy=&#x27;most_frequent&#x27;)),\n",
       "                (&#x27;ct&#x27;,\n",
       "                 ColumnTransformer(remainder=&#x27;passthrough&#x27;,\n",
       "                                   transformers=[(&#x27;ohe&#x27;,\n",
       "                                                  OneHotEncoder(sparse_output=False),\n",
       "                                                  [0])])),\n",
       "                (&#x27;scaler&#x27;, StandardScaler())])</pre></div></div></div><div class=\"sk-serial\"><div class=\"sk-item\"><div class=\"sk-estimator sk-toggleable\"><input class=\"sk-toggleable__control sk-hidden--visually\" id=\"sk-estimator-id-38\" type=\"checkbox\" ><label for=\"sk-estimator-id-38\" class=\"sk-toggleable__label sk-toggleable__label-arrow\">SimpleImputer</label><div class=\"sk-toggleable__content\"><pre>SimpleImputer(strategy=&#x27;most_frequent&#x27;)</pre></div></div></div><div class=\"sk-item sk-dashed-wrapped\"><div class=\"sk-label-container\"><div class=\"sk-label sk-toggleable\"><input class=\"sk-toggleable__control sk-hidden--visually\" id=\"sk-estimator-id-39\" type=\"checkbox\" ><label for=\"sk-estimator-id-39\" class=\"sk-toggleable__label sk-toggleable__label-arrow\">ct: ColumnTransformer</label><div class=\"sk-toggleable__content\"><pre>ColumnTransformer(remainder=&#x27;passthrough&#x27;,\n",
       "                  transformers=[(&#x27;ohe&#x27;, OneHotEncoder(sparse_output=False),\n",
       "                                 [0])])</pre></div></div></div><div class=\"sk-parallel\"><div class=\"sk-parallel-item\"><div class=\"sk-item\"><div class=\"sk-label-container\"><div class=\"sk-label sk-toggleable\"><input class=\"sk-toggleable__control sk-hidden--visually\" id=\"sk-estimator-id-40\" type=\"checkbox\" ><label for=\"sk-estimator-id-40\" class=\"sk-toggleable__label sk-toggleable__label-arrow\">ohe</label><div class=\"sk-toggleable__content\"><pre>[0]</pre></div></div></div><div class=\"sk-serial\"><div class=\"sk-item\"><div class=\"sk-estimator sk-toggleable\"><input class=\"sk-toggleable__control sk-hidden--visually\" id=\"sk-estimator-id-41\" type=\"checkbox\" ><label for=\"sk-estimator-id-41\" class=\"sk-toggleable__label sk-toggleable__label-arrow\">OneHotEncoder</label><div class=\"sk-toggleable__content\"><pre>OneHotEncoder(sparse_output=False)</pre></div></div></div></div></div></div><div class=\"sk-parallel-item\"><div class=\"sk-item\"><div class=\"sk-label-container\"><div class=\"sk-label sk-toggleable\"><input class=\"sk-toggleable__control sk-hidden--visually\" id=\"sk-estimator-id-42\" type=\"checkbox\" ><label for=\"sk-estimator-id-42\" class=\"sk-toggleable__label sk-toggleable__label-arrow\">remainder</label><div class=\"sk-toggleable__content\"><pre></pre></div></div></div><div class=\"sk-serial\"><div class=\"sk-item\"><div class=\"sk-estimator sk-toggleable\"><input class=\"sk-toggleable__control sk-hidden--visually\" id=\"sk-estimator-id-43\" type=\"checkbox\" ><label for=\"sk-estimator-id-43\" class=\"sk-toggleable__label sk-toggleable__label-arrow\">passthrough</label><div class=\"sk-toggleable__content\"><pre>passthrough</pre></div></div></div></div></div></div></div></div><div class=\"sk-item\"><div class=\"sk-estimator sk-toggleable\"><input class=\"sk-toggleable__control sk-hidden--visually\" id=\"sk-estimator-id-44\" type=\"checkbox\" ><label for=\"sk-estimator-id-44\" class=\"sk-toggleable__label sk-toggleable__label-arrow\">StandardScaler</label><div class=\"sk-toggleable__content\"><pre>StandardScaler()</pre></div></div></div></div></div><div class=\"sk-item\"><div class=\"sk-estimator sk-toggleable\"><input class=\"sk-toggleable__control sk-hidden--visually\" id=\"sk-estimator-id-45\" type=\"checkbox\" ><label for=\"sk-estimator-id-45\" class=\"sk-toggleable__label sk-toggleable__label-arrow\">XGBClassifier</label><div class=\"sk-toggleable__content\"><pre>XGBClassifier(base_score=None, booster=None, callbacks=None,\n",
       "              colsample_bylevel=None, colsample_bynode=None,\n",
       "              colsample_bytree=None, early_stopping_rounds=None,\n",
       "              enable_categorical=False, eval_metric=None, feature_types=None,\n",
       "              gamma=None, gpu_id=None, grow_policy=None, importance_type=None,\n",
       "              interaction_constraints=None, learning_rate=None, max_bin=None,\n",
       "              max_cat_threshold=None, max_cat_to_onehot=None,\n",
       "              max_delta_step=None, max_depth=None, max_leaves=None,\n",
       "              min_child_weight=None, missing=nan, monotone_constraints=None,\n",
       "              n_estimators=10, n_jobs=None, num_classes=6,\n",
       "              num_parallel_tree=None, objective=&#x27;multi:softmax&#x27;, ...)</pre></div></div></div></div></div></div></div></div></div></div></div></div>"
      ],
      "text/plain": [
       "GridSearchCV(cv=StratifiedKFold(n_splits=5, random_state=None, shuffle=True),\n",
       "             estimator=Pipeline(steps=[('preprocessing',\n",
       "                                        Pipeline(steps=[('imputer',\n",
       "                                                         SimpleImputer(strategy='most_frequent')),\n",
       "                                                        ('ct',\n",
       "                                                         ColumnTransformer(remainder='passthrough',\n",
       "                                                                           transformers=[('ohe',\n",
       "                                                                                          OneHotEncoder(sparse_output=False),\n",
       "                                                                                          [0])])),\n",
       "                                                        ('scaler',\n",
       "                                                         StandardScaler())])),\n",
       "                                       ('classifier',\n",
       "                                        XGBClas...\n",
       "                                                      max_cat_threshold=None,\n",
       "                                                      max_cat_to_onehot=None,\n",
       "                                                      max_delta_step=None,\n",
       "                                                      max_depth=None,\n",
       "                                                      max_leaves=None,\n",
       "                                                      min_child_weight=None,\n",
       "                                                      missing=nan,\n",
       "                                                      monotone_constraints=None,\n",
       "                                                      n_estimators=10,\n",
       "                                                      n_jobs=None,\n",
       "                                                      num_classes=6,\n",
       "                                                      num_parallel_tree=None,\n",
       "                                                      objective='multi:softmax', ...))]),\n",
       "             param_grid={'classifier__learning_rate': [0.1, 0.25, 0.5, 1.0],\n",
       "                         'classifier__max_depth': [12, 15, 18, 20]})"
      ]
     },
     "execution_count": 130,
     "metadata": {},
     "output_type": "execute_result"
    }
   ],
   "source": [
    "model.fit(X_train, y_train_ord)"
   ]
  },
  {
   "cell_type": "code",
   "execution_count": 131,
   "id": "1b7014f7-c819-4a9c-9d2d-d02644490aee",
   "metadata": {
    "tags": []
   },
   "outputs": [
    {
     "data": {
      "text/plain": [
       "{'classifier__learning_rate': 0.5, 'classifier__max_depth': 15}"
      ]
     },
     "execution_count": 131,
     "metadata": {},
     "output_type": "execute_result"
    }
   ],
   "source": [
    "model.best_params_"
   ]
  },
  {
   "cell_type": "code",
   "execution_count": 132,
   "id": "c67a013b-09cb-4e53-838b-1c37d0589ab9",
   "metadata": {
    "tags": []
   },
   "outputs": [
    {
     "data": {
      "text/plain": [
       "[0.9597713317806479, 0.851063829787234]"
      ]
     },
     "execution_count": 132,
     "metadata": {},
     "output_type": "execute_result"
    }
   ],
   "source": [
    "[accuracy_score(model.predict(X_train), y_train_ord), accuracy_score(model.predict(X_test), y_test_ord)]"
   ]
  },
  {
   "cell_type": "code",
   "execution_count": 134,
   "id": "e80716d9-d4e6-4fb1-9514-c7a7675f42ac",
   "metadata": {
    "tags": []
   },
   "outputs": [
    {
     "data": {
      "text/plain": [
       "<matplotlib.collections.PolyCollection at 0x1ea35590fd0>"
      ]
     },
     "execution_count": 134,
     "metadata": {},
     "output_type": "execute_result"
    },
    {
     "data": {
      "image/png": "[encoded data removed]",
      "text/plain": [
       "<Figure size 640x480 with 1 Axes>"
      ]
     },
     "metadata": {},
     "output_type": "display_data"
    }
   ],
   "source": [
    "heatmap(model.cv_results_['mean_test_score'].reshape(4, 4), xlabel='classifier__max_depth', xticklabels=param_grid['classifier__max_depth'], \n",
    "        ylabel='classifier__learning_rate', yticklabels=param_grid['classifier__learning_rate'], cmap=\"viridis\")\n"
   ]
  },
  {
   "cell_type": "code",
   "execution_count": 135,
   "id": "d5103663-b54e-4835-8be3-458c21555ccc",
   "metadata": {
    "tags": []
   },
   "outputs": [
    {
     "data": {
      "text/plain": [
       "array([[0.83813243, 0.84009101, 0.84170544, 0.84167899],\n",
       "       [0.84334631, 0.84339928, 0.84382278, 0.84294936],\n",
       "       [0.84453733, 0.84490795, 0.84477559, 0.84490792],\n",
       "       [0.84024979, 0.84009097, 0.84077917, 0.83911184]])"
      ]
     },
     "execution_count": 135,
     "metadata": {},
     "output_type": "execute_result"
    }
   ],
   "source": [
    "model.cv_results_['mean_test_score'].reshape(4, 4)"
   ]
  },
  {
   "cell_type": "code",
   "execution_count": 136,
   "id": "77ae6a44-0920-4b23-989a-4958af1f0a56",
   "metadata": {
    "tags": []
   },
   "outputs": [],
   "source": [
    "values.append([accuracy_score(model.predict(X_train), y_train_ord), accuracy_score(model.predict(X_test), y_test_ord)])"
   ]
  },
  {
   "cell_type": "code",
   "execution_count": 137,
   "id": "dab7500d-3aa4-4732-8ab8-8accefd618f9",
   "metadata": {
    "tags": []
   },
   "outputs": [],
   "source": [
    "labels.append('xgb')"
   ]
  },
  {
   "cell_type": "markdown",
   "id": "9c09305d-b441-48cd-b2c2-3c387e610696",
   "metadata": {},
   "source": [
    "## Podsumowanie"
   ]
  },
  {
   "cell_type": "code",
   "execution_count": 140,
   "id": "8d67c83e-5615-4c5f-9527-0dfa6a662dc8",
   "metadata": {
    "tags": []
   },
   "outputs": [
    {
     "data": {
      "text/plain": [
       "<matplotlib.legend.Legend at 0x1ea2a0ec610>"
      ]
     },
     "execution_count": 140,
     "metadata": {},
     "output_type": "execute_result"
    },
    {
     "data": {
      "image/png": "[encoded data removed]",
      "text/plain": [
       "<Figure size 640x480 with 1 Axes>"
      ]
     },
     "metadata": {},
     "output_type": "display_data"
    }
   ],
   "source": [
    "plt.plot(np.arange(len(values)), values)\n",
    "plt.xticks(ticks=np.arange(len(values)), labels=labels);\n",
    "plt.legend(['train', 'test'])"
   ]
  },
  {
   "cell_type": "code",
   "execution_count": null,
   "id": "0e8cbcef-db04-4a16-887a-dcf1fb752433",
   "metadata": {},
   "outputs": [],
   "source": []
  }
 ],
 "metadata": {
  "kernelspec": {
   "display_name": "Python 3 (ipykernel)",
   "language": "python",
   "name": "python3"
  },
  "language_info": {
   "codemirror_mode": {
    "name": "ipython",
    "version": 3
   },
   "file_extension": ".py",
   "mimetype": "text/x-python",
   "name": "python",
   "nbconvert_exporter": "python",
   "pygments_lexer": "ipython3",
   "version": "3.11.0"
  }
 },
 "nbformat": 4,
 "nbformat_minor": 5
}
